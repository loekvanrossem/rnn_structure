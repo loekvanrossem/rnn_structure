{
 "cells": [
  {
   "cell_type": "code",
   "execution_count": 4,
   "metadata": {},
   "outputs": [
    {
     "ename": "ModuleNotFoundError",
     "evalue": "No module named 'keras'",
     "output_type": "error",
     "traceback": [
      "\u001b[0;31m---------------------------------------------------------------------------\u001b[0m",
      "\u001b[0;31mModuleNotFoundError\u001b[0m                       Traceback (most recent call last)",
      "Cell \u001b[0;32mIn[4], line 3\u001b[0m\n\u001b[1;32m      1\u001b[0m \u001b[38;5;28;01mfrom\u001b[39;00m \u001b[38;5;21;01mrandom\u001b[39;00m \u001b[38;5;28;01mimport\u001b[39;00m randint\n\u001b[1;32m      2\u001b[0m \u001b[38;5;28;01mfrom\u001b[39;00m \u001b[38;5;21;01mnumpy\u001b[39;00m \u001b[38;5;28;01mimport\u001b[39;00m array\n\u001b[0;32m----> 3\u001b[0m \u001b[38;5;28;01mfrom\u001b[39;00m \u001b[38;5;21;01mkeras\u001b[39;00m\u001b[38;5;21;01m.\u001b[39;00m\u001b[38;5;21;01mmodels\u001b[39;00m \u001b[38;5;28;01mimport\u001b[39;00m Sequential\n\u001b[1;32m      4\u001b[0m \u001b[38;5;28;01mfrom\u001b[39;00m \u001b[38;5;21;01mkeras\u001b[39;00m\u001b[38;5;21;01m.\u001b[39;00m\u001b[38;5;21;01mlayers\u001b[39;00m \u001b[38;5;28;01mimport\u001b[39;00m Dense\n\u001b[1;32m      5\u001b[0m \u001b[38;5;28;01mfrom\u001b[39;00m \u001b[38;5;21;01mkeras\u001b[39;00m\u001b[38;5;21;01m.\u001b[39;00m\u001b[38;5;21;01mlayers\u001b[39;00m \u001b[38;5;28;01mimport\u001b[39;00m LSTM\n",
      "\u001b[0;31mModuleNotFoundError\u001b[0m: No module named 'keras'"
     ]
    }
   ],
   "source": [
    "from random import randint\n",
    "from numpy import array\n",
    "from keras.models import Sequential\n",
    "from keras.layers import Dense\n",
    "from keras.layers import LSTM\n",
    "from math import sqrt\n",
    "from sklearn.metrics import mean_squared_error\n",
    "\n",
    "\n",
    "# generate examples of random integers and their sum\n",
    "def random_sum_pairs(n_examples, n_numbers, largest):\n",
    "    X, y = list(), list()\n",
    "    for i in range(n_examples):\n",
    "        in_pattern = [randint(1, largest) for _ in range(n_numbers)]\n",
    "        out_pattern = sum(in_pattern)\n",
    "        X.append(in_pattern)\n",
    "        y.append(out_pattern)\n",
    "    # format as NumPy arrays\n",
    "    X, y = array(X), array(y)\n",
    "    # normalize\n",
    "    X = X.astype(\"float\") / float(largest * n_numbers)\n",
    "    y = y.astype(\"float\") / float(largest * n_numbers)\n",
    "    return X, y\n",
    "\n",
    "\n",
    "# invert normalization\n",
    "def invert(value, n_numbers, largest):\n",
    "    return round(value * float(largest * n_numbers))\n",
    "\n",
    "\n",
    "# generate training data\n",
    "seed(1)\n",
    "n_examples = 100\n",
    "n_numbers = 2\n",
    "largest = 100\n",
    "# define LSTM configuration\n",
    "n_batch = 1\n",
    "n_epoch = 100\n",
    "# create LSTM\n",
    "model = Sequential()\n",
    "model.add(LSTM(10, input_shape=(n_numbers, 1)))\n",
    "model.add(Dense(1))\n",
    "model.compile(loss=\"mean_squared_error\", optimizer=\"adam\")\n",
    "# train LSTM\n",
    "for _ in range(n_epoch):\n",
    "    X, y = random_sum_pairs(n_examples, n_numbers, largest)\n",
    "    X = X.reshape(n_examples, n_numbers, 1)\n",
    "    model.fit(X, y, epochs=1, batch_size=n_batch, verbose=2)\n",
    "# evaluate on some new patterns\n",
    "X, y = random_sum_pairs(n_examples, n_numbers, largest)\n",
    "X = X.reshape(n_examples, n_numbers, 1)\n",
    "result = model.predict(X, batch_size=n_batch, verbose=0)\n",
    "# calculate error\n",
    "expected = [invert(x, n_numbers, largest) for x in y]\n",
    "predicted = [invert(x, n_numbers, largest) for x in result[:, 0]]\n",
    "rmse = sqrt(mean_squared_error(expected, predicted))\n",
    "print(\"RMSE: %f\" % rmse)\n",
    "# show some examples\n",
    "for i in range(20):\n",
    "    error = expected[i] - predicted[i]\n",
    "    print(\"Expected=%d, Predicted=%d (err=%d)\" % (expected[i], predicted[i], error))"
   ]
  }
 ],
 "metadata": {
  "kernelspec": {
   "display_name": "rnn_structure",
   "language": "python",
   "name": "python3"
  },
  "language_info": {
   "codemirror_mode": {
    "name": "ipython",
    "version": 3
   },
   "file_extension": ".py",
   "mimetype": "text/x-python",
   "name": "python",
   "nbconvert_exporter": "python",
   "pygments_lexer": "ipython3",
   "version": "3.12.2"
  }
 },
 "nbformat": 4,
 "nbformat_minor": 2
}
