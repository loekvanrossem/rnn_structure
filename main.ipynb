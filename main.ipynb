{
 "cells": [
  {
   "cell_type": "code",
   "execution_count": 1,
   "metadata": {},
   "outputs": [
    {
     "name": "stdout",
     "output_type": "stream",
     "text": [
      "GPU is available\n"
     ]
    }
   ],
   "source": [
    "import torch\n",
    "from torch import nn\n",
    "\n",
    "import numpy as np\n",
    "from numpy import dtype\n",
    "import matplotlib.pyplot as plt\n",
    "\n",
    "from tqdm import trange\n",
    "\n",
    "import model\n",
    "from data import *\n",
    "from visualization import hidden_repr\n",
    "\n",
    "# torch.cuda.is_available() checks and returns a Boolean True if a GPU is available, else it'll return False\n",
    "is_cuda = torch.cuda.is_available()\n",
    "\n",
    "# If we have a GPU available, we'll set our device to GPU. We'll use this device variable later in our code.\n",
    "if is_cuda:\n",
    "    device = torch.device(\"cuda\")\n",
    "    print(\"GPU is available\")\n",
    "else:\n",
    "    device = torch.device(\"cpu\")\n",
    "    print(\"GPU not available, CPU used\")"
   ]
  },
  {
   "cell_type": "code",
   "execution_count": 2,
   "metadata": {},
   "outputs": [],
   "source": [
    "## Instantiate model\n",
    "model = model.Model(\n",
    "    input_size=1, output_size=1, hidden_dim=30, n_layers=1, device=device\n",
    ")\n",
    "\n",
    "## Generate data\n",
    "dataset_1 = XOR_data(device, n_datapoints=1000, seq_len=5)\n",
    "dataset_2 = XOR_data(device, n_datapoints=1000, seq_len=4)\n",
    "dataset_val_1 = XOR_data(device, n_datapoints=2, seq_len=30)\n",
    "dataset_val_2 = XOR_data(device, n_datapoints=10, seq_len=31)"
   ]
  },
  {
   "cell_type": "code",
   "execution_count": 72,
   "metadata": {},
   "outputs": [
    {
     "name": "stdout",
     "output_type": "stream",
     "text": [
      "Epoch: 10/200............. Loss: 0.00313 Validation Loss: 0.08371\n",
      "Epoch: 20/200............. Loss: 0.00019 Validation Loss: 0.05464\n",
      "Epoch: 30/200............. Loss: 0.00006 Validation Loss: 0.05099\n",
      "Epoch: 40/200............. Loss: 0.00002 Validation Loss: 0.04770\n",
      "Epoch: 50/200............. Loss: 0.00000 Validation Loss: 0.04774\n",
      "Epoch: 60/200............. Loss: 0.00000 Validation Loss: 0.04678\n",
      "Epoch: 70/200............. Loss: 0.00000 Validation Loss: 0.04628\n",
      "Epoch: 80/200............. Loss: 0.00000 Validation Loss: 0.04585\n",
      "Epoch: 90/200............. Loss: 0.00000 Validation Loss: 0.04545\n",
      "Epoch: 100/200............. Loss: 0.00000 Validation Loss: 0.04512\n",
      "Epoch: 110/200............. Loss: 0.00000 Validation Loss: 0.04484\n",
      "Epoch: 120/200............. Loss: 0.00000 Validation Loss: 0.04456\n",
      "Epoch: 130/200............. Loss: 0.00000 Validation Loss: 0.04433\n",
      "Epoch: 140/200............. Loss: 0.00000 Validation Loss: 0.04409\n",
      "Epoch: 150/200............. Loss: 0.00000 Validation Loss: 0.04386\n",
      "Epoch: 160/200............. Loss: 0.00000 Validation Loss: 0.04364\n",
      "Epoch: 170/200............. Loss: 0.00000 Validation Loss: 0.04346\n",
      "Epoch: 180/200............. Loss: 0.00000 Validation Loss: 0.04340\n",
      "Epoch: 190/200............. Loss: 0.00000 Validation Loss: 0.04323\n",
      "Epoch: 200/200............. Loss: 0.00000 Validation Loss: 0.04307\n"
     ]
    }
   ],
   "source": [
    "## Train\n",
    "\n",
    "# Define hyperparameters\n",
    "n_epochs = 200\n",
    "lr = 0.01\n",
    "\n",
    "# Define Loss, Optimizer\n",
    "criterion = nn.MSELoss()\n",
    "optimizer = torch.optim.Adam(model.parameters(), lr=lr)\n",
    "\n",
    "# Training run\n",
    "train_losses, val_losses, hidden_states = model.training_run(\n",
    "    optimizer,\n",
    "    criterion,\n",
    "    [dataset_1, dataset_2],\n",
    "    [dataset_val_1],\n",
    "    n_epochs=n_epochs,\n",
    "    batch_size=1000,\n",
    ")"
   ]
  },
  {
   "cell_type": "code",
   "execution_count": 59,
   "metadata": {},
   "outputs": [],
   "source": [
    "x = hidden_repr(hidden_states)"
   ]
  },
  {
   "cell_type": "code",
   "execution_count": 99,
   "metadata": {},
   "outputs": [
    {
     "name": "stdout",
     "output_type": "stream",
     "text": [
      "(2, 30)\n"
     ]
    },
    {
     "data": {
      "text/html": [
       "<div>\n",
       "<style scoped>\n",
       "    .dataframe tbody tr th:only-of-type {\n",
       "        vertical-align: middle;\n",
       "    }\n",
       "\n",
       "    .dataframe tbody tr th {\n",
       "        vertical-align: top;\n",
       "    }\n",
       "\n",
       "    .dataframe thead th {\n",
       "        text-align: right;\n",
       "    }\n",
       "</style>\n",
       "<table border=\"1\" class=\"dataframe\">\n",
       "  <thead>\n",
       "    <tr style=\"text-align: right;\">\n",
       "      <th></th>\n",
       "      <th></th>\n",
       "      <th>0</th>\n",
       "      <th>1</th>\n",
       "      <th>2</th>\n",
       "      <th>3</th>\n",
       "      <th>4</th>\n",
       "      <th>5</th>\n",
       "      <th>6</th>\n",
       "      <th>7</th>\n",
       "      <th>8</th>\n",
       "      <th>9</th>\n",
       "      <th>...</th>\n",
       "      <th>20</th>\n",
       "      <th>21</th>\n",
       "      <th>22</th>\n",
       "      <th>23</th>\n",
       "      <th>24</th>\n",
       "      <th>25</th>\n",
       "      <th>26</th>\n",
       "      <th>27</th>\n",
       "      <th>28</th>\n",
       "      <th>29</th>\n",
       "    </tr>\n",
       "  </thead>\n",
       "  <tbody>\n",
       "    <tr>\n",
       "      <th rowspan=\"2\" valign=\"top\">x</th>\n",
       "      <th>0</th>\n",
       "      <td>0.0</td>\n",
       "      <td>0.0</td>\n",
       "      <td>1.821681</td>\n",
       "      <td>0.0</td>\n",
       "      <td>0.0</td>\n",
       "      <td>0.0</td>\n",
       "      <td>0.0</td>\n",
       "      <td>0.0</td>\n",
       "      <td>0.883022</td>\n",
       "      <td>1.728288</td>\n",
       "      <td>...</td>\n",
       "      <td>0.0</td>\n",
       "      <td>0.0</td>\n",
       "      <td>0.000000</td>\n",
       "      <td>0.970421</td>\n",
       "      <td>0.0</td>\n",
       "      <td>0.617864</td>\n",
       "      <td>0.0</td>\n",
       "      <td>0.0</td>\n",
       "      <td>0.0</td>\n",
       "      <td>0.132279</td>\n",
       "    </tr>\n",
       "    <tr>\n",
       "      <th>1</th>\n",
       "      <td>0.0</td>\n",
       "      <td>0.0</td>\n",
       "      <td>3.364136</td>\n",
       "      <td>0.0</td>\n",
       "      <td>0.0</td>\n",
       "      <td>0.0</td>\n",
       "      <td>0.0</td>\n",
       "      <td>0.0</td>\n",
       "      <td>1.439717</td>\n",
       "      <td>1.203430</td>\n",
       "      <td>...</td>\n",
       "      <td>0.0</td>\n",
       "      <td>0.0</td>\n",
       "      <td>1.092613</td>\n",
       "      <td>2.501333</td>\n",
       "      <td>0.0</td>\n",
       "      <td>2.268714</td>\n",
       "      <td>0.0</td>\n",
       "      <td>0.0</td>\n",
       "      <td>0.0</td>\n",
       "      <td>0.000000</td>\n",
       "    </tr>\n",
       "    <tr>\n",
       "      <th rowspan=\"2\" valign=\"top\">y</th>\n",
       "      <th>0</th>\n",
       "      <td>0.0</td>\n",
       "      <td>0.0</td>\n",
       "      <td>1.980217</td>\n",
       "      <td>0.0</td>\n",
       "      <td>0.0</td>\n",
       "      <td>0.0</td>\n",
       "      <td>0.0</td>\n",
       "      <td>0.0</td>\n",
       "      <td>1.212734</td>\n",
       "      <td>1.817383</td>\n",
       "      <td>...</td>\n",
       "      <td>0.0</td>\n",
       "      <td>0.0</td>\n",
       "      <td>0.000000</td>\n",
       "      <td>1.374409</td>\n",
       "      <td>0.0</td>\n",
       "      <td>0.930560</td>\n",
       "      <td>0.0</td>\n",
       "      <td>0.0</td>\n",
       "      <td>0.0</td>\n",
       "      <td>0.595040</td>\n",
       "    </tr>\n",
       "    <tr>\n",
       "      <th>1</th>\n",
       "      <td>0.0</td>\n",
       "      <td>0.0</td>\n",
       "      <td>3.484852</td>\n",
       "      <td>0.0</td>\n",
       "      <td>0.0</td>\n",
       "      <td>0.0</td>\n",
       "      <td>0.0</td>\n",
       "      <td>0.0</td>\n",
       "      <td>1.502769</td>\n",
       "      <td>1.192481</td>\n",
       "      <td>...</td>\n",
       "      <td>0.0</td>\n",
       "      <td>0.0</td>\n",
       "      <td>0.742887</td>\n",
       "      <td>2.821934</td>\n",
       "      <td>0.0</td>\n",
       "      <td>2.330217</td>\n",
       "      <td>0.0</td>\n",
       "      <td>0.0</td>\n",
       "      <td>0.0</td>\n",
       "      <td>0.000000</td>\n",
       "    </tr>\n",
       "  </tbody>\n",
       "</table>\n",
       "<p>4 rows × 30 columns</p>\n",
       "</div>"
      ],
      "text/plain": [
       "      0    1         2    3    4    5    6    7         8         9   ...  \\\n",
       "x 0  0.0  0.0  1.821681  0.0  0.0  0.0  0.0  0.0  0.883022  1.728288  ...   \n",
       "  1  0.0  0.0  3.364136  0.0  0.0  0.0  0.0  0.0  1.439717  1.203430  ...   \n",
       "y 0  0.0  0.0  1.980217  0.0  0.0  0.0  0.0  0.0  1.212734  1.817383  ...   \n",
       "  1  0.0  0.0  3.484852  0.0  0.0  0.0  0.0  0.0  1.502769  1.192481  ...   \n",
       "\n",
       "      20   21        22        23   24        25   26   27   28        29  \n",
       "x 0  0.0  0.0  0.000000  0.970421  0.0  0.617864  0.0  0.0  0.0  0.132279  \n",
       "  1  0.0  0.0  1.092613  2.501333  0.0  2.268714  0.0  0.0  0.0  0.000000  \n",
       "y 0  0.0  0.0  0.000000  1.374409  0.0  0.930560  0.0  0.0  0.0  0.595040  \n",
       "  1  0.0  0.0  0.742887  2.821934  0.0  2.330217  0.0  0.0  0.0  0.000000  \n",
       "\n",
       "[4 rows x 30 columns]"
      ]
     },
     "execution_count": 99,
     "metadata": {},
     "output_type": "execute_result"
    }
   ],
   "source": [
    "X = np.array(hidden_states[0][0])\n",
    "Y = np.array(hidden_states[1][0])\n",
    "print(X.shape)\n",
    "# X.set_index([\"input\"])\n",
    "X = pd.DataFrame(X)\n",
    "Y = pd.DataFrame(Y)\n",
    "pd.concat([X,Y], keys=[\"x\", \"y\"])"
   ]
  },
  {
   "cell_type": "code",
   "execution_count": 57,
   "metadata": {},
   "outputs": [
    {
     "ename": "KeyError",
     "evalue": "\"None of ['A', 'B'] are in the columns\"",
     "output_type": "error",
     "traceback": [
      "\u001b[0;31m---------------------------------------------------------------------------\u001b[0m",
      "\u001b[0;31mKeyError\u001b[0m                                  Traceback (most recent call last)",
      "\u001b[1;32m/home/loek/projects/rnn/main.ipynb Cell 5\u001b[0m in \u001b[0;36m<cell line: 3>\u001b[0;34m()\u001b[0m\n\u001b[1;32m      <a href='vscode-notebook-cell://wsl%2Bubuntu-20.04/home/loek/projects/rnn/main.ipynb#X13sdnNjb2RlLXJlbW90ZQ%3D%3D?line=0'>1</a>\u001b[0m \u001b[39mimport\u001b[39;00m \u001b[39mpandas\u001b[39;00m \u001b[39mas\u001b[39;00m \u001b[39mpd\u001b[39;00m\n\u001b[1;32m      <a href='vscode-notebook-cell://wsl%2Bubuntu-20.04/home/loek/projects/rnn/main.ipynb#X13sdnNjb2RlLXJlbW90ZQ%3D%3D?line=1'>2</a>\u001b[0m x \u001b[39m=\u001b[39m pd\u001b[39m.\u001b[39mDataFrame([], columns\u001b[39m=\u001b[39m[\u001b[39m1\u001b[39m])\n\u001b[0;32m----> <a href='vscode-notebook-cell://wsl%2Bubuntu-20.04/home/loek/projects/rnn/main.ipynb#X13sdnNjb2RlLXJlbW90ZQ%3D%3D?line=2'>3</a>\u001b[0m x\u001b[39m.\u001b[39;49mset_index([\u001b[39m\"\u001b[39;49m\u001b[39mA\u001b[39;49m\u001b[39m\"\u001b[39;49m, \u001b[39m\"\u001b[39;49m\u001b[39mB\u001b[39;49m\u001b[39m\"\u001b[39;49m])\n\u001b[1;32m      <a href='vscode-notebook-cell://wsl%2Bubuntu-20.04/home/loek/projects/rnn/main.ipynb#X13sdnNjb2RlLXJlbW90ZQ%3D%3D?line=4'>5</a>\u001b[0m \u001b[39m# x.loc[\"a\"] = 1\u001b[39;00m\n\u001b[1;32m      <a href='vscode-notebook-cell://wsl%2Bubuntu-20.04/home/loek/projects/rnn/main.ipynb#X13sdnNjb2RlLXJlbW90ZQ%3D%3D?line=5'>6</a>\u001b[0m x\n",
      "File \u001b[0;32m~/miniconda3/envs/rnn/lib/python3.10/site-packages/pandas/util/_decorators.py:311\u001b[0m, in \u001b[0;36mdeprecate_nonkeyword_arguments.<locals>.decorate.<locals>.wrapper\u001b[0;34m(*args, **kwargs)\u001b[0m\n\u001b[1;32m    305\u001b[0m \u001b[39mif\u001b[39;00m \u001b[39mlen\u001b[39m(args) \u001b[39m>\u001b[39m num_allow_args:\n\u001b[1;32m    306\u001b[0m     warnings\u001b[39m.\u001b[39mwarn(\n\u001b[1;32m    307\u001b[0m         msg\u001b[39m.\u001b[39mformat(arguments\u001b[39m=\u001b[39marguments),\n\u001b[1;32m    308\u001b[0m         \u001b[39mFutureWarning\u001b[39;00m,\n\u001b[1;32m    309\u001b[0m         stacklevel\u001b[39m=\u001b[39mstacklevel,\n\u001b[1;32m    310\u001b[0m     )\n\u001b[0;32m--> 311\u001b[0m \u001b[39mreturn\u001b[39;00m func(\u001b[39m*\u001b[39;49margs, \u001b[39m*\u001b[39;49m\u001b[39m*\u001b[39;49mkwargs)\n",
      "File \u001b[0;32m~/miniconda3/envs/rnn/lib/python3.10/site-packages/pandas/core/frame.py:5503\u001b[0m, in \u001b[0;36mDataFrame.set_index\u001b[0;34m(self, keys, drop, append, inplace, verify_integrity)\u001b[0m\n\u001b[1;32m   5500\u001b[0m                 missing\u001b[39m.\u001b[39mappend(col)\n\u001b[1;32m   5502\u001b[0m \u001b[39mif\u001b[39;00m missing:\n\u001b[0;32m-> 5503\u001b[0m     \u001b[39mraise\u001b[39;00m \u001b[39mKeyError\u001b[39;00m(\u001b[39mf\u001b[39m\u001b[39m\"\u001b[39m\u001b[39mNone of \u001b[39m\u001b[39m{\u001b[39;00mmissing\u001b[39m}\u001b[39;00m\u001b[39m are in the columns\u001b[39m\u001b[39m\"\u001b[39m)\n\u001b[1;32m   5505\u001b[0m \u001b[39mif\u001b[39;00m inplace:\n\u001b[1;32m   5506\u001b[0m     frame \u001b[39m=\u001b[39m \u001b[39mself\u001b[39m\n",
      "\u001b[0;31mKeyError\u001b[0m: \"None of ['A', 'B'] are in the columns\""
     ]
    }
   ],
   "source": [
    "import pandas as pd\n",
    "x = pd.DataFrame([], columns=[1])\n",
    "x.set_index([\"A\", \"B\"])\n",
    "\n",
    "# x.loc[\"a\"] = 1\n",
    "x"
   ]
  },
  {
   "cell_type": "code",
   "execution_count": 5,
   "metadata": {},
   "outputs": [
    {
     "data": {
      "text/plain": [
       "<matplotlib.collections.PathCollection at 0x7f9f92b79cc0>"
      ]
     },
     "execution_count": 5,
     "metadata": {},
     "output_type": "execute_result"
    },
    {
     "data": {
      "image/png": "[encoded data removed]",
      "text/plain": [
       "<Figure size 640x480 with 1 Axes>"
      ]
     },
     "metadata": {},
     "output_type": "display_data"
    }
   ],
   "source": [
    "plt.scatter(x[:, 0], x[:, 1])"
   ]
  },
  {
   "cell_type": "code",
   "execution_count": 6,
   "metadata": {},
   "outputs": [
    {
     "data": {
      "image/png": "[encoded data removed]",
      "text/plain": [
       "<Figure size 640x480 with 1 Axes>"
      ]
     },
     "metadata": {},
     "output_type": "display_data"
    }
   ],
   "source": [
    "## Plot training and validation loss during training\n",
    "skip = 0\n",
    "plt.plot(train_losses[skip:], label=\"Training loss\")\n",
    "plt.plot(val_losses[skip:], label=\"Validation loss\")\n",
    "plt.legend(loc=\"upper left\")\n",
    "plt.xlabel(\"Epoch\")\n",
    "plt.ylim(0, 1)\n",
    "plt.show()"
   ]
  },
  {
   "cell_type": "code",
   "execution_count": 7,
   "metadata": {},
   "outputs": [
    {
     "name": "stderr",
     "output_type": "stream",
     "text": [
      "100%|██████████| 100/100 [00:04<00:00, 23.08it/s]\n"
     ]
    },
    {
     "data": {
      "image/png": "[encoded data removed]",
      "text/plain": [
       "<Figure size 640x480 with 1 Axes>"
      ]
     },
     "metadata": {},
     "output_type": "display_data"
    }
   ],
   "source": [
    "## Plot error per sequence length\n",
    "N = 100\n",
    "val_data = []\n",
    "for n in trange(1, N + 1):\n",
    "    val_data.append(XOR_data(device, n_datapoints=100, seq_len=n))\n",
    "val_err = np.array(model.validation(criterion, val_data))\n",
    "\n",
    "fig = plt.figure()\n",
    "ax = fig.add_axes([0, 0, 1, 1])\n",
    "ax.bar(np.arange(1, N + 1), val_err)\n",
    "ax.set_xlabel(\"Sequence lengths\")\n",
    "ax.set_ylabel(\"Validation error\")\n",
    "ax.set_yticks(np.arange(0, 1, 0.1))\n",
    "plt.show()"
   ]
  },
  {
   "cell_type": "code",
   "execution_count": 8,
   "metadata": {},
   "outputs": [],
   "source": [
    "def predict(model, sequence):\n",
    "    input = torch.unsqueeze(\n",
    "        torch.from_numpy(np.array([sequence], dtype=np.float32)), dim=2\n",
    "    ).to(device)\n",
    "    out, hidden = model(input)\n",
    "    return out"
   ]
  },
  {
   "cell_type": "code",
   "execution_count": 9,
   "metadata": {},
   "outputs": [
    {
     "name": "stdout",
     "output_type": "stream",
     "text": [
      "0.1937650889158249\n"
     ]
    }
   ],
   "source": [
    "print(float(predict(model, [1, 0, 1, 0, 1, 0, 0, 1])))"
   ]
  }
 ],
 "metadata": {
  "kernelspec": {
   "display_name": "Python 3.10.6 ('rnn')",
   "language": "python",
   "name": "python3"
  },
  "language_info": {
   "codemirror_mode": {
    "name": "ipython",
    "version": 3
   },
   "file_extension": ".py",
   "mimetype": "text/x-python",
   "name": "python",
   "nbconvert_exporter": "python",
   "pygments_lexer": "ipython3",
   "version": "3.10.6"
  },
  "orig_nbformat": 4,
  "vscode": {
   "interpreter": {
    "hash": "e02af9847f8f14625728f2f7147d07d87bda9043f1b0a8cf0822fa7c64756065"
   }
  }
 },
 "nbformat": 4,
 "nbformat_minor": 2
}
