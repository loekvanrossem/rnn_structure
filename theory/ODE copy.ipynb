{
 "cells": [
  {
   "cell_type": "code",
   "execution_count": 1,
   "metadata": {},
   "outputs": [],
   "source": [
    "import numpy as np\n",
    "from matplotlib import pyplot as plt\n",
    "\n",
    "from sympy import *"
   ]
  },
  {
   "cell_type": "code",
   "execution_count": null,
   "metadata": {},
   "outputs": [
    {
     "ename": "KeyError",
     "evalue": "F2_",
     "output_type": "error",
     "traceback": [
      "\u001b[0;31m---------------------------------------------------------------------------\u001b[0m",
      "\u001b[0;31mKeyError\u001b[0m                                  Traceback (most recent call last)",
      "Cell \u001b[0;32mIn[17], line 24\u001b[0m\n\u001b[1;32m      5\u001b[0m t \u001b[38;5;241m=\u001b[39m symbols(\u001b[38;5;124m\"\u001b[39m\u001b[38;5;124mt\u001b[39m\u001b[38;5;124m\"\u001b[39m)\n\u001b[1;32m      7\u001b[0m eqs \u001b[38;5;241m=\u001b[39m [\n\u001b[1;32m      8\u001b[0m     Eq(\n\u001b[1;32m      9\u001b[0m         h_1(t)\u001b[38;5;241m.\u001b[39mdiff(t),\n\u001b[0;32m   (...)\u001b[0m\n\u001b[1;32m     21\u001b[0m     ),\n\u001b[1;32m     22\u001b[0m ]\n\u001b[0;32m---> 24\u001b[0m h_1, h_2, y \u001b[38;5;241m=\u001b[39m \u001b[43mdsolve\u001b[49m\u001b[43m(\u001b[49m\u001b[43meqs\u001b[49m\u001b[43m,\u001b[49m\u001b[43m \u001b[49m\u001b[43m[\u001b[49m\u001b[43mh_1\u001b[49m\u001b[43m(\u001b[49m\u001b[43mt\u001b[49m\u001b[43m)\u001b[49m\u001b[43m,\u001b[49m\u001b[43m \u001b[49m\u001b[43mh_2\u001b[49m\u001b[43m(\u001b[49m\u001b[43mt\u001b[49m\u001b[43m)\u001b[49m\u001b[43m,\u001b[49m\u001b[43m \u001b[49m\u001b[43my\u001b[49m\u001b[43m(\u001b[49m\u001b[43mt\u001b[49m\u001b[43m)\u001b[49m\u001b[43m]\u001b[49m\u001b[43m)\u001b[49m\n\u001b[1;32m     25\u001b[0m \u001b[38;5;66;03m# l_1, l_2 = l_1.rhs, l_2.rhs\u001b[39;00m\n",
      "File \u001b[0;32m~/miniconda3/envs/rnn_structure/lib/python3.12/site-packages/sympy/solvers/ode/ode.py:564\u001b[0m, in \u001b[0;36mdsolve\u001b[0;34m(eq, func, hint, simplify, ics, xi, eta, x0, n, **kwargs)\u001b[0m\n\u001b[1;32m    561\u001b[0m \u001b[38;5;28;01mexcept\u001b[39;00m \u001b[38;5;167;01mNotImplementedError\u001b[39;00m:\n\u001b[1;32m    562\u001b[0m     \u001b[38;5;28;01mpass\u001b[39;00m\n\u001b[0;32m--> 564\u001b[0m match \u001b[38;5;241m=\u001b[39m \u001b[43mclassify_sysode\u001b[49m\u001b[43m(\u001b[49m\u001b[43meq\u001b[49m\u001b[43m,\u001b[49m\u001b[43m \u001b[49m\u001b[43mfunc\u001b[49m\u001b[43m)\u001b[49m\n\u001b[1;32m    566\u001b[0m eq \u001b[38;5;241m=\u001b[39m match[\u001b[38;5;124m'\u001b[39m\u001b[38;5;124meq\u001b[39m\u001b[38;5;124m'\u001b[39m]\n\u001b[1;32m    567\u001b[0m order \u001b[38;5;241m=\u001b[39m match[\u001b[38;5;124m'\u001b[39m\u001b[38;5;124morder\u001b[39m\u001b[38;5;124m'\u001b[39m]\n",
      "File \u001b[0;32m~/miniconda3/envs/rnn_structure/lib/python3.12/site-packages/sympy/solvers/ode/ode.py:1344\u001b[0m, in \u001b[0;36mclassify_sysode\u001b[0;34m(eq, funcs, **kwargs)\u001b[0m\n\u001b[1;32m   1342\u001b[0m \u001b[38;5;28;01melif\u001b[39;00m matching_hints[\u001b[38;5;124m'\u001b[39m\u001b[38;5;124mno_of_equation\u001b[39m\u001b[38;5;124m'\u001b[39m] \u001b[38;5;241m==\u001b[39m \u001b[38;5;241m3\u001b[39m:\n\u001b[1;32m   1343\u001b[0m     \u001b[38;5;28;01mif\u001b[39;00m order_eq \u001b[38;5;241m==\u001b[39m \u001b[38;5;241m1\u001b[39m:\n\u001b[0;32m-> 1344\u001b[0m         type_of_equation \u001b[38;5;241m=\u001b[39m \u001b[43mcheck_nonlinear_3eq_order1\u001b[49m\u001b[43m(\u001b[49m\u001b[43meq\u001b[49m\u001b[43m,\u001b[49m\u001b[43m \u001b[49m\u001b[43mfuncs\u001b[49m\u001b[43m,\u001b[49m\u001b[43m \u001b[49m\u001b[43mfunc_coef\u001b[49m\u001b[43m)\u001b[49m\n\u001b[1;32m   1345\u001b[0m     \u001b[38;5;28;01melse\u001b[39;00m:\n\u001b[1;32m   1346\u001b[0m         type_of_equation \u001b[38;5;241m=\u001b[39m \u001b[38;5;28;01mNone\u001b[39;00m\n",
      "File \u001b[0;32m~/miniconda3/envs/rnn_structure/lib/python3.12/site-packages/sympy/solvers/ode/ode.py:1531\u001b[0m, in \u001b[0;36mcheck_nonlinear_3eq_order1\u001b[0;34m(eq, func, func_coef)\u001b[0m\n\u001b[1;32m   1529\u001b[0m r1\u001b[38;5;241m.\u001b[39mupdate(collect_const(r[F3])\u001b[38;5;241m.\u001b[39mmatch(b\u001b[38;5;241m*\u001b[39mF3))\n\u001b[1;32m   1530\u001b[0m \u001b[38;5;28;01mif\u001b[39;00m r1:\n\u001b[0;32m-> 1531\u001b[0m     \u001b[38;5;28;01mif\u001b[39;00m eq[\u001b[38;5;241m1\u001b[39m]\u001b[38;5;241m.\u001b[39mhas(\u001b[43mr1\u001b[49m\u001b[43m[\u001b[49m\u001b[43mF2\u001b[49m\u001b[43m]\u001b[49m) \u001b[38;5;129;01mand\u001b[39;00m \u001b[38;5;129;01mnot\u001b[39;00m eq[\u001b[38;5;241m1\u001b[39m]\u001b[38;5;241m.\u001b[39mhas(r1[F3]):\n\u001b[1;32m   1532\u001b[0m         r1[F2], r1[F3] \u001b[38;5;241m=\u001b[39m r1[F3], r1[F2]\n\u001b[1;32m   1533\u001b[0m         r1[c], r1[b] \u001b[38;5;241m=\u001b[39m \u001b[38;5;241m-\u001b[39mr1[b], \u001b[38;5;241m-\u001b[39mr1[c]\n",
      "\u001b[0;31mKeyError\u001b[0m: F2_"
     ]
    }
   ],
   "source": [
    "eta, y_1, y_2, C = symbols(\"eta y_1 y_2 C\", constant=True)\n",
    "\n",
    "h_1, h_2, y = symbols(\"h_1 h_2 y\", cls=Function)\n",
    "\n",
    "t = symbols(\"t\")\n",
    "\n",
    "eqs = [\n",
    "    Eq(\n",
    "        h_1(t).diff(t),\n",
    "        -eta * (1 / 2) * (h_1(t) * ((h_1(t) ** 2 + h_2(t) ** 2) / 2 + C) - y(t)),\n",
    "    ),\n",
    "    Eq(\n",
    "        h_2(t).diff(t),\n",
    "        -eta * (1 / 2) * (h_2(t) * ((h_1(t) ** 2 + h_2(t) ** 2) / 2 + C) - y(t)),\n",
    "    ),\n",
    "    Eq(\n",
    "        y(t).diff(t),\n",
    "        -eta\n",
    "        * (1 / 2)\n",
    "        * (\n",
    "            y(t) * (h_1(t) ** 2 + h_2(t) ** 2) / 2\n",
    "            - (h_1(t) + h_2(t) / 2) * (y_1**2 + y_2**2 / 2)\n",
    "        ),\n",
    "    ),\n",
    "]\n",
    "\n",
    "h_1, h_2, y = dsolve(eqs, [h_1(t), h_2(t), y(t)])\n",
    "# l_1, l_2 = l_1.rhs, l_2.rhs"
   ]
  },
  {
   "cell_type": "code",
   "execution_count": 8,
   "metadata": {},
   "outputs": [
    {
     "ename": "KeyError",
     "evalue": "F2_",
     "output_type": "error",
     "traceback": [
      "\u001b[0;31m---------------------------------------------------------------------------\u001b[0m",
      "\u001b[0;31mKeyError\u001b[0m                                  Traceback (most recent call last)",
      "Cell \u001b[0;32mIn[8], line 24\u001b[0m\n\u001b[1;32m      5\u001b[0m t \u001b[38;5;241m=\u001b[39m symbols(\u001b[38;5;124m\"\u001b[39m\u001b[38;5;124mt\u001b[39m\u001b[38;5;124m\"\u001b[39m)\n\u001b[1;32m      7\u001b[0m eqs \u001b[38;5;241m=\u001b[39m [\n\u001b[1;32m      8\u001b[0m     Eq(\n\u001b[1;32m      9\u001b[0m         h_1(t)\u001b[38;5;241m.\u001b[39mdiff(t),\n\u001b[0;32m   (...)\u001b[0m\n\u001b[1;32m     21\u001b[0m     ),\n\u001b[1;32m     22\u001b[0m ]\n\u001b[0;32m---> 24\u001b[0m h_1, h_2, y \u001b[38;5;241m=\u001b[39m \u001b[43mdsolve\u001b[49m\u001b[43m(\u001b[49m\u001b[43meqs\u001b[49m\u001b[43m,\u001b[49m\u001b[43m \u001b[49m\u001b[43m[\u001b[49m\u001b[43mh_1\u001b[49m\u001b[43m(\u001b[49m\u001b[43mt\u001b[49m\u001b[43m)\u001b[49m\u001b[43m,\u001b[49m\u001b[43m \u001b[49m\u001b[43mh_2\u001b[49m\u001b[43m(\u001b[49m\u001b[43mt\u001b[49m\u001b[43m)\u001b[49m\u001b[43m,\u001b[49m\u001b[43m \u001b[49m\u001b[43my\u001b[49m\u001b[43m(\u001b[49m\u001b[43mt\u001b[49m\u001b[43m)\u001b[49m\u001b[43m]\u001b[49m\u001b[43m)\u001b[49m\n\u001b[1;32m     25\u001b[0m \u001b[38;5;66;03m# l_1, l_2 = l_1.rhs, l_2.rhs\u001b[39;00m\n",
      "File \u001b[0;32m~/miniconda3/envs/rnn_structure/lib/python3.12/site-packages/sympy/solvers/ode/ode.py:564\u001b[0m, in \u001b[0;36mdsolve\u001b[0;34m(eq, func, hint, simplify, ics, xi, eta, x0, n, **kwargs)\u001b[0m\n\u001b[1;32m    561\u001b[0m \u001b[38;5;28;01mexcept\u001b[39;00m \u001b[38;5;167;01mNotImplementedError\u001b[39;00m:\n\u001b[1;32m    562\u001b[0m     \u001b[38;5;28;01mpass\u001b[39;00m\n\u001b[0;32m--> 564\u001b[0m match \u001b[38;5;241m=\u001b[39m \u001b[43mclassify_sysode\u001b[49m\u001b[43m(\u001b[49m\u001b[43meq\u001b[49m\u001b[43m,\u001b[49m\u001b[43m \u001b[49m\u001b[43mfunc\u001b[49m\u001b[43m)\u001b[49m\n\u001b[1;32m    566\u001b[0m eq \u001b[38;5;241m=\u001b[39m match[\u001b[38;5;124m'\u001b[39m\u001b[38;5;124meq\u001b[39m\u001b[38;5;124m'\u001b[39m]\n\u001b[1;32m    567\u001b[0m order \u001b[38;5;241m=\u001b[39m match[\u001b[38;5;124m'\u001b[39m\u001b[38;5;124morder\u001b[39m\u001b[38;5;124m'\u001b[39m]\n",
      "File \u001b[0;32m~/miniconda3/envs/rnn_structure/lib/python3.12/site-packages/sympy/solvers/ode/ode.py:1344\u001b[0m, in \u001b[0;36mclassify_sysode\u001b[0;34m(eq, funcs, **kwargs)\u001b[0m\n\u001b[1;32m   1342\u001b[0m \u001b[38;5;28;01melif\u001b[39;00m matching_hints[\u001b[38;5;124m'\u001b[39m\u001b[38;5;124mno_of_equation\u001b[39m\u001b[38;5;124m'\u001b[39m] \u001b[38;5;241m==\u001b[39m \u001b[38;5;241m3\u001b[39m:\n\u001b[1;32m   1343\u001b[0m     \u001b[38;5;28;01mif\u001b[39;00m order_eq \u001b[38;5;241m==\u001b[39m \u001b[38;5;241m1\u001b[39m:\n\u001b[0;32m-> 1344\u001b[0m         type_of_equation \u001b[38;5;241m=\u001b[39m \u001b[43mcheck_nonlinear_3eq_order1\u001b[49m\u001b[43m(\u001b[49m\u001b[43meq\u001b[49m\u001b[43m,\u001b[49m\u001b[43m \u001b[49m\u001b[43mfuncs\u001b[49m\u001b[43m,\u001b[49m\u001b[43m \u001b[49m\u001b[43mfunc_coef\u001b[49m\u001b[43m)\u001b[49m\n\u001b[1;32m   1345\u001b[0m     \u001b[38;5;28;01melse\u001b[39;00m:\n\u001b[1;32m   1346\u001b[0m         type_of_equation \u001b[38;5;241m=\u001b[39m \u001b[38;5;28;01mNone\u001b[39;00m\n",
      "File \u001b[0;32m~/miniconda3/envs/rnn_structure/lib/python3.12/site-packages/sympy/solvers/ode/ode.py:1531\u001b[0m, in \u001b[0;36mcheck_nonlinear_3eq_order1\u001b[0;34m(eq, func, func_coef)\u001b[0m\n\u001b[1;32m   1529\u001b[0m r1\u001b[38;5;241m.\u001b[39mupdate(collect_const(r[F3])\u001b[38;5;241m.\u001b[39mmatch(b\u001b[38;5;241m*\u001b[39mF3))\n\u001b[1;32m   1530\u001b[0m \u001b[38;5;28;01mif\u001b[39;00m r1:\n\u001b[0;32m-> 1531\u001b[0m     \u001b[38;5;28;01mif\u001b[39;00m eq[\u001b[38;5;241m1\u001b[39m]\u001b[38;5;241m.\u001b[39mhas(\u001b[43mr1\u001b[49m\u001b[43m[\u001b[49m\u001b[43mF2\u001b[49m\u001b[43m]\u001b[49m) \u001b[38;5;129;01mand\u001b[39;00m \u001b[38;5;129;01mnot\u001b[39;00m eq[\u001b[38;5;241m1\u001b[39m]\u001b[38;5;241m.\u001b[39mhas(r1[F3]):\n\u001b[1;32m   1532\u001b[0m         r1[F2], r1[F3] \u001b[38;5;241m=\u001b[39m r1[F3], r1[F2]\n\u001b[1;32m   1533\u001b[0m         r1[c], r1[b] \u001b[38;5;241m=\u001b[39m \u001b[38;5;241m-\u001b[39mr1[b], \u001b[38;5;241m-\u001b[39mr1[c]\n",
      "\u001b[0;31mKeyError\u001b[0m: F2_"
     ]
    }
   ],
   "source": [
    "eta, y_1, y_2 = symbols(\"eta y_1 y_2\", constant=True)\n",
    "\n",
    "h_1, h_2, y = symbols(\"h_1 h_2 a\", cls=Function)\n",
    "\n",
    "t = symbols(\"t\")\n",
    "\n",
    "eqs = [\n",
    "    Eq(\n",
    "        h_1(t).diff(t),\n",
    "        -eta * y(t) * (y(t) * h_1(t) - y_1),\n",
    "    ),\n",
    "    Eq(\n",
    "        h_2(t).diff(t),\n",
    "        -eta * y(t) * (y(t) * h_2(t) - y_2),\n",
    "    ),\n",
    "    Eq(\n",
    "        y(t).diff(t),\n",
    "        -eta\n",
    "        * (1 / 2)\n",
    "        * ((y(t) * h_1(t) ** 2 - y_1 * h_1(t)) + (y(t) * h_2(t) ** 2 - y_2 * h_2(t))),\n",
    "    ),\n",
    "]\n",
    "\n",
    "h_1, h_2, y = dsolve(eqs, [h_1(t), h_2(t), y(t)])\n",
    "# l_1, l_2 = l_1.rhs, l_2.rhs"
   ]
  },
  {
   "cell_type": "code",
   "execution_count": 5,
   "metadata": {},
   "outputs": [
    {
     "data": {
      "text/latex": [
       "$\\displaystyle C_{1} = t + \\sqrt{\\frac{1}{4 A C + B^{2}}} \\log{\\left(- 4 A \\sqrt{\\frac{1}{4 A C + B^{2}}} - \\frac{B^{2} \\sqrt{\\frac{1}{4 A C + B^{2}}}}{C} - \\frac{B}{C} + 2 y{\\left(t \\right)} \\right)} - \\sqrt{\\frac{1}{4 A C + B^{2}}} \\log{\\left(4 A \\sqrt{\\frac{1}{4 A C + B^{2}}} + \\frac{B^{2} \\sqrt{\\frac{1}{4 A C + B^{2}}}}{C} - \\frac{B}{C} + 2 y{\\left(t \\right)} \\right)}$"
      ],
      "text/plain": [
       "Eq(C1, t + sqrt(1/(4*A*C + B**2))*log(-4*A*sqrt(1/(4*A*C + B**2)) - B**2*sqrt(1/(4*A*C + B**2))/C - B/C + 2*y(t)) - sqrt(1/(4*A*C + B**2))*log(4*A*sqrt(1/(4*A*C + B**2)) + B**2*sqrt(1/(4*A*C + B**2))/C - B/C + 2*y(t)))"
      ]
     },
     "execution_count": 5,
     "metadata": {},
     "output_type": "execute_result"
    }
   ],
   "source": [
    "y = symbols(\"y\", cls=Function)\n",
    "t = symbols(\"t\")\n",
    "A, B, C = symbols(\"A B C\", constant=True)\n",
    "\n",
    "x = dsolve(Eq(y(t).diff(t), A + B * y(t) - C * y(t) ** 2), y(t))\n",
    "simplify(x)"
   ]
  },
  {
   "cell_type": "code",
   "execution_count": null,
   "metadata": {},
   "outputs": [],
   "source": [
    "def eq():\n",
    "    h_mean = (h_1 + h_2) / 2\n",
    "    h2_mean = (h_1**2 + h_2**2) / 2\n",
    "    Dy_mean = (Dy_1 + Dy_2) / 2\n",
    "    by_mean = (by_1 + by_2) / 2\n",
    "    hb_mean = (h_1 * by_1 + h_2 * by_2) / 2\n",
    "    Dhy_mean = (h_1 * Dy_1 + h_2 * Dy_2) / 2\n",
    "    hy2_mean_1 = (h_1 * y11 + h_2 * y12) / 2\n",
    "    hy2_mean_2 = (h_1 * y12 + h_2 * y22) / 2\n",
    "    return [\n",
    "        bD + h_1 * D2 - Dy_1,\n",
    "        bD + h_2 * D2 - Dy_2,\n",
    "        h2_mean * bD + h_mean * b2 - hb_mean,\n",
    "        by_1 + h_mean * Dy_1 - (y11 + y12) / 2,\n",
    "        by_2 + h_mean * Dy_2 - (y22 + y12) / 2,\n",
    "        b2 + h_mean * bD - by_mean,\n",
    "        # h2_mean * D2 + h_mean * bD - Dhy_mean,\n",
    "        h2_mean * Dy_1 + h_mean * by_1 - hy2_mean_1,\n",
    "        h2_mean * Dy_2 + h_mean * by_2 - hy2_mean_2,\n",
    "        h2_mean - (N / 2) * (eta_h / eta_a) * D2 + C,\n",
    "    ]"
   ]
  },
  {
   "cell_type": "code",
   "execution_count": null,
   "metadata": {},
   "outputs": [],
   "source": [
    "h_1, h_2, bD, by_1, by_2, b2, D2, Dy_1, Dy_2 = symbols(\n",
    "    \"h_1 h_2 <bDv> <by_1> <by_2> <||b||^2> <||Dv||^2> <y_1Dv> <y_2Dv>\"\n",
    ")\n",
    "y11, y12, y22, eta_a, eta_b, eta_h_1, eta_h_2, eta_h, N, C = symbols(\n",
    "    \"<y_1y_1> <y_1y_2> <y_2y_2> 1/tau_y 1/tau_b 1/tau_h_1 1/tau_h_2 1/tau_h N C\",\n",
    "    constant=True,\n",
    ")\n",
    "\n",
    "\n",
    "Eqs = [\n",
    "    Eq(0, bD + h_1 * D2 - Dy_1),\n",
    "    Eq(0, bD + h_2 * D2 - Dy_2),\n",
    "    Eq(\n",
    "        0,\n",
    "        (h_1**2 + h_2**2) / 2 * bD\n",
    "        + (h_1 + h_2) / 2 * b2\n",
    "        - (h_1 * by_1 + h_2 * by_2) / 2,\n",
    "    ),\n",
    "    Eq(0, by_1 + (h_1 + h_2) / 2 * Dy_1 - (y11 + y12) / 2),\n",
    "    Eq(0, by_2 + (h_1 + h_2) / 2 * Dy_2 - (y22 + y12) / 2),\n",
    "    Eq(0, b2 + (h_1 + h_2) / 2 * bD - (by_1 + by_2) / 2),\n",
    "    Eq(\n",
    "        0,\n",
    "        (h_1**2 + h_2**2) / 2 * D2\n",
    "        + (h_1 + h_2) / 2 * bD\n",
    "        - (h_1 * Dy_1 + h_2 * Dy_2) / 2,\n",
    "    ),\n",
    "    Eq(\n",
    "        0,\n",
    "        (h_1**2 + h_2**2) / 2 * Dy_1\n",
    "        + (h_1 + h_2) / 2 * by_1\n",
    "        - (h_1 * y11 + h_2 * y12) / 2,\n",
    "    ),\n",
    "    Eq(\n",
    "        0,\n",
    "        (h_1**2 + h_2**2) / 2 * Dy_2\n",
    "        + (h_1 + h_2) / 2 * by_2\n",
    "        - (h_1 * y12 + h_2 * y22) / 2,\n",
    "    ),\n",
    "    # Eq(0,(h_1**2 + h_2**2) / 2 - (N / 2) * (eta_h / eta_a) * D2 + C),\n",
    "]\n",
    "\n",
    "\n",
    "sol = solve(\n",
    "    Eqs,\n",
    "    [h_1, h_2, bD, by_1, by_2, b2, D2, Dy_1, Dy_2],\n",
    "    dict=True,\n",
    "    # check=False,\n",
    "    # simplify=False,\n",
    ")"
   ]
  },
  {
   "cell_type": "code",
   "execution_count": null,
   "metadata": {},
   "outputs": [],
   "source": [
    "sol[1]"
   ]
  },
  {
   "cell_type": "code",
   "execution_count": null,
   "metadata": {},
   "outputs": [],
   "source": [
    "Eqs_2 = []\n",
    "for lhs, rhs in sol[1].items():\n",
    "    Eqs_2.append(Eq(lhs, rhs))\n",
    "Eqs_2.append(Eq((h_1**2 + h_2**2) / 2, (N / 2) * (eta_h / eta_a) * D2 + C))"
   ]
  },
  {
   "cell_type": "code",
   "execution_count": null,
   "metadata": {},
   "outputs": [],
   "source": [
    "Eqs_2"
   ]
  },
  {
   "cell_type": "code",
   "execution_count": null,
   "metadata": {},
   "outputs": [],
   "source": [
    "sol[1]"
   ]
  },
  {
   "cell_type": "code",
   "execution_count": null,
   "metadata": {},
   "outputs": [],
   "source": [
    "[Eqs_2[7], Eqs_2[5]]"
   ]
  },
  {
   "cell_type": "code",
   "execution_count": null,
   "metadata": {},
   "outputs": [],
   "source": [
    "sol3 = solve(\n",
    "    Eq(\n",
    "        (h_1**2 + h_2**2) / 2 * (h_1**2 - 2 * h_1 * h_2 + h_2**2),\n",
    "        (eta_h / eta_a) * (N / 2) * (y11 - 2 * y12 + y22) + C,\n",
    "    ),\n",
    "    [h_1, h_2],\n",
    "    dict=True,\n",
    ")"
   ]
  },
  {
   "cell_type": "code",
   "execution_count": null,
   "metadata": {},
   "outputs": [],
   "source": [
    "simplify(sol3[0])"
   ]
  },
  {
   "cell_type": "code",
   "execution_count": null,
   "metadata": {},
   "outputs": [],
   "source": [
    "z = solve([Eqs_2[7], Eqs_2[5]], [h_2, D2], dict=True, checks=False)"
   ]
  },
  {
   "cell_type": "code",
   "execution_count": null,
   "metadata": {},
   "outputs": [],
   "source": [
    "simplify(z[0][h_1])"
   ]
  },
  {
   "cell_type": "code",
   "execution_count": null,
   "metadata": {},
   "outputs": [],
   "source": [
    "sol_complete = nsolve(\n",
    "    Eqs,\n",
    "    [h_1, h_2, bD, by_1, by_2, b2, D2, Dy_1, Dy_2],\n",
    "    [1] * 9,\n",
    "    dict=True,\n",
    "    check=False,\n",
    "    simplify=False,\n",
    ")\n",
    "sol_complete"
   ]
  },
  {
   "cell_type": "code",
   "execution_count": null,
   "metadata": {},
   "outputs": [],
   "source": [
    "sol_complete = solve(Eqs, [h_1, h_2, bD, by_1, by_2, b2, D2, Dy_1, Dy_2], dict=True)\n",
    "sol_complete"
   ]
  },
  {
   "cell_type": "code",
   "execution_count": null,
   "metadata": {},
   "outputs": [],
   "source": [
    "h_1, h_2, bD, by_1, by_2, b2, D2, Dy_1, Dy_2 = z\n",
    "h_mean = (h_1 + h_2) / 2\n",
    "h2_mean = (h_1**2 + h_2**2) / 2\n",
    "Dy_mean = (Dy_1 + Dy_2) / 2\n",
    "by_mean = (by_1 + by_2) / 2\n",
    "hb_mean = (h_1 * by_1 + h_2 * by_2) / 2\n",
    "Dhy_mean = (h_1 * Dy_1 + h_2 * Dy_2) / 2\n",
    "hy2_mean_1 = (h_1 * y11 + h_2 * y12) / 2\n",
    "hy2_mean_2 = (h_1 * y12 + h_2 * y22) / 2\n",
    "return [\n",
    "    -eta_h_1 * (1 / 2) * (bD + h_1 * D2 - Dy_1),\n",
    "    -eta_h_2 * (1 / 2) * (bD + h_2 * D2 - Dy_2),\n",
    "    -eta_b * (1 / N) * (bD + h_mean * D2 - Dy_mean)\n",
    "    - eta_a * (1 / N) * (h2_mean * bD + h_mean * b2 - hb_mean),\n",
    "    -eta_b * (1 / N) * (by_1 + h_mean * Dy_1 - (y11 + y12) / 2),\n",
    "    -eta_b * (1 / N) * (by_2 + h_mean * Dy_2 - (y22 + y12) / 2),\n",
    "    -eta_b * (2 / N) * (b2 + h_mean * bD - by_mean),\n",
    "    -eta_a * (2 / N) * (h2_mean * D2 + h_mean * bD - Dhy_mean),\n",
    "    -eta_a * (1 / N) * (h2_mean * Dy_1 + h_mean * by_1 - hy2_mean_1),\n",
    "    -eta_a * (1 / N) * (h2_mean * Dy_2 + h_mean * by_2 - hy2_mean_2),\n",
    "]"
   ]
  },
  {
   "cell_type": "code",
   "execution_count": null,
   "metadata": {},
   "outputs": [],
   "source": [
    "eta = symbols(\"eta\", constant=True)\n",
    "\n",
    "y, h_2 = symbols(\"a b\", cls=Function)\n",
    "\n",
    "t = symbols(\"t\")\n",
    "\n",
    "eqs = [\n",
    "    Eq(\n",
    "        y(t).diff(t),\n",
    "        -eta * (-y(t) + h_2(t) + 1 + 2 * y(t) ** 3 + 2 * y(t) * h_2(t)),\n",
    "    ),\n",
    "    Eq(\n",
    "        h_2(t).diff(t),\n",
    "        -eta * (y(t) + 2 * h_2(t) + y(t) ** 2),\n",
    "    ),\n",
    "]\n",
    "\n",
    "y, h_2 = dsolve(eqs, [y(t), h_2(t)])\n",
    "# l_1, l_2 = l_1.rhs, l_2.rhs"
   ]
  },
  {
   "cell_type": "code",
   "execution_count": null,
   "metadata": {},
   "outputs": [],
   "source": [
    "eta, y_1, y_2 = symbols(\"eta y_1 y_2\", constant=True)\n",
    "\n",
    "h_1, h_2, y = symbols(\"h b a\", cls=Function)\n",
    "\n",
    "t = symbols(\"t\")\n",
    "\n",
    "eqs = [\n",
    "    Eq(\n",
    "        h_1(t).diff(t),\n",
    "        -eta * h_1(t) * h_2(t),\n",
    "    ),\n",
    "    Eq(y(t).diff(t), -eta * (h_1(t) ** 2 + h_1(t) ** 2 + 1) * h_2(t)),\n",
    "]\n",
    "\n",
    "h_1, y = dsolve(eqs, [h_1(t), y(t)])\n",
    "# l_1, l_2 = l_1.rhs, l_2.rhs"
   ]
  },
  {
   "cell_type": "code",
   "execution_count": null,
   "metadata": {},
   "outputs": [],
   "source": [
    "eta, y_1, y_2 = symbols(\"eta y_1 y_2\", constant=True)\n",
    "\n",
    "h_1, h_2, y = symbols(\"h_1 h_2 a\", cls=Function)\n",
    "\n",
    "t = symbols(\"t\")\n",
    "\n",
    "eqs = [\n",
    "    Eq(\n",
    "        h_1(t).diff(t),\n",
    "        -eta * y(t) * (y(t) * h_1(t) - y_1),\n",
    "    ),\n",
    "    Eq(\n",
    "        h_2(t).diff(t),\n",
    "        -eta * y(t) * (y(t) * h_2(t) - y_2),\n",
    "    ),\n",
    "    Eq(\n",
    "        y(t).diff(t),\n",
    "        -eta\n",
    "        * (1 / 2)\n",
    "        * ((y(t) * h_1(t) ** 2 - y_1 * h_1(t)) + (y(t) * h_2(t) ** 2 - y_2 * h_2(t))),\n",
    "    ),\n",
    "]\n",
    "\n",
    "h_1, h_2, y = dsolve(eqs, [h_1(t), h_2(t), y(t)])\n",
    "# l_1, l_2 = l_1.rhs, l_2.rhs"
   ]
  },
  {
   "cell_type": "code",
   "execution_count": null,
   "metadata": {},
   "outputs": [],
   "source": [
    "sol = solve(\n",
    "    [\n",
    "        Eq(\n",
    "            h_1 * (h_1**2 + h_2**2) / 2 * ((h_1**2 + h_2**2) / 2 + C),\n",
    "            (N / 2) * (eta_h / eta_a) * (h_1 * y11 + h_2 * y12),\n",
    "        ),\n",
    "        Eq(\n",
    "            h_2 * (h_1**2 + h_2**2) / 2 * ((h_1**2 + h_2**2) / 2 + C),\n",
    "            (N / 2) * (eta_h / eta_a) * (h_1 * y12 + h_2 * y22),\n",
    "        ),\n",
    "    ],\n",
    "    [h_1, h_2],\n",
    "    dict=True,\n",
    "    # simplify=False,\n",
    "    # check=False,\n",
    ")"
   ]
  },
  {
   "cell_type": "code",
   "execution_count": null,
   "metadata": {},
   "outputs": [],
   "source": [
    "sol = solve(\n",
    "    [\n",
    "        Eq(\n",
    "            h_1 * (h_1**2 + h_2**2) / 2 * ((h_1**2 + h_2**2) / 2 + C),\n",
    "            (N / 2) * (eta_h / eta_a) * (h_1 * y11 + h_2 * y12),\n",
    "        ),\n",
    "        Eq(\n",
    "            h_2 * (h_1**2 + h_2**2) / 2 * ((h_1**2 + h_2**2) / 2 + C),\n",
    "            (N / 2) * (eta_h / eta_a) * (h_1 * y12 + h_2 * y11),\n",
    "        ),\n",
    "    ],\n",
    "    [h_1, h_2],\n",
    "    dict=True,\n",
    "    # simplify=False,\n",
    "    # check=False,\n",
    ")"
   ]
  },
  {
   "cell_type": "code",
   "execution_count": null,
   "metadata": {},
   "outputs": [],
   "source": [
    "H1, H2 = sol[5].values()\n",
    "\n",
    "H1, H2 = simplify(H1), simplify(H2)"
   ]
  },
  {
   "cell_type": "code",
   "execution_count": null,
   "metadata": {},
   "outputs": [],
   "source": [
    "simplify((H2 - H1) ** 2)"
   ]
  },
  {
   "cell_type": "code",
   "execution_count": null,
   "metadata": {},
   "outputs": [],
   "source": [
    "simplify((H2 + H1) / 2)"
   ]
  }
 ],
 "metadata": {
  "kernelspec": {
   "display_name": "rnn_structure",
   "language": "python",
   "name": "python3"
  },
  "language_info": {
   "codemirror_mode": {
    "name": "ipython",
    "version": 3
   },
   "file_extension": ".py",
   "mimetype": "text/x-python",
   "name": "python",
   "nbconvert_exporter": "python",
   "pygments_lexer": "ipython3",
   "version": "3.12.6"
  }
 },
 "nbformat": 4,
 "nbformat_minor": 2
}
