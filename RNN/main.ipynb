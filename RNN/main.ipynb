{
 "cells": [
  {
   "cell_type": "code",
   "execution_count": 1,
   "metadata": {},
   "outputs": [
    {
     "name": "stdout",
     "output_type": "stream",
     "text": [
      "GPU is available\n"
     ]
    }
   ],
   "source": [
    "import os, sys\n",
    "from tqdm import trange, tqdm\n",
    "\n",
    "import math\n",
    "import numpy as np\n",
    "import matplotlib.pyplot as plt\n",
    "import pandas as pd\n",
    "import scipy\n",
    "\n",
    "\n",
    "import torch\n",
    "from torch import nn\n",
    "from torch.autograd.functional import jacobian\n",
    "\n",
    "\n",
    "source = \"/home/loek/projects/rnn/source\"\n",
    "sys.path.append(source)\n",
    "\n",
    "\n",
    "from data import seq_data, grid_data\n",
    "from preprocessing import OneHot\n",
    "from compilation import Compiler, Tracker, ScalarTracker, ActivationTracker\n",
    "from data_analysis.automata import to_automaton_history\n",
    "from data_analysis.visualization.animation import SliderAnimation\n",
    "from data_analysis.visualization.activations import ActivationsAnimation\n",
    "from data_analysis.visualization.automata import AutomatonAnimation\n",
    "from data_analysis.visualization.epochs import EpochAnimation\n",
    "from data_analysis.visualization.publication import pub_show\n",
    "\n",
    "from model import Model\n",
    "\n",
    "import cProfile\n",
    "import pstats\n",
    "\n",
    "\n",
    "is_cuda = torch.cuda.is_available()\n",
    "if is_cuda:\n",
    "    device = torch.device(\"cuda\")\n",
    "    print(\"GPU is available\")\n",
    "else:\n",
    "    device = torch.device(\"cpu\")\n",
    "    print(\"GPU not available, CPU used\")\n",
    "\n",
    "device = torch.device(\"cpu\")"
   ]
  },
  {
   "cell_type": "code",
   "execution_count": 2,
   "metadata": {},
   "outputs": [],
   "source": [
    "## Load settings\n",
    "settings = \"deep\"\n",
    "\n",
    "(nonlinearity, gain, lr, P, L, n_epochs) = (\n",
    "    pd.read_csv(\"model settings/rnn.txt\", sep=\" \", header=0).loc[settings].to_numpy()\n",
    ")"
   ]
  },
  {
   "cell_type": "code",
   "execution_count": 3,
   "metadata": {},
   "outputs": [],
   "source": [
    "## Generate data\n",
    "symbols = [0, 1]\n",
    "encoding = OneHot(symbols)\n",
    "xor_problem = lambda seq: np.sum(seq) % 2\n",
    "par_3_problem = lambda seq: int(np.sum(seq) % 3 == 2)\n",
    "\n",
    "problem = xor_problem\n",
    "\n",
    "N = 15\n",
    "\n",
    "train_datasets = [\n",
    "    seq_data(device, problem, encoding, seq_len=1, n_datapoints=N),\n",
    "    seq_data(device, problem, encoding, seq_len=2, n_datapoints=N),\n",
    "    seq_data(device, problem, encoding, seq_len=3, n_datapoints=N),\n",
    "    seq_data(device, problem, encoding, seq_len=4, n_datapoints=N),\n",
    "    seq_data(device, problem, encoding, seq_len=5, n_datapoints=N),\n",
    "    # seq_data(device, problem, encoding, seq_len=6, n_datapoints=N),\n",
    "    # seq_data(device, problem, encoding, seq_len=7, n_datapoints=N),\n",
    "    # seq_data(device, problem, encoding, seq_len=8, n_datapoints=N),\n",
    "    # seq_data(device, problem, encoding, seq_len=9, n_datapoints=N),\n",
    "]\n",
    "\n",
    "val_dataset = [seq_data(device, problem, encoding, n_datapoints=50, seq_len=10)]\n",
    "tracked_datasets = val_dataset + train_datasets\n",
    "\n",
    "\n",
    "grid = grid_data(device, dim=2, output_dim=2, n=20, bounds=(-1, 1))"
   ]
  },
  {
   "cell_type": "code",
   "execution_count": 4,
   "metadata": {},
   "outputs": [],
   "source": [
    "## Instantiate model\n",
    "model = Model(\n",
    "    encoding=encoding,\n",
    "    input_size=2,\n",
    "    output_size=2,\n",
    "    hidden_dim=P,\n",
    "    n_layers=L,\n",
    "    device=device,\n",
    "    nonlinearity=nonlinearity,\n",
    "    gain=gain,\n",
    "    # output_noise=0.01,\n",
    ")\n",
    "\n",
    "## TODO: Try starting with large weights"
   ]
  },
  {
   "cell_type": "code",
   "execution_count": 5,
   "metadata": {},
   "outputs": [],
   "source": [
    "import scipy.spatial as spatial\n",
    "\n",
    "\n",
    "def dir_to_closest(X: pd.DataFrame):\n",
    "    \"\"\"Compute vectors from the closest vector to each vector.\"\"\"\n",
    "    dist = spatial.distance_matrix(X, X)\n",
    "    dist[dist == 0] = np.inf\n",
    "    closest = np.argmin(dist, axis=1)\n",
    "    closest_loc = X.to_numpy()[closest]\n",
    "    closest_vecs = X - closest_loc\n",
    "    return closest_vecs\n",
    "\n",
    "\n",
    "def track_function(inputs):\n",
    "    # hidden_act = model(inputs)[0].detach().numpy()\n",
    "    # hidden = pd.DataFrame(hidden_act, index=labels)\n",
    "    # d = dir_to_closest(hidden)  # Not normalized\n",
    "    grad = jacobian(lambda x: model(x)[0], inputs)\n",
    "    # print(grad.shape)\n",
    "    # print(\"Expect only n_datapoints, output_dim, input_dim\")\n",
    "    # Need to think about with respect to what we take derivative of.\n",
    "    # print(np.linalg.det(grad))\n",
    "\n",
    "    # theta = np.tensordot(grad, d, axes=(1, 1))\n",
    "    # print(theta.shape)\n",
    "\n",
    "    dets = torch.Tensor(\n",
    "        [\n",
    "            np.sum(\n",
    "                [\n",
    "                    torch.det(grad[input, :, input, char, :])\n",
    "                    for char in range(grad.shape[3])\n",
    "                ]\n",
    "            )\n",
    "            for input in range(grad.shape[0])\n",
    "        ]\n",
    "    )\n",
    "    return dets\n",
    "\n",
    "\n",
    "class WeightChangeTracker(Tracker):\n",
    "    \"\"\"Tracks how much weights have changed in the last epoch.\"\"\"\n",
    "\n",
    "    def __init__(self, model):\n",
    "        self.last_weights = None\n",
    "        self.model = model\n",
    "        super().__init__()\n",
    "\n",
    "    def track(self, *args):\n",
    "        new_weights = [\n",
    "            torch.Tensor(params[1]).clone() for params in self.model.named_parameters()\n",
    "        ]\n",
    "\n",
    "        change = 0.0\n",
    "        if self.last_weights is not None:\n",
    "            old_weights = self.last_weights\n",
    "            for parameter_new, parameter_old in zip(new_weights, old_weights):\n",
    "                change += float(torch.norm(parameter_new - parameter_old))\n",
    "        self._trace.append(pd.DataFrame([change], [\"Weight change\"]))\n",
    "\n",
    "        self.last_weights = new_weights"
   ]
  },
  {
   "cell_type": "code",
   "execution_count": 6,
   "metadata": {},
   "outputs": [],
   "source": [
    "## Setup compiler\n",
    "criterion = nn.MSELoss()\n",
    "optimizer = torch.optim.Adam(model.parameters(), lr=lr, weight_decay=0.01)\n",
    "compiler = Compiler(model, criterion, optimizer)\n",
    "initial_hidden = model.init_hidden(batch_size=1)[-1]\n",
    "compiler.trackers = {\n",
    "    \"loss\": ScalarTracker(lambda: compiler.validation(tracked_datasets)),\n",
    "    \"hidden\": ActivationTracker(\n",
    "        model,\n",
    "        lambda inputs: model(inputs)[1][-1],\n",
    "        tracked_datasets,\n",
    "        initial=lambda: initial_hidden,\n",
    "    ),\n",
    "    \"output\": ActivationTracker(\n",
    "        model, lambda inputs: model(inputs)[0], tracked_datasets\n",
    "    ),\n",
    "    # \"output_grad\": ActivationTracker(\n",
    "    #     model, lambda inputs: jacobian(lambda x: model(x)[0], inputs)\n",
    "    # ),\n",
    "    # \"theta\": ActivationTracker(model, track_function),\n",
    "    \"weight change\": WeightChangeTracker(model),\n",
    "}"
   ]
  },
  {
   "cell_type": "code",
   "execution_count": 7,
   "metadata": {},
   "outputs": [
    {
     "name": "stderr",
     "output_type": "stream",
     "text": [
      "Training: 100%|██████████| 4000/4000 [05:13<00:00, 12.74steps/s, train_loss=0.24806, val_loss=0.25789]\n"
     ]
    }
   ],
   "source": [
    "## Training run\n",
    "compiler.training_run(\n",
    "    train_datasets, tracked_datasets, n_epochs=n_epochs, batch_size=1000\n",
    ")"
   ]
  },
  {
   "cell_type": "code",
   "execution_count": 8,
   "metadata": {},
   "outputs": [
    {
     "name": "stderr",
     "output_type": "stream",
     "text": [
      "Computing automata: 100%|██████████| 4000/4000 [00:19<00:00, 202.12it/s]\n",
      "/home/loek/projects/rnn/source/utils/dataframes.py:43: FutureWarning: Setting an item of incompatible dtype is deprecated and will raise in a future error of pandas. Value '0' has dtype incompatible with float32, please explicitly cast to a compatible dtype first.\n",
      "  label.loc[index] = index\n",
      "/home/loek/projects/rnn/source/utils/dataframes.py:43: FutureWarning: Setting an item of incompatible dtype is deprecated and will raise in a future error of pandas. Value '0' has dtype incompatible with float64, please explicitly cast to a compatible dtype first.\n",
      "  label.loc[index] = index\n"
     ]
    },
    {
     "data": {
      "image/png": "[encoded data removed]",
      "text/plain": [
       "<Figure size 800x800 with 4 Axes>"
      ]
     },
     "metadata": {},
     "output_type": "display_data"
    },
    {
     "data": {
      "application/vnd.jupyter.widget-view+json": {
       "model_id": "f908efc83f684960a80b9765cea1109a",
       "version_major": 2,
       "version_minor": 0
      },
      "text/plain": [
       "interactive(children=(SelectionSlider(description='Epoch:', options=(0, 1, 2, 3, 4, 5, 6, 7, 8, 9, 10, 11, 12,…"
      ]
     },
     "metadata": {},
     "output_type": "display_data"
    }
   ],
   "source": [
    "mod = 1\n",
    "\n",
    "## Visualize automaton dynamics\n",
    "data_hid = compiler.trackers[\"hidden\"].get_trace()\n",
    "data_output = compiler.trackers[\"output\"].get_trace()\n",
    "query = \"Epoch >= 0\"\n",
    "query = f\"Epoch % {mod} == 0\"\n",
    "query += \"and (Dataset != 0)\"\n",
    "query += \"and (Dataset <= 5)\"\n",
    "data_hid = data_hid.query(query).copy()\n",
    "data_output = data_output.query(query).copy()\n",
    "\n",
    "epochs = list(set(data_hid.index.get_level_values(\"Epoch\")))\n",
    "epochs.sort()\n",
    "\n",
    "std = float(np.linalg.norm(data_hid.std()))\n",
    "\n",
    "automaton_history = to_automaton_history(\n",
    "    data_hid, data_output, merge_distance=0.2 * std\n",
    ")\n",
    "\n",
    "loss = compiler.trackers[\"loss\"].get_trace()\n",
    "val_loss = loss.query(\"Dataset==0\")[0].to_numpy()\n",
    "train_loss = loss.query(\"Dataset>0\").groupby(\"Epoch\").mean()\n",
    "\n",
    "n_states = np.array([len(automaton.states) for automaton in automaton_history])\n",
    "\n",
    "weight_change = compiler.trackers[\"weight change\"].get_trace().to_numpy().reshape(-1)\n",
    "\n",
    "animation = SliderAnimation(\n",
    "    {\n",
    "        \"Hidden representations\": ActivationsAnimation(data_hid, transform=\"PCA\"),\n",
    "        \"Output\": ActivationsAnimation(\n",
    "            data_output, transform=\"none\", fixed_points=encoding.encoding\n",
    "        ),\n",
    "        \"Automaton\": AutomatonAnimation(automaton_history),\n",
    "        \"Loss\": EpochAnimation(\n",
    "            graphs={\n",
    "                \"Training loss\": train_loss,\n",
    "                \"Validation loss\": val_loss,\n",
    "            },\n",
    "            unitless_graphs={\n",
    "                \"Number of states\": n_states,\n",
    "                # \"average distance\": av_distances,\n",
    "                # \"theta\": theta,\n",
    "                # \"weight change\": weight_change,\n",
    "                # \"state changes\": n_state_changes,\n",
    "            },\n",
    "            # x_bounds=(0, 800),\n",
    "            y_bounds=(0, 1),\n",
    "        ),\n",
    "    },\n",
    "    parameters=epochs,\n",
    "    parameter_name=\"Epoch\",\n",
    "    fig_size=4,\n",
    ")\n",
    "\n",
    "\n",
    "# TODO Plot map A(h)\n",
    "# TODO Plot pairwise distances\n",
    "# TODO Plot total theta"
   ]
  },
  {
   "cell_type": "code",
   "execution_count": 9,
   "metadata": {},
   "outputs": [
    {
     "ename": "NotImplementedError",
     "evalue": "",
     "output_type": "error",
     "traceback": [
      "\u001b[0;31m---------------------------------------------------------------------------\u001b[0m",
      "\u001b[0;31mNotImplementedError\u001b[0m                       Traceback (most recent call last)",
      "\u001b[1;32m/home/loek/projects/rnn/RNN/main.ipynb Cell 9\u001b[0m line \u001b[0;36m1\n\u001b[0;32m----> <a href='vscode-notebook-cell://wsl%2Bubuntu-20.04/home/loek/projects/rnn/RNN/main.ipynb#X11sdnNjb2RlLXJlbW90ZQ%3D%3D?line=0'>1</a>\u001b[0m \u001b[39mraise\u001b[39;00m \u001b[39mNotImplementedError\u001b[39;00m\n",
      "\u001b[0;31mNotImplementedError\u001b[0m: "
     ]
    }
   ],
   "source": [
    "raise NotImplementedError"
   ]
  },
  {
   "cell_type": "code",
   "execution_count": null,
   "metadata": {},
   "outputs": [],
   "source": [
    "# animation.to_gif(\"animation\", step_size=int(len(train_loss) / 1000))"
   ]
  },
  {
   "cell_type": "code",
   "execution_count": null,
   "metadata": {},
   "outputs": [],
   "source": [
    "## Compute d\n",
    "\n",
    "data_hid = compiler.trackers[\"hidden\"].get_trace()\n",
    "hid = data_hid.loc[0]\n",
    "\n",
    "\n",
    "av_distances = []\n",
    "for epoch in range(n_epochs):\n",
    "    vecs = dir_to_closest(data_hid.loc[epoch])\n",
    "    av_distance = np.mean([np.sqrt(np.dot(vec, vec)) for vec in vecs.to_numpy()])\n",
    "    av_distances.append(av_distance)"
   ]
  },
  {
   "cell_type": "code",
   "execution_count": null,
   "metadata": {},
   "outputs": [
    {
     "data": {
      "text/plain": [
       "(array([247., 104., 124.,  58., 142., 220., 294., 216., 132., 234., 330.,\n",
       "        384., 378., 272., 208., 314., 392., 522., 538., 606., 870., 772.,\n",
       "        532., 486., 314., 190.,  66.,  20.,  36.,  24.]),\n",
       " array([0.        , 0.32351956, 0.64703911, 0.97055867, 1.29407823,\n",
       "        1.61759779, 1.94111734, 2.2646369 , 2.58815646, 2.91167602,\n",
       "        3.23519557, 3.55871513, 3.88223469, 4.20575425, 4.5292738 ,\n",
       "        4.85279336, 5.17631292, 5.49983247, 5.82335203, 6.14687159,\n",
       "        6.47039115, 6.7939107 , 7.11743026, 7.44094982, 7.76446938,\n",
       "        8.08798893, 8.41150849, 8.73502805, 9.05854761, 9.38206716,\n",
       "        9.70558672]),\n",
       " <BarContainer object of 30 artists>)"
      ]
     },
     "execution_count": 10,
     "metadata": {},
     "output_type": "execute_result"
    },
    {
     "data": {
      "image/png": "[encoded data removed]",
      "text/plain": [
       "<Figure size 640x480 with 1 Axes>"
      ]
     },
     "metadata": {},
     "output_type": "display_data"
    }
   ],
   "source": [
    "hs = data_hid.query(f\"Epoch == {n_epochs-1}\")\n",
    "plt.hist(spatial.distance_matrix(hs, hs).ravel(), bins=30)"
   ]
  },
  {
   "cell_type": "code",
   "execution_count": null,
   "metadata": {},
   "outputs": [],
   "source": [
    "cutoff = 1\n",
    "\n",
    "\n",
    "def fraction_merged(hs):\n",
    "    # Find nearest points\n",
    "    inputs = hs.index.get_level_values(\"Input\")\n",
    "    dist = spatial.distance_matrix(hs, hs)\n",
    "    dist[dist == 0] = np.inf\n",
    "\n",
    "    # Count fraction same output\n",
    "    count_same = 0\n",
    "    count_diff = 0\n",
    "    count_same_merged = 0\n",
    "    count_diff_merged = 0\n",
    "    for i, distances in enumerate(dist):\n",
    "        for j, dist in enumerate(distances):\n",
    "            input_1, input_2 = inputs[i], inputs[j]\n",
    "            if input_1 != \"initial\" and input_2 != \"initial\":\n",
    "                output_1 = problem([int(x) for x in input_1])\n",
    "                output_2 = problem([int(x) for x in input_2])\n",
    "                if output_1 == output_2:\n",
    "                    count_same += 1\n",
    "                else:\n",
    "                    count_diff += 1\n",
    "                if dist < cutoff:\n",
    "                    if output_1 == output_2:\n",
    "                        count_same_merged += 1\n",
    "                    else:\n",
    "                        count_diff_merged += 1\n",
    "\n",
    "    same_fraction = count_same_merged / count_same\n",
    "    diff_fraction = count_diff_merged / count_diff\n",
    "    return same_fraction, diff_fraction\n",
    "\n",
    "\n",
    "n_same, n_diff = [], []\n",
    "epochs = data_hid.index.unique(level=\"Epoch\")\n",
    "for epoch in tqdm(epochs):\n",
    "    hs = data_hid.query(f\"Epoch == {epoch}\")\n",
    "    same_fraction, diff_fraction = fraction_merged(hs)\n",
    "    n_same.append(same_fraction)\n",
    "    n_diff.append(diff_fraction)\n",
    "\n",
    "plt.plot(train_loss, label=\"Training loss\")\n",
    "plt.plot(val_loss, label=\"Validation loss\")\n",
    "plt.plot(n_same, label=\"Merged pairs w. same output\")\n",
    "plt.plot(n_diff, label=\"Merged pairs w. different output\")\n",
    "plt.ylabel(\"Count\")\n",
    "plt.xlabel(\"Epoch\")\n",
    "plt.ylim(0, 1)\n",
    "plt.legend(loc=\"upper right\")\n",
    "plt.show()"
   ]
  },
  {
   "cell_type": "code",
   "execution_count": null,
   "metadata": {},
   "outputs": [
    {
     "name": "stderr",
     "output_type": "stream",
     "text": [
      " 73%|███████▎  | 2176/3000 [00:17<00:06, 121.42it/s]\n"
     ]
    },
    {
     "ename": "KeyboardInterrupt",
     "evalue": "",
     "output_type": "error",
     "traceback": [
      "\u001b[0;31m---------------------------------------------------------------------------\u001b[0m",
      "\u001b[0;31mKeyboardInterrupt\u001b[0m                         Traceback (most recent call last)",
      "\u001b[1;32m/home/loek/projects/rnn/RNN/main.ipynb Cell 12\u001b[0m line \u001b[0;36m2\n\u001b[1;32m     <a href='vscode-notebook-cell://wsl%2Bubuntu-20.04/home/loek/projects/rnn/RNN/main.ipynb#X14sdnNjb2RlLXJlbW90ZQ%3D%3D?line=21'>22</a>\u001b[0m epochs \u001b[39m=\u001b[39m data_hid\u001b[39m.\u001b[39mindex\u001b[39m.\u001b[39munique(level\u001b[39m=\u001b[39m\u001b[39m\"\u001b[39m\u001b[39mEpoch\u001b[39m\u001b[39m\"\u001b[39m)\n\u001b[1;32m     <a href='vscode-notebook-cell://wsl%2Bubuntu-20.04/home/loek/projects/rnn/RNN/main.ipynb#X14sdnNjb2RlLXJlbW90ZQ%3D%3D?line=22'>23</a>\u001b[0m \u001b[39mfor\u001b[39;00m epoch \u001b[39min\u001b[39;00m tqdm(epochs):\n\u001b[0;32m---> <a href='vscode-notebook-cell://wsl%2Bubuntu-20.04/home/loek/projects/rnn/RNN/main.ipynb#X14sdnNjb2RlLXJlbW90ZQ%3D%3D?line=23'>24</a>\u001b[0m     hs \u001b[39m=\u001b[39m data_hid\u001b[39m.\u001b[39;49mquery(\u001b[39mf\u001b[39;49m\u001b[39m\"\u001b[39;49m\u001b[39mEpoch == \u001b[39;49m\u001b[39m{\u001b[39;49;00mepoch\u001b[39m}\u001b[39;49;00m\u001b[39m\"\u001b[39;49m)\n\u001b[1;32m     <a href='vscode-notebook-cell://wsl%2Bubuntu-20.04/home/loek/projects/rnn/RNN/main.ipynb#X14sdnNjb2RlLXJlbW90ZQ%3D%3D?line=24'>25</a>\u001b[0m     fractions\u001b[39m.\u001b[39mappend(fraction_nearest_same(hs))\n\u001b[1;32m     <a href='vscode-notebook-cell://wsl%2Bubuntu-20.04/home/loek/projects/rnn/RNN/main.ipynb#X14sdnNjb2RlLXJlbW90ZQ%3D%3D?line=26'>27</a>\u001b[0m plt\u001b[39m.\u001b[39mplot(fractions)\n",
      "File \u001b[0;32m~/miniconda3/envs/rnn/lib/python3.10/site-packages/pandas/core/frame.py:4599\u001b[0m, in \u001b[0;36mDataFrame.query\u001b[0;34m(self, expr, inplace, **kwargs)\u001b[0m\n\u001b[1;32m   4597\u001b[0m kwargs[\u001b[39m\"\u001b[39m\u001b[39mlevel\u001b[39m\u001b[39m\"\u001b[39m] \u001b[39m=\u001b[39m kwargs\u001b[39m.\u001b[39mpop(\u001b[39m\"\u001b[39m\u001b[39mlevel\u001b[39m\u001b[39m\"\u001b[39m, \u001b[39m0\u001b[39m) \u001b[39m+\u001b[39m \u001b[39m1\u001b[39m\n\u001b[1;32m   4598\u001b[0m kwargs[\u001b[39m\"\u001b[39m\u001b[39mtarget\u001b[39m\u001b[39m\"\u001b[39m] \u001b[39m=\u001b[39m \u001b[39mNone\u001b[39;00m\n\u001b[0;32m-> 4599\u001b[0m res \u001b[39m=\u001b[39m \u001b[39mself\u001b[39;49m\u001b[39m.\u001b[39;49meval(expr, \u001b[39m*\u001b[39;49m\u001b[39m*\u001b[39;49mkwargs)\n\u001b[1;32m   4601\u001b[0m \u001b[39mtry\u001b[39;00m:\n\u001b[1;32m   4602\u001b[0m     result \u001b[39m=\u001b[39m \u001b[39mself\u001b[39m\u001b[39m.\u001b[39mloc[res]\n",
      "File \u001b[0;32m~/miniconda3/envs/rnn/lib/python3.10/site-packages/pandas/core/frame.py:4725\u001b[0m, in \u001b[0;36mDataFrame.eval\u001b[0;34m(self, expr, inplace, **kwargs)\u001b[0m\n\u001b[1;32m   4722\u001b[0m     kwargs[\u001b[39m\"\u001b[39m\u001b[39mtarget\u001b[39m\u001b[39m\"\u001b[39m] \u001b[39m=\u001b[39m \u001b[39mself\u001b[39m\n\u001b[1;32m   4723\u001b[0m kwargs[\u001b[39m\"\u001b[39m\u001b[39mresolvers\u001b[39m\u001b[39m\"\u001b[39m] \u001b[39m=\u001b[39m \u001b[39mtuple\u001b[39m(kwargs\u001b[39m.\u001b[39mget(\u001b[39m\"\u001b[39m\u001b[39mresolvers\u001b[39m\u001b[39m\"\u001b[39m, ())) \u001b[39m+\u001b[39m resolvers\n\u001b[0;32m-> 4725\u001b[0m \u001b[39mreturn\u001b[39;00m _eval(expr, inplace\u001b[39m=\u001b[39;49minplace, \u001b[39m*\u001b[39;49m\u001b[39m*\u001b[39;49mkwargs)\n",
      "File \u001b[0;32m~/miniconda3/envs/rnn/lib/python3.10/site-packages/pandas/core/computation/eval.py:315\u001b[0m, in \u001b[0;36meval\u001b[0;34m(expr, parser, engine, local_dict, global_dict, resolvers, level, target, inplace)\u001b[0m\n\u001b[1;32m    310\u001b[0m \u001b[39mif\u001b[39;00m multi_line \u001b[39mand\u001b[39;00m target \u001b[39mis\u001b[39;00m \u001b[39mNone\u001b[39;00m:\n\u001b[1;32m    311\u001b[0m     \u001b[39mraise\u001b[39;00m \u001b[39mValueError\u001b[39;00m(\n\u001b[1;32m    312\u001b[0m         \u001b[39m\"\u001b[39m\u001b[39mmulti-line expressions are only valid in the \u001b[39m\u001b[39m\"\u001b[39m\n\u001b[1;32m    313\u001b[0m         \u001b[39m\"\u001b[39m\u001b[39mcontext of data, use DataFrame.eval\u001b[39m\u001b[39m\"\u001b[39m\n\u001b[1;32m    314\u001b[0m     )\n\u001b[0;32m--> 315\u001b[0m engine \u001b[39m=\u001b[39m _check_engine(engine)\n\u001b[1;32m    316\u001b[0m _check_parser(parser)\n\u001b[1;32m    317\u001b[0m _check_resolvers(resolvers)\n",
      "File \u001b[0;32m~/miniconda3/envs/rnn/lib/python3.10/site-packages/pandas/core/computation/eval.py:55\u001b[0m, in \u001b[0;36m_check_engine\u001b[0;34m(engine)\u001b[0m\n\u001b[1;32m     52\u001b[0m \u001b[39mfrom\u001b[39;00m \u001b[39mpandas\u001b[39;00m\u001b[39m.\u001b[39;00m\u001b[39mcore\u001b[39;00m\u001b[39m.\u001b[39;00m\u001b[39mcomputation\u001b[39;00m\u001b[39m.\u001b[39;00m\u001b[39mexpressions\u001b[39;00m \u001b[39mimport\u001b[39;00m USE_NUMEXPR\n\u001b[1;32m     54\u001b[0m \u001b[39mif\u001b[39;00m engine \u001b[39mis\u001b[39;00m \u001b[39mNone\u001b[39;00m:\n\u001b[0;32m---> 55\u001b[0m     engine \u001b[39m=\u001b[39m \u001b[39m\"\u001b[39m\u001b[39mnumexpr\u001b[39m\u001b[39m\"\u001b[39m \u001b[39mif\u001b[39;00m USE_NUMEXPR \u001b[39melse\u001b[39;00m \u001b[39m\"\u001b[39m\u001b[39mpython\u001b[39m\u001b[39m\"\u001b[39m\n\u001b[1;32m     57\u001b[0m \u001b[39mif\u001b[39;00m engine \u001b[39mnot\u001b[39;00m \u001b[39min\u001b[39;00m ENGINES:\n\u001b[1;32m     58\u001b[0m     valid_engines \u001b[39m=\u001b[39m \u001b[39mlist\u001b[39m(ENGINES\u001b[39m.\u001b[39mkeys())\n",
      "\u001b[0;31mKeyboardInterrupt\u001b[0m: "
     ]
    }
   ],
   "source": [
    "def fraction_nearest_same(hs):\n",
    "    # Find nearest points\n",
    "    inputs = hs.index.get_level_values(\"Input\")\n",
    "    dist = spatial.distance_matrix(hs, hs)\n",
    "    dist[dist == 0] = np.inf\n",
    "    closest = np.argmin(dist, axis=1)\n",
    "\n",
    "    # Count fraction same output\n",
    "    count_same = 0\n",
    "    for i, j in enumerate(closest):\n",
    "        input_1, input_2 = inputs[i], inputs[j]\n",
    "        if input_1 != \"initial\" and input_2 != \"initial\":\n",
    "            output_1 = problem([int(x) for x in input_1])\n",
    "            output_2 = problem([int(x) for x in input_2])\n",
    "            if output_1 == output_2:\n",
    "                count_same += 1\n",
    "    count_same = count_same / len(inputs)\n",
    "    return count_same\n",
    "\n",
    "\n",
    "fractions = []\n",
    "epochs = data_hid.index.unique(level=\"Epoch\")\n",
    "for epoch in tqdm(epochs):\n",
    "    hs = data_hid.query(f\"Epoch == {epoch}\")\n",
    "    fractions.append(fraction_nearest_same(hs))\n",
    "\n",
    "plt.plot(fractions)\n",
    "plt.ylabel(\"Fraction nearest pairs same output\")\n",
    "plt.xlabel(\"Epoch\")\n",
    "plt.ylim(0, 1)\n",
    "plt.show()"
   ]
  },
  {
   "cell_type": "code",
   "execution_count": null,
   "metadata": {},
   "outputs": [
    {
     "data": {
      "text/html": [
       "<div>\n",
       "<style scoped>\n",
       "    .dataframe tbody tr th:only-of-type {\n",
       "        vertical-align: middle;\n",
       "    }\n",
       "\n",
       "    .dataframe tbody tr th {\n",
       "        vertical-align: top;\n",
       "    }\n",
       "\n",
       "    .dataframe thead th {\n",
       "        text-align: right;\n",
       "    }\n",
       "</style>\n",
       "<table border=\"1\" class=\"dataframe\">\n",
       "  <thead>\n",
       "    <tr style=\"text-align: right;\">\n",
       "      <th></th>\n",
       "      <th>0</th>\n",
       "    </tr>\n",
       "  </thead>\n",
       "  <tbody>\n",
       "    <tr>\n",
       "      <th>0010</th>\n",
       "      <td>0.044074</td>\n",
       "    </tr>\n",
       "    <tr>\n",
       "      <th>0000</th>\n",
       "      <td>0.071009</td>\n",
       "    </tr>\n",
       "    <tr>\n",
       "      <th>0111</th>\n",
       "      <td>0.048175</td>\n",
       "    </tr>\n",
       "    <tr>\n",
       "      <th>0001</th>\n",
       "      <td>0.008482</td>\n",
       "    </tr>\n",
       "    <tr>\n",
       "      <th>1001</th>\n",
       "      <td>0.036352</td>\n",
       "    </tr>\n",
       "    <tr>\n",
       "      <th>1101</th>\n",
       "      <td>0.026557</td>\n",
       "    </tr>\n",
       "    <tr>\n",
       "      <th>1110</th>\n",
       "      <td>0.005708</td>\n",
       "    </tr>\n",
       "    <tr>\n",
       "      <th>1111</th>\n",
       "      <td>0.021661</td>\n",
       "    </tr>\n",
       "    <tr>\n",
       "      <th>0110</th>\n",
       "      <td>0.034670</td>\n",
       "    </tr>\n",
       "    <tr>\n",
       "      <th>1100</th>\n",
       "      <td>0.024409</td>\n",
       "    </tr>\n",
       "    <tr>\n",
       "      <th>0100</th>\n",
       "      <td>0.060880</td>\n",
       "    </tr>\n",
       "    <tr>\n",
       "      <th>0011</th>\n",
       "      <td>0.036023</td>\n",
       "    </tr>\n",
       "    <tr>\n",
       "      <th>1000</th>\n",
       "      <td>0.061128</td>\n",
       "    </tr>\n",
       "    <tr>\n",
       "      <th>0101</th>\n",
       "      <td>0.032245</td>\n",
       "    </tr>\n",
       "    <tr>\n",
       "      <th>1010</th>\n",
       "      <td>0.033344</td>\n",
       "    </tr>\n",
       "  </tbody>\n",
       "</table>\n",
       "</div>"
      ],
      "text/plain": [
       "             0\n",
       "0010  0.044074\n",
       "0000  0.071009\n",
       "0111  0.048175\n",
       "0001  0.008482\n",
       "1001  0.036352\n",
       "1101  0.026557\n",
       "1110  0.005708\n",
       "1111  0.021661\n",
       "0110  0.034670\n",
       "1100  0.024409\n",
       "0100  0.060880\n",
       "0011  0.036023\n",
       "1000  0.061128\n",
       "0101  0.032245\n",
       "1010  0.033344"
      ]
     },
     "execution_count": 13,
     "metadata": {},
     "output_type": "execute_result"
    }
   ],
   "source": [
    "## test\n",
    "\n",
    "import torch.utils.data as data\n",
    "\n",
    "dataset = train_datasets[3]\n",
    "trainloader = data.DataLoader(dataset, batch_size=len(dataset), shuffle=False)\n",
    "for batch in trainloader:\n",
    "    inputs, outputs = batch\n",
    "\n",
    "    # Get labels\n",
    "    labels = []\n",
    "    for input in inputs:\n",
    "        try:\n",
    "            decoding = model.encoding.decode(input.cpu())\n",
    "            label = \"\".join(str(int(char)) for char in decoding)\n",
    "        except KeyError:\n",
    "            label = tuple(np.squeeze(input.cpu()).numpy())\n",
    "        labels.append(label)\n",
    "\n",
    "\n",
    "grad = jacobian(lambda x: model(x)[0], inputs)\n",
    "\n",
    "dets = torch.Tensor(\n",
    "    [\n",
    "        np.sum(\n",
    "            [\n",
    "                torch.abs(torch.det(grad[input, :, input, char, :]))\n",
    "                for char in range(grad.shape[3])\n",
    "            ]\n",
    "        )\n",
    "        for input in range(grad.shape[0])\n",
    "    ]\n",
    ")\n",
    "\n",
    "act_this_dataset = dets\n",
    "act_this_dataset = torch.squeeze(act_this_dataset).cpu().detach().numpy()\n",
    "act_this_dataset = pd.DataFrame(act_this_dataset, labels)\n",
    "act_this_dataset\n"
   ]
  },
  {
   "cell_type": "code",
   "execution_count": null,
   "metadata": {},
   "outputs": [
    {
     "name": "stderr",
     "output_type": "stream",
     "text": [
      "100%|██████████| 100/100 [00:00<00:00, 173.70it/s]\n"
     ]
    },
    {
     "data": {
      "image/png": "[encoded data removed]",
      "text/plain": [
       "<Figure size 640x480 with 1 Axes>"
      ]
     },
     "metadata": {},
     "output_type": "display_data"
    }
   ],
   "source": [
    "## Check for generalization\n",
    "N = 100\n",
    "val_data = []\n",
    "for n in trange(1, N + 1):\n",
    "    val_data.append(seq_data(device, problem, encoding, n_datapoints=100, seq_len=n))\n",
    "val_err = compiler.validation(val_data).to_numpy()[:, 0]\n",
    "\n",
    "fig = plt.figure()\n",
    "ax = fig.add_axes([0, 0, 1, 1])\n",
    "ax.bar(np.arange(1, N + 1), val_err)\n",
    "ax.set_xlabel(\"Sequence lengths\")\n",
    "ax.set_ylabel(\"Validation error\")\n",
    "ax.set_yticks(np.arange(0, 1, 0.1))\n",
    "plt.show()\n"
   ]
  },
  {
   "cell_type": "code",
   "execution_count": null,
   "metadata": {},
   "outputs": [
    {
     "name": "stdout",
     "output_type": "stream",
     "text": [
      "Prediction: [[ 0.9055616 -0.2686588]], True output: 1\n"
     ]
    }
   ],
   "source": [
    "## Make predictions\n",
    "\n",
    "\n",
    "def predict(model, sequence):\n",
    "    input = torch.from_numpy(np.array([encoding(sequence)], dtype=np.float32)).to(\n",
    "        device\n",
    "    )\n",
    "    out, hidden = model(input)\n",
    "    prediction = out.cpu().detach().numpy()\n",
    "    return prediction\n",
    "\n",
    "\n",
    "test_seq = [0, 0, 0, 1, 0, 0, 0, 1, 1, 0, 0, 0, 0]\n",
    "print(f\"Prediction: {predict(model, test_seq)}, True output: {problem(test_seq)}\")"
   ]
  }
 ],
 "metadata": {
  "kernelspec": {
   "display_name": "Python 3.10.6 ('rnn')",
   "language": "python",
   "name": "python3"
  },
  "language_info": {
   "codemirror_mode": {
    "name": "ipython",
    "version": 3
   },
   "file_extension": ".py",
   "mimetype": "text/x-python",
   "name": "python",
   "nbconvert_exporter": "python",
   "pygments_lexer": "ipython3",
   "version": "3.10.13"
  },
  "orig_nbformat": 4,
  "vscode": {
   "interpreter": {
    "hash": "e02af9847f8f14625728f2f7147d07d87bda9043f1b0a8cf0822fa7c64756065"
   }
  }
 },
 "nbformat": 4,
 "nbformat_minor": 2
}
