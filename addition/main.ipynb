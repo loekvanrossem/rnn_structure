{
 "cells": [
  {
   "cell_type": "code",
   "execution_count": 1,
   "metadata": {},
   "outputs": [
    {
     "name": "stdout",
     "output_type": "stream",
     "text": [
      "GPU is available\n"
     ]
    }
   ],
   "source": [
    "import sys\n",
    "import numpy as np\n",
    "import matplotlib.pyplot as plt\n",
    "import pandas as pd\n",
    "from tqdm import trange\n",
    "from numba import njit, prange\n",
    "\n",
    "import torch\n",
    "from torch import nn\n",
    "\n",
    "\n",
    "from data import addition_dataset\n",
    "\n",
    "source = \"../source\"\n",
    "sys.path.append(source)\n",
    "\n",
    "from preprocessing import OneHot, Encoding\n",
    "from compilation import Compiler, ScalarTracker, ActivationTracker\n",
    "from data_analysis.automata import to_automaton_history\n",
    "from visualization.animation import SliderAnimation\n",
    "from visualization.activations import ActivationsAnimation\n",
    "from visualization.automata import AutomatonAnimation\n",
    "from visualization.epochs import EpochAnimation\n",
    "\n",
    "import publication\n",
    "\n",
    "is_cuda = torch.cuda.is_available()\n",
    "if is_cuda:\n",
    "    device = torch.device(\"cuda\")\n",
    "    print(\"GPU is available\")\n",
    "else:\n",
    "    device = torch.device(\"cpu\")\n",
    "    print(\"GPU not available, CPU used\")"
   ]
  },
  {
   "cell_type": "code",
   "execution_count": 2,
   "metadata": {},
   "outputs": [],
   "source": [
    "symbols = [str(n) for n in range(10)] + [\"+\", \" \"]\n",
    "onehot = OneHot(symbols)\n",
    "\n",
    "\n",
    "class SequenceEncoder(Encoding):\n",
    "    def __init__(self, single_encoder: Encoding):\n",
    "        self._decoding = lambda x: x\n",
    "        self.single_encoder = single_encoder\n",
    "\n",
    "    # @property\n",
    "    # def symbols(self) -> list:\n",
    "    #     return None\n",
    "\n",
    "    # def _update_decoding(self, encoding):\n",
    "    #     pass\n",
    "\n",
    "    def __call__(self, data):\n",
    "        encoded = [self.single_encoder(char) for char in data]\n",
    "        encoded = encoded[::-1]  # decoded in reverse for better computation\n",
    "        return encoded\n",
    "\n",
    "    def decode(self, enc_data):\n",
    "        enc_data = enc_data.to(\"cpu\").detach()\n",
    "        decoded = [self.single_encoder.decode(vec) for vec in enc_data]\n",
    "        decoded = \"\".join(decoded)\n",
    "        decoded = decoded[::-1]\n",
    "        return decoded\n",
    "\n",
    "\n",
    "encoder = SequenceEncoder(onehot)"
   ]
  },
  {
   "cell_type": "code",
   "execution_count": 3,
   "metadata": {},
   "outputs": [],
   "source": [
    "## Generate data\n",
    "\n",
    "full_length = 100\n",
    "max_train_length = 20\n",
    "test_length = 30\n",
    "\n",
    "test_data = addition_dataset(\n",
    "    device, encoder, n_datapoints=100, seq_len=[test_length], full_length=full_length\n",
    ")"
   ]
  },
  {
   "cell_type": "code",
   "execution_count": 4,
   "metadata": {},
   "outputs": [],
   "source": [
    "## Define model\n",
    "\n",
    "\n",
    "class Model(nn.Module):\n",
    "    def __init__(self, device, input_size, hidden_size, output_size, num_layers=1):\n",
    "        super().__init__()\n",
    "        self.lstm_encoder = nn.LSTM(\n",
    "            input_size=input_size,\n",
    "            hidden_size=hidden_size,\n",
    "            num_layers=num_layers,\n",
    "            bidirectional=True,\n",
    "            batch_first=True,\n",
    "        )\n",
    "        self.lstm_decoder = nn.LSTM(\n",
    "            input_size=hidden_size * 2,\n",
    "            hidden_size=hidden_size,\n",
    "            num_layers=num_layers,\n",
    "            bidirectional=True,\n",
    "            batch_first=True,\n",
    "        )\n",
    "        self.linear = nn.Linear(hidden_size * 2, output_size)\n",
    "\n",
    "        self.to(device)\n",
    "\n",
    "    def forward(self, x):\n",
    "        x, _ = self.lstm_encoder(x)\n",
    "        x, _ = self.lstm_decoder(x)\n",
    "        x = self.linear(x)\n",
    "        return x\n",
    "\n",
    "\n",
    "model = Model(\n",
    "    device,\n",
    "    input_size=len(symbols),\n",
    "    hidden_size=100,\n",
    "    num_layers=1,\n",
    "    output_size=len(symbols),\n",
    ")"
   ]
  },
  {
   "cell_type": "code",
   "execution_count": 5,
   "metadata": {},
   "outputs": [],
   "source": [
    "def predict(input, model):\n",
    "    out = model(input)\n",
    "    pred = torch.argmax(out, axis=1).int()\n",
    "    string = \"\".join([symbols[index] for index in pred])\n",
    "\n",
    "    string = string[::-1]\n",
    "    return string\n",
    "\n",
    "\n",
    "def score(dataset, model):\n",
    "    count = 0\n",
    "    n_datapoints = len(dataset)\n",
    "    for n in prange(n_datapoints):\n",
    "        x, y = dataset[n]\n",
    "        target = encoder.decode(y)\n",
    "        prediction = predict(x, model)\n",
    "        if target == prediction:\n",
    "            count += 1\n",
    "    acc = count / len(dataset)\n",
    "    return acc"
   ]
  },
  {
   "cell_type": "code",
   "execution_count": 6,
   "metadata": {},
   "outputs": [],
   "source": [
    "# model = torch.load(\"model.pt\")"
   ]
  },
  {
   "cell_type": "code",
   "execution_count": 7,
   "metadata": {},
   "outputs": [],
   "source": [
    "train_losses, test_losses, train_scores, test_scores = [], [], [], []"
   ]
  },
  {
   "cell_type": "code",
   "execution_count": 8,
   "metadata": {},
   "outputs": [
    {
     "name": "stdout",
     "output_type": "stream",
     "text": [
      "Epoch 0: train RMSE 0.3039, test RMSE 0.3020, train score 0.00, test score 0.00\n",
      "Epoch 50: train RMSE 0.0608, test RMSE 0.1142, train score 0.00, test score 0.00\n",
      "Epoch 100: train RMSE 0.0567, test RMSE 0.1072, train score 0.06, test score 0.02\n",
      "Epoch 150: train RMSE 0.0524, test RMSE 0.1001, train score 0.14, test score 0.00\n",
      "Epoch 200: train RMSE 0.0485, test RMSE 0.0960, train score 0.23, test score 0.05\n",
      "Epoch 250: train RMSE 0.0469, test RMSE 0.0959, train score 0.26, test score 0.03\n",
      "Epoch 300: train RMSE 0.0460, test RMSE 0.0922, train score 0.32, test score 0.05\n",
      "Epoch 350: train RMSE 0.0450, test RMSE 0.0910, train score 0.22, test score 0.06\n",
      "Epoch 400: train RMSE 0.0441, test RMSE 0.0893, train score 0.26, test score 0.07\n",
      "Epoch 450: train RMSE 0.0426, test RMSE 0.0886, train score 0.29, test score 0.07\n",
      "Epoch 500: train RMSE 0.0408, test RMSE 0.0896, train score 0.48, test score 0.07\n",
      "Epoch 550: train RMSE 0.0414, test RMSE 0.0881, train score 0.38, test score 0.08\n",
      "Epoch 600: train RMSE 0.0396, test RMSE 0.0873, train score 0.43, test score 0.09\n",
      "Epoch 650: train RMSE 0.0399, test RMSE 0.0870, train score 0.42, test score 0.07\n",
      "Epoch 700: train RMSE 0.0387, test RMSE 0.0871, train score 0.46, test score 0.09\n",
      "Epoch 750: train RMSE 0.0390, test RMSE 0.0857, train score 0.45, test score 0.09\n",
      "Epoch 800: train RMSE 0.0380, test RMSE 0.0860, train score 0.46, test score 0.10\n"
     ]
    },
    {
     "ename": "KeyboardInterrupt",
     "evalue": "",
     "output_type": "error",
     "traceback": [
      "\u001b[0;31m---------------------------------------------------------------------------\u001b[0m",
      "\u001b[0;31mKeyboardInterrupt\u001b[0m                         Traceback (most recent call last)",
      "Cell \u001b[0;32mIn[8], line 41\u001b[0m\n\u001b[1;32m     39\u001b[0m \u001b[38;5;66;03m# Train\u001b[39;00m\n\u001b[1;32m     40\u001b[0m model\u001b[38;5;241m.\u001b[39mtrain()\n\u001b[0;32m---> 41\u001b[0m \u001b[43m\u001b[49m\u001b[38;5;28;43;01mfor\u001b[39;49;00m\u001b[43m \u001b[49m\u001b[43mX_batch\u001b[49m\u001b[43m,\u001b[49m\u001b[43m \u001b[49m\u001b[43my_batch\u001b[49m\u001b[43m \u001b[49m\u001b[38;5;129;43;01min\u001b[39;49;00m\u001b[43m \u001b[49m\u001b[43mtrain_loader\u001b[49m\u001b[43m:\u001b[49m\n\u001b[1;32m     42\u001b[0m \u001b[43m    \u001b[49m\u001b[43my_pred\u001b[49m\u001b[43m \u001b[49m\u001b[38;5;241;43m=\u001b[39;49m\u001b[43m \u001b[49m\u001b[43mmodel\u001b[49m\u001b[43m(\u001b[49m\u001b[43mX_batch\u001b[49m\u001b[43m)\u001b[49m\n\u001b[1;32m     43\u001b[0m \u001b[43m    \u001b[49m\u001b[43mloss\u001b[49m\u001b[43m \u001b[49m\u001b[38;5;241;43m=\u001b[39;49m\u001b[43m \u001b[49m\u001b[43mloss_fn\u001b[49m\u001b[43m(\u001b[49m\u001b[43my_pred\u001b[49m\u001b[43m,\u001b[49m\u001b[43m \u001b[49m\u001b[43my_batch\u001b[49m\u001b[43m)\u001b[49m\n",
      "File \u001b[0;32m~/miniconda3/envs/rnn_structure/lib/python3.12/site-packages/torch/utils/data/dataloader.py:630\u001b[0m, in \u001b[0;36m_BaseDataLoaderIter.__next__\u001b[0;34m(self)\u001b[0m\n\u001b[1;32m    627\u001b[0m \u001b[38;5;28;01mif\u001b[39;00m \u001b[38;5;28mself\u001b[39m\u001b[38;5;241m.\u001b[39m_sampler_iter \u001b[38;5;129;01mis\u001b[39;00m \u001b[38;5;28;01mNone\u001b[39;00m:\n\u001b[1;32m    628\u001b[0m     \u001b[38;5;66;03m# TODO(https://github.com/pytorch/pytorch/issues/76750)\u001b[39;00m\n\u001b[1;32m    629\u001b[0m     \u001b[38;5;28mself\u001b[39m\u001b[38;5;241m.\u001b[39m_reset()  \u001b[38;5;66;03m# type: ignore[call-arg]\u001b[39;00m\n\u001b[0;32m--> 630\u001b[0m data \u001b[38;5;241m=\u001b[39m \u001b[38;5;28;43mself\u001b[39;49m\u001b[38;5;241;43m.\u001b[39;49m\u001b[43m_next_data\u001b[49m\u001b[43m(\u001b[49m\u001b[43m)\u001b[49m\n\u001b[1;32m    631\u001b[0m \u001b[38;5;28mself\u001b[39m\u001b[38;5;241m.\u001b[39m_num_yielded \u001b[38;5;241m+\u001b[39m\u001b[38;5;241m=\u001b[39m \u001b[38;5;241m1\u001b[39m\n\u001b[1;32m    632\u001b[0m \u001b[38;5;28;01mif\u001b[39;00m \u001b[38;5;28mself\u001b[39m\u001b[38;5;241m.\u001b[39m_dataset_kind \u001b[38;5;241m==\u001b[39m _DatasetKind\u001b[38;5;241m.\u001b[39mIterable \u001b[38;5;129;01mand\u001b[39;00m \\\n\u001b[1;32m    633\u001b[0m         \u001b[38;5;28mself\u001b[39m\u001b[38;5;241m.\u001b[39m_IterableDataset_len_called \u001b[38;5;129;01mis\u001b[39;00m \u001b[38;5;129;01mnot\u001b[39;00m \u001b[38;5;28;01mNone\u001b[39;00m \u001b[38;5;129;01mand\u001b[39;00m \\\n\u001b[1;32m    634\u001b[0m         \u001b[38;5;28mself\u001b[39m\u001b[38;5;241m.\u001b[39m_num_yielded \u001b[38;5;241m>\u001b[39m \u001b[38;5;28mself\u001b[39m\u001b[38;5;241m.\u001b[39m_IterableDataset_len_called:\n",
      "File \u001b[0;32m~/miniconda3/envs/rnn_structure/lib/python3.12/site-packages/torch/utils/data/dataloader.py:674\u001b[0m, in \u001b[0;36m_SingleProcessDataLoaderIter._next_data\u001b[0;34m(self)\u001b[0m\n\u001b[1;32m    672\u001b[0m \u001b[38;5;28;01mdef\u001b[39;00m \u001b[38;5;21m_next_data\u001b[39m(\u001b[38;5;28mself\u001b[39m):\n\u001b[1;32m    673\u001b[0m     index \u001b[38;5;241m=\u001b[39m \u001b[38;5;28mself\u001b[39m\u001b[38;5;241m.\u001b[39m_next_index()  \u001b[38;5;66;03m# may raise StopIteration\u001b[39;00m\n\u001b[0;32m--> 674\u001b[0m     data \u001b[38;5;241m=\u001b[39m \u001b[38;5;28;43mself\u001b[39;49m\u001b[38;5;241;43m.\u001b[39;49m\u001b[43m_dataset_fetcher\u001b[49m\u001b[38;5;241;43m.\u001b[39;49m\u001b[43mfetch\u001b[49m\u001b[43m(\u001b[49m\u001b[43mindex\u001b[49m\u001b[43m)\u001b[49m  \u001b[38;5;66;03m# may raise StopIteration\u001b[39;00m\n\u001b[1;32m    675\u001b[0m     \u001b[38;5;28;01mif\u001b[39;00m \u001b[38;5;28mself\u001b[39m\u001b[38;5;241m.\u001b[39m_pin_memory:\n\u001b[1;32m    676\u001b[0m         data \u001b[38;5;241m=\u001b[39m _utils\u001b[38;5;241m.\u001b[39mpin_memory\u001b[38;5;241m.\u001b[39mpin_memory(data, \u001b[38;5;28mself\u001b[39m\u001b[38;5;241m.\u001b[39m_pin_memory_device)\n",
      "File \u001b[0;32m~/miniconda3/envs/rnn_structure/lib/python3.12/site-packages/torch/utils/data/_utils/fetch.py:54\u001b[0m, in \u001b[0;36m_MapDatasetFetcher.fetch\u001b[0;34m(self, possibly_batched_index)\u001b[0m\n\u001b[1;32m     52\u001b[0m \u001b[38;5;28;01melse\u001b[39;00m:\n\u001b[1;32m     53\u001b[0m     data \u001b[38;5;241m=\u001b[39m \u001b[38;5;28mself\u001b[39m\u001b[38;5;241m.\u001b[39mdataset[possibly_batched_index]\n\u001b[0;32m---> 54\u001b[0m \u001b[38;5;28;01mreturn\u001b[39;00m \u001b[38;5;28;43mself\u001b[39;49m\u001b[38;5;241;43m.\u001b[39;49m\u001b[43mcollate_fn\u001b[49m\u001b[43m(\u001b[49m\u001b[43mdata\u001b[49m\u001b[43m)\u001b[49m\n",
      "File \u001b[0;32m~/miniconda3/envs/rnn_structure/lib/python3.12/site-packages/torch/utils/data/_utils/collate.py:265\u001b[0m, in \u001b[0;36mdefault_collate\u001b[0;34m(batch)\u001b[0m\n\u001b[1;32m    204\u001b[0m \u001b[38;5;28;01mdef\u001b[39;00m \u001b[38;5;21mdefault_collate\u001b[39m(batch):\n\u001b[1;32m    205\u001b[0m \u001b[38;5;250m    \u001b[39m\u001b[38;5;124mr\u001b[39m\u001b[38;5;124;03m\"\"\"\u001b[39;00m\n\u001b[1;32m    206\u001b[0m \u001b[38;5;124;03m        Function that takes in a batch of data and puts the elements within the batch\u001b[39;00m\n\u001b[1;32m    207\u001b[0m \u001b[38;5;124;03m        into a tensor with an additional outer dimension - batch size. The exact output type can be\u001b[39;00m\n\u001b[0;32m   (...)\u001b[0m\n\u001b[1;32m    263\u001b[0m \u001b[38;5;124;03m            >>> default_collate(batch)  # Handle `CustomType` automatically\u001b[39;00m\n\u001b[1;32m    264\u001b[0m \u001b[38;5;124;03m    \"\"\"\u001b[39;00m\n\u001b[0;32m--> 265\u001b[0m     \u001b[38;5;28;01mreturn\u001b[39;00m \u001b[43mcollate\u001b[49m\u001b[43m(\u001b[49m\u001b[43mbatch\u001b[49m\u001b[43m,\u001b[49m\u001b[43m \u001b[49m\u001b[43mcollate_fn_map\u001b[49m\u001b[38;5;241;43m=\u001b[39;49m\u001b[43mdefault_collate_fn_map\u001b[49m\u001b[43m)\u001b[49m\n",
      "File \u001b[0;32m~/miniconda3/envs/rnn_structure/lib/python3.12/site-packages/torch/utils/data/_utils/collate.py:125\u001b[0m, in \u001b[0;36mcollate\u001b[0;34m(batch, collate_fn_map)\u001b[0m\n\u001b[1;32m    122\u001b[0m         \u001b[38;5;28;01mif\u001b[39;00m \u001b[38;5;28misinstance\u001b[39m(elem, collate_type):\n\u001b[1;32m    123\u001b[0m             \u001b[38;5;28;01mreturn\u001b[39;00m collate_fn_map[collate_type](batch, collate_fn_map\u001b[38;5;241m=\u001b[39mcollate_fn_map)\n\u001b[0;32m--> 125\u001b[0m \u001b[38;5;28;01mif\u001b[39;00m \u001b[38;5;28;43misinstance\u001b[39;49m\u001b[43m(\u001b[49m\u001b[43melem\u001b[49m\u001b[43m,\u001b[49m\u001b[43m \u001b[49m\u001b[43mcollections\u001b[49m\u001b[38;5;241;43m.\u001b[39;49m\u001b[43mabc\u001b[49m\u001b[38;5;241;43m.\u001b[39;49m\u001b[43mMapping\u001b[49m\u001b[43m)\u001b[49m:\n\u001b[1;32m    126\u001b[0m     \u001b[38;5;28;01mtry\u001b[39;00m:\n\u001b[1;32m    127\u001b[0m         \u001b[38;5;28;01mreturn\u001b[39;00m elem_type({key: collate([d[key] \u001b[38;5;28;01mfor\u001b[39;00m d \u001b[38;5;129;01min\u001b[39;00m batch], collate_fn_map\u001b[38;5;241m=\u001b[39mcollate_fn_map) \u001b[38;5;28;01mfor\u001b[39;00m key \u001b[38;5;129;01min\u001b[39;00m elem})\n",
      "File \u001b[0;32m<frozen abc>:119\u001b[0m, in \u001b[0;36m__instancecheck__\u001b[0;34m(cls, instance)\u001b[0m\n",
      "\u001b[0;31mKeyboardInterrupt\u001b[0m: "
     ]
    }
   ],
   "source": [
    "## Train\n",
    "\n",
    "optimizer = torch.optim.Adam(model.parameters(), lr=0.001)\n",
    "loss_fn = nn.MSELoss()\n",
    "\n",
    "n_epochs = 5000\n",
    "\n",
    "for epoch in range(n_epochs):\n",
    "    # Generate data\n",
    "    train_data = addition_dataset(\n",
    "        device,\n",
    "        encoder,\n",
    "        n_datapoints=1000,\n",
    "        seq_len=[x for x in range(3, max_train_length) if x != test_length],\n",
    "        full_length=full_length,\n",
    "    )\n",
    "    train_loader = torch.utils.data.DataLoader(train_data, shuffle=True, batch_size=32)\n",
    "\n",
    "    # Validation\n",
    "    if epoch % 50 == 0:\n",
    "        model.eval()\n",
    "        with torch.no_grad():\n",
    "            y_pred = model(train_data.tensors[0])\n",
    "            train_rmse = np.sqrt(loss_fn(y_pred, train_data.tensors[1]).cpu())\n",
    "            y_pred = model(test_data.tensors[0])\n",
    "            test_rmse = np.sqrt(loss_fn(y_pred, test_data.tensors[1]).cpu())\n",
    "            train_score = score(\n",
    "                torch.utils.data.Subset(train_data, np.arange(100)), model\n",
    "            )\n",
    "            test_score = score(test_data, model)\n",
    "            train_losses.append(train_rmse)\n",
    "            test_losses.append(test_rmse)\n",
    "            train_scores.append(train_score)\n",
    "            test_scores.append(test_score)\n",
    "        print(\n",
    "            f\"Epoch {epoch}: train RMSE {train_rmse:.4f}, test RMSE {test_rmse:.4f}, train score {train_score:.2f}, test score {test_score:.2f}\"\n",
    "        )\n",
    "\n",
    "    # Train\n",
    "    model.train()\n",
    "    for X_batch, y_batch in train_loader:\n",
    "        y_pred = model(X_batch)\n",
    "        loss = loss_fn(y_pred, y_batch)\n",
    "        optimizer.zero_grad()\n",
    "        loss.backward()\n",
    "        optimizer.step()"
   ]
  },
  {
   "cell_type": "code",
   "execution_count": null,
   "metadata": {},
   "outputs": [],
   "source": [
    "# torch.save(model, \"model.pt\")"
   ]
  },
  {
   "cell_type": "code",
   "execution_count": null,
   "metadata": {},
   "outputs": [
    {
     "data": {
      "image/png": "[encoded data removed]",
      "text/plain": [
       "<Figure size 640x480 with 1 Axes>"
      ]
     },
     "metadata": {},
     "output_type": "display_data"
    }
   ],
   "source": [
    "## Plot loss curves\n",
    "c = 5\n",
    "publication.set_color_mixed()\n",
    "plt.plot(c * np.array(train_losses), label=\"Train loss\")\n",
    "plt.plot(c * np.array(test_losses), label=\"Test loss\")\n",
    "plt.plot(train_scores, label=\"Train score\")\n",
    "plt.plot(test_scores, label=\"Test score\")\n",
    "plt.legend()\n",
    "publication.plt_show()"
   ]
  },
  {
   "cell_type": "code",
   "execution_count": null,
   "metadata": {},
   "outputs": [
    {
     "name": "stdout",
     "output_type": "stream",
     "text": [
      "Example length: 16\n",
      "input: 788778+878787878                                                                                                    \n",
      "target: 879576656\n",
      "prediction: 879576656                                                                                                           \n",
      "Correct!\n"
     ]
    }
   ],
   "source": [
    "int_a = 788778\n",
    "int_b = 878787878\n",
    "target = int_a + int_b\n",
    "example = f\"{int_a}+{int_b}\"\n",
    "\n",
    "print(f\"Example length: {len(example)}\")\n",
    "\n",
    "computation_length = len(example) + full_length\n",
    "example = example + \" \" * (computation_length - len(example))\n",
    "encoded = torch.tensor(encoder(example), device=device, dtype=torch.float32)\n",
    "prediction = predict(encoded, model)\n",
    "\n",
    "print(f\"input: {example}\")\n",
    "print(f\"target: {target}\")\n",
    "print(f\"prediction: {prediction}\")\n",
    "print(\"Correct!\" if int(prediction) == target else \"Wrong!\")"
   ]
  },
  {
   "cell_type": "code",
   "execution_count": null,
   "metadata": {},
   "outputs": [
    {
     "name": "stderr",
     "output_type": "stream",
     "text": [
      "100%|██████████| 98/98 [01:03<00:00,  1.54it/s]\n"
     ]
    },
    {
     "data": {
      "image/png": "[encoded data removed]",
      "text/plain": [
       "<Figure size 600x400 with 1 Axes>"
      ]
     },
     "metadata": {},
     "output_type": "display_data"
    }
   ],
   "source": [
    "## Check for large sequence length generalization\n",
    "\n",
    "# Evaluate model generalization for sequences of varying lengths\n",
    "N = 100\n",
    "val_scores = []\n",
    "for n in trange(3, N + 1):\n",
    "    val_data = addition_dataset(\n",
    "        device, encoder, n_datapoints=10, seq_len=[n], full_length=full_length\n",
    "    )\n",
    "    val_score = score(val_data, model)\n",
    "    val_scores.append(val_score)\n",
    "\n",
    "# Visualize validation error for varying sequence lengths\n",
    "publication.set_color_mixed()\n",
    "fig = plt.figure(figsize=(6, 4))\n",
    "ax = fig.add_axes([0.1, 0.1, 0.8, 0.8])\n",
    "ax.bar(np.arange(3, N + 1), val_scores, color=\"skyblue\")\n",
    "ax.set_xlabel(\"Sequence lengths\")\n",
    "ax.set_ylabel(\"Validation error\")\n",
    "ax.set_title(\"Model Generalization Across Sequence Lengths\")\n",
    "ax.set_yticks(np.arange(0, 1, 0.1))\n",
    "publication.pub_show()"
   ]
  }
 ],
 "metadata": {
  "kernelspec": {
   "display_name": "rnn_structure",
   "language": "python",
   "name": "python3"
  },
  "language_info": {
   "codemirror_mode": {
    "name": "ipython",
    "version": 3
   },
   "file_extension": ".py",
   "mimetype": "text/x-python",
   "name": "python",
   "nbconvert_exporter": "python",
   "pygments_lexer": "ipython3",
   "version": "3.12.2"
  }
 },
 "nbformat": 4,
 "nbformat_minor": 2
}
