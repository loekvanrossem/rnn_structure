{
 "cells": [
  {
   "cell_type": "code",
   "execution_count": 1,
   "metadata": {},
   "outputs": [
    {
     "name": "stderr",
     "output_type": "stream",
     "text": [
      "/home/loek/miniconda3/envs/rnn/lib/python3.10/site-packages/tqdm/auto.py:22: TqdmWarning: IProgress not found. Please update jupyter and ipywidgets. See https://ipywidgets.readthedocs.io/en/stable/user_install.html\n",
      "  from .autonotebook import tqdm as notebook_tqdm\n"
     ]
    },
    {
     "name": "stdout",
     "output_type": "stream",
     "text": [
      "GPU is available\n"
     ]
    }
   ],
   "source": [
    "import torch\n",
    "from torch import nn\n",
    "\n",
    "import numpy as np\n",
    "from numpy import dtype\n",
    "import matplotlib.pyplot as plt\n",
    "\n",
    "from tqdm import trange\n",
    "\n",
    "# torch.cuda.is_available() checks and returns a Boolean True if a GPU is available, else it'll return False\n",
    "is_cuda = torch.cuda.is_available()\n",
    "\n",
    "# If we have a GPU available, we'll set our device to GPU. We'll use this device variable later in our code.\n",
    "if is_cuda:\n",
    "    device = torch.device(\"cuda\")\n",
    "    print(\"GPU is available\")\n",
    "else:\n",
    "    device = torch.device(\"cpu\")\n",
    "    print(\"GPU not available, CPU used\")"
   ]
  },
  {
   "cell_type": "code",
   "execution_count": 2,
   "metadata": {},
   "outputs": [],
   "source": [
    "## Generate data\n",
    "\n",
    "\n",
    "def XOR_data(n_datapoints=100, seq_len=4):\n",
    "    inputs = np.zeros([n_datapoints, seq_len, 1], dtype=np.float32)\n",
    "    outputs = np.zeros([n_datapoints, 1], dtype=np.float32)\n",
    "    for i in range(n_datapoints):\n",
    "        # Generate input sequences\n",
    "        for j in range(seq_len):\n",
    "            bit = np.random.choice([0, 1])\n",
    "            inputs[i, j, 0] = bit\n",
    "\n",
    "        # Compute output\n",
    "        xor = np.nansum(inputs[i]) % 2\n",
    "        outputs[i] = xor\n",
    "\n",
    "    return inputs, outputs"
   ]
  },
  {
   "cell_type": "code",
   "execution_count": 3,
   "metadata": {},
   "outputs": [],
   "source": [
    "class Model(nn.Module):\n",
    "    def __init__(self, input_size, output_size, hidden_dim, n_layers):\n",
    "        super(Model, self).__init__()\n",
    "\n",
    "        # Defining some parameters\n",
    "        self.hidden_dim = hidden_dim\n",
    "        self.n_layers = n_layers\n",
    "\n",
    "        # Defining the layers\n",
    "        self.rnn = nn.RNN(\n",
    "            input_size, hidden_dim, n_layers, batch_first=True, nonlinearity=\"relu\"\n",
    "        )\n",
    "        self.fc = nn.Linear(hidden_dim, output_size)\n",
    "\n",
    "    def forward(self, x):\n",
    "\n",
    "        batch_size = x.size(0)\n",
    "\n",
    "        # Initializing hidden state for first input using method defined below\n",
    "        hidden = self.init_hidden(batch_size)\n",
    "\n",
    "        # Passing in the input and hidden state into the model and obtaining outputs\n",
    "        out, hidden = self.rnn(x, hidden)\n",
    "        out = out[:, -1]\n",
    "        out = self.fc(out)\n",
    "\n",
    "        return out, hidden\n",
    "\n",
    "    def init_hidden(self, batch_size):\n",
    "        hidden = torch.zeros(self.n_layers, batch_size, self.hidden_dim, device=device)\n",
    "        return hidden"
   ]
  },
  {
   "cell_type": "code",
   "execution_count": 4,
   "metadata": {},
   "outputs": [],
   "source": [
    "## Instantiate model\n",
    "model = Model(input_size=1, output_size=1, hidden_dim=30, n_layers=1)\n",
    "model = model.to(device)"
   ]
  },
  {
   "cell_type": "code",
   "execution_count": 5,
   "metadata": {},
   "outputs": [],
   "source": [
    "## Generate data\n",
    "inputs_1, outputs_1 = XOR_data(n_datapoints=1000, seq_len=5)\n",
    "inputs_2, outputs_2 = XOR_data(n_datapoints=1000, seq_len=4)\n",
    "inputs_1 = torch.from_numpy(inputs_1).to(device)\n",
    "outputs_1 = torch.from_numpy(outputs_1).to(device)\n",
    "inputs_2 = torch.from_numpy(inputs_2).to(device)\n",
    "outputs_2 = torch.from_numpy(outputs_2).to(device)"
   ]
  },
  {
   "cell_type": "code",
   "execution_count": 6,
   "metadata": {},
   "outputs": [
    {
     "name": "stdout",
     "output_type": "stream",
     "text": [
      "Epoch: 10/1000............. Loss: 0.2654\n",
      "Epoch: 20/1000............. Loss: 0.2508\n",
      "Epoch: 30/1000............. Loss: 0.2487\n",
      "Epoch: 40/1000............. Loss: 0.2486\n",
      "Epoch: 50/1000............. Loss: 0.2486\n",
      "Epoch: 60/1000............. Loss: 0.2486\n",
      "Epoch: 70/1000............. Loss: 0.2485\n",
      "Epoch: 80/1000............. Loss: 0.2485\n",
      "Epoch: 90/1000............. Loss: 0.2484\n",
      "Epoch: 100/1000............. Loss: 0.2484\n",
      "Epoch: 110/1000............. Loss: 0.2483\n",
      "Epoch: 120/1000............. Loss: 0.2482\n",
      "Epoch: 130/1000............. Loss: 0.2476\n",
      "Epoch: 140/1000............. Loss: 0.2439\n",
      "Epoch: 150/1000............. Loss: 0.2365\n",
      "Epoch: 160/1000............. Loss: 0.1401\n",
      "Epoch: 170/1000............. Loss: 0.0079\n",
      "Epoch: 180/1000............. Loss: 0.0007\n",
      "Epoch: 190/1000............. Loss: 0.0002\n",
      "Epoch: 200/1000............. Loss: 0.0001\n",
      "Epoch: 210/1000............. Loss: 0.0001\n",
      "Epoch: 220/1000............. Loss: 0.0001\n",
      "Epoch: 230/1000............. Loss: 0.0000\n",
      "Epoch: 240/1000............. Loss: 0.0000\n",
      "Epoch: 250/1000............. Loss: 0.0000\n",
      "Epoch: 260/1000............. Loss: 0.0000\n",
      "Epoch: 270/1000............. Loss: 0.0000\n",
      "Epoch: 280/1000............. Loss: 0.0000\n",
      "Epoch: 290/1000............. Loss: 0.0000\n",
      "Epoch: 300/1000............. Loss: 0.0000\n",
      "Epoch: 310/1000............. Loss: 0.0000\n",
      "Epoch: 320/1000............. Loss: 0.0000\n",
      "Epoch: 330/1000............. Loss: 0.0000\n",
      "Epoch: 340/1000............. Loss: 0.0000\n",
      "Epoch: 350/1000............. Loss: 0.0000\n",
      "Epoch: 360/1000............. Loss: 0.0000\n",
      "Epoch: 370/1000............. Loss: 0.0000\n",
      "Epoch: 380/1000............. Loss: 0.0000\n",
      "Epoch: 390/1000............. Loss: 0.0000\n",
      "Epoch: 400/1000............. Loss: 0.0000\n",
      "Epoch: 410/1000............. Loss: 0.0000\n",
      "Epoch: 420/1000............. Loss: 0.0000\n",
      "Epoch: 430/1000............. Loss: 0.0000\n",
      "Epoch: 440/1000............. Loss: 0.0000\n",
      "Epoch: 450/1000............. Loss: 0.0001\n",
      "Epoch: 460/1000............. Loss: 0.0003\n",
      "Epoch: 470/1000............. Loss: 0.0000\n",
      "Epoch: 480/1000............. Loss: 0.0000\n",
      "Epoch: 490/1000............. Loss: 0.0000\n",
      "Epoch: 500/1000............. Loss: 0.0000\n",
      "Epoch: 510/1000............. Loss: 0.0000\n",
      "Epoch: 520/1000............. Loss: 0.0000\n",
      "Epoch: 530/1000............. Loss: 0.0000\n",
      "Epoch: 540/1000............. Loss: 0.0000\n",
      "Epoch: 550/1000............. Loss: 0.0000\n",
      "Epoch: 560/1000............. Loss: 0.0000\n",
      "Epoch: 570/1000............. Loss: 0.0000\n",
      "Epoch: 580/1000............. Loss: 0.0000\n",
      "Epoch: 590/1000............. Loss: 0.0000\n",
      "Epoch: 600/1000............. Loss: 0.0000\n",
      "Epoch: 610/1000............. Loss: 0.0000\n",
      "Epoch: 620/1000............. Loss: 0.0000\n",
      "Epoch: 630/1000............. Loss: 0.0000\n",
      "Epoch: 640/1000............. Loss: 0.0000\n",
      "Epoch: 650/1000............. Loss: 0.0000\n",
      "Epoch: 660/1000............. Loss: 0.0000\n",
      "Epoch: 670/1000............. Loss: 0.0000\n",
      "Epoch: 680/1000............. Loss: 0.0000\n",
      "Epoch: 690/1000............. Loss: 0.0000\n",
      "Epoch: 700/1000............. Loss: 0.0000\n",
      "Epoch: 710/1000............. Loss: 0.0000\n",
      "Epoch: 720/1000............. Loss: 0.0000\n",
      "Epoch: 730/1000............. Loss: 0.0000\n",
      "Epoch: 740/1000............. Loss: 0.0000\n",
      "Epoch: 750/1000............. Loss: 0.0000\n",
      "Epoch: 760/1000............. Loss: 0.0000\n",
      "Epoch: 770/1000............. Loss: 0.0000\n",
      "Epoch: 780/1000............. Loss: 0.0000\n",
      "Epoch: 790/1000............. Loss: 0.0000\n",
      "Epoch: 800/1000............. Loss: 0.0000\n",
      "Epoch: 810/1000............. Loss: 0.0000\n",
      "Epoch: 820/1000............. Loss: 0.0000\n",
      "Epoch: 830/1000............. Loss: 0.0000\n",
      "Epoch: 840/1000............. Loss: 0.0000\n",
      "Epoch: 850/1000............. Loss: 0.0000\n",
      "Epoch: 860/1000............. Loss: 0.0000\n",
      "Epoch: 870/1000............. Loss: 0.0000\n",
      "Epoch: 880/1000............. Loss: 0.0000\n",
      "Epoch: 890/1000............. Loss: 0.0000\n",
      "Epoch: 900/1000............. Loss: 0.0000\n",
      "Epoch: 910/1000............. Loss: 0.0000\n",
      "Epoch: 920/1000............. Loss: 0.0000\n",
      "Epoch: 930/1000............. Loss: 0.0000\n",
      "Epoch: 940/1000............. Loss: 0.0000\n",
      "Epoch: 950/1000............. Loss: 0.0000\n",
      "Epoch: 960/1000............. Loss: 0.0000\n",
      "Epoch: 970/1000............. Loss: 0.0000\n",
      "Epoch: 980/1000............. Loss: 0.0000\n",
      "Epoch: 990/1000............. Loss: 0.0000\n",
      "Epoch: 1000/1000............. Loss: 0.0000\n"
     ]
    }
   ],
   "source": [
    "## Train\n",
    "\n",
    "# Define hyperparameters\n",
    "n_epochs = 1000\n",
    "lr = 0.01\n",
    "\n",
    "# Define Loss, Optimizer\n",
    "criterion = nn.MSELoss()\n",
    "optimizer = torch.optim.Adam(model.parameters(), lr=lr)\n",
    "\n",
    "# Training Run\n",
    "for epoch in range(1, n_epochs + 1):\n",
    "    optimizer.zero_grad()  # Clears existing gradients from previous epoch\n",
    "    output, hidden = model(inputs_1)\n",
    "    loss = criterion(torch.squeeze(output), torch.squeeze(outputs_1))\n",
    "    loss.backward()  # Does backpropagation and calculates gradients\n",
    "    optimizer.step()  # Updates the weights accordingly\n",
    "\n",
    "    optimizer.zero_grad()\n",
    "    output, hidden = model(inputs_2)\n",
    "    loss = criterion(torch.squeeze(output), torch.squeeze(outputs_2))\n",
    "    loss.backward()\n",
    "    optimizer.step()\n",
    "\n",
    "    if epoch % 10 == 0:\n",
    "        print(\"Epoch: {}/{}.............\".format(epoch, n_epochs), end=\" \")\n",
    "        print(\"Loss: {:.4f}\".format(loss.item()))"
   ]
  },
  {
   "cell_type": "code",
   "execution_count": 7,
   "metadata": {},
   "outputs": [],
   "source": [
    "def predict(model, sequence):\n",
    "    input = torch.unsqueeze(\n",
    "        torch.from_numpy(np.array([sequence], dtype=np.float32)), dim=2\n",
    "    ).to(device)\n",
    "    out, hidden = model(input)\n",
    "    return out"
   ]
  },
  {
   "cell_type": "code",
   "execution_count": 8,
   "metadata": {},
   "outputs": [
    {
     "name": "stdout",
     "output_type": "stream",
     "text": [
      "Input:tensor([[1.],\n",
      "        [1.],\n",
      "        [1.],\n",
      "        [0.],\n",
      "        [0.]], device='cuda:0')\n",
      "Output:1.0\n",
      "Prediction:1.00009024143219\n",
      "tensor(8.1435e-09, device='cuda:0', grad_fn=<MseLossBackward0>)\n"
     ]
    }
   ],
   "source": [
    "## Predict on dataset\n",
    "index = 1\n",
    "input = inputs_1[index]\n",
    "output = torch.squeeze(outputs_1[index])\n",
    "prediction, _ = model(torch.unsqueeze(input, dim=0))\n",
    "prediction = torch.squeeze(prediction)\n",
    "print(f\"Input:{input}\")\n",
    "print(f\"Output:{output}\")\n",
    "print(f\"Prediction:{prediction}\")\n",
    "print(criterion(prediction, output))"
   ]
  },
  {
   "cell_type": "code",
   "execution_count": 9,
   "metadata": {},
   "outputs": [
    {
     "name": "stdout",
     "output_type": "stream",
     "text": [
      "tensor([[1.0001]], device='cuda:0', grad_fn=<AddmmBackward0>)\n"
     ]
    }
   ],
   "source": [
    "print(predict(model, [1, 1, 0, 1, 0]))"
   ]
  },
  {
   "cell_type": "code",
   "execution_count": 10,
   "metadata": {},
   "outputs": [
    {
     "name": "stderr",
     "output_type": "stream",
     "text": [
      "100%|██████████| 30/30 [00:03<00:00,  7.77it/s]\n"
     ]
    },
    {
     "data": {
      "image/png": "[encoded data removed]",
      "text/plain": [
       "<Figure size 640x480 with 1 Axes>"
      ]
     },
     "metadata": {},
     "output_type": "display_data"
    },
    {
     "name": "stdout",
     "output_type": "stream",
     "text": [
      "[0.00000000e+00 1.57340807e-09 2.47636134e-09 2.62129962e-09\n",
      " 6.57108428e-13 6.57427942e-13 9.04603326e-07 2.89557897e-06\n",
      " 9.57611792e-06 1.13852902e-05 6.80152743e-06 9.41197140e-06\n",
      " 8.20344553e-07 7.41753274e-06 3.40551333e-06 9.23443804e-06\n",
      " 1.53238398e-05 3.61751045e-05 1.45397007e-05 3.41994273e-05\n",
      " 2.03459567e-05 3.86768188e-05 4.01833240e-05 1.33753510e-05\n",
      " 6.28689168e-06 1.58927251e-05 2.75304556e-05 1.22139945e-05\n",
      " 9.55874566e-06 5.51839294e-05 2.44710645e-05]\n"
     ]
    }
   ],
   "source": [
    "N = 30\n",
    "val_err = np.zeros(N + 1)\n",
    "for n in trange(1, N + 1):\n",
    "    val_inputs, val_outputs = XOR_data(n_datapoints=1000, seq_len=n)\n",
    "    val_inputs = torch.from_numpy(val_inputs).to(device)\n",
    "    val_outputs = torch.from_numpy(val_outputs).to(device)\n",
    "    prediction, _ = model(val_inputs)\n",
    "    val_err[n] = criterion(torch.squeeze(prediction), torch.squeeze(val_outputs))\n",
    "fig = plt.figure()\n",
    "ax = fig.add_axes([0, 0, 1, 1])\n",
    "ax.bar(np.arange(N + 1), val_err)\n",
    "ax.set_xlabel(\"Sequence lengths\")\n",
    "ax.set_ylabel(\"Validation error\")\n",
    "ax.set_yticks(np.arange(0, 1, 0.1))\n",
    "plt.show()\n",
    "print(val_err)"
   ]
  }
 ],
 "metadata": {
  "kernelspec": {
   "display_name": "Python 3.10.6 ('rnn')",
   "language": "python",
   "name": "python3"
  },
  "language_info": {
   "codemirror_mode": {
    "name": "ipython",
    "version": 3
   },
   "file_extension": ".py",
   "mimetype": "text/x-python",
   "name": "python",
   "nbconvert_exporter": "python",
   "pygments_lexer": "ipython3",
   "version": "3.10.6"
  },
  "orig_nbformat": 4,
  "vscode": {
   "interpreter": {
    "hash": "e02af9847f8f14625728f2f7147d07d87bda9043f1b0a8cf0822fa7c64756065"
   }
  }
 },
 "nbformat": 4,
 "nbformat_minor": 2
}
