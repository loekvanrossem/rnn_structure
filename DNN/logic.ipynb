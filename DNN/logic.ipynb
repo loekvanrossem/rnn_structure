{
 "cells": [
  {
   "cell_type": "code",
   "execution_count": 1,
   "metadata": {},
   "outputs": [
    {
     "name": "stdout",
     "output_type": "stream",
     "text": [
      "GPU available\n"
     ]
    }
   ],
   "source": [
    "import os, sys\n",
    "from tqdm import trange\n",
    "\n",
    "import math\n",
    "import numpy as np\n",
    "import matplotlib.pyplot as plt\n",
    "import pandas as pd\n",
    "import scipy\n",
    "\n",
    "import torch\n",
    "from torch import nn\n",
    "from torch.utils.data import TensorDataset\n",
    "\n",
    "source = \"../source\"\n",
    "sys.path.append(source)\n",
    "\n",
    "from data import fun_data, grid_data\n",
    "from preprocessing import Direct, Encoding, OneHot\n",
    "from compilation import Compiler, Tracker, ScalarTracker, ActivationTracker\n",
    "from activations import get_activations\n",
    "from data_analysis.automata import to_automaton_history\n",
    "from data_analysis.visualization.animation import SliderAnimation\n",
    "from data_analysis.visualization.activations import (\n",
    "    ActivationsAnimation,\n",
    "    FunctionAnimation,\n",
    ")\n",
    "from data_analysis.visualization.automata import AutomatonAnimation\n",
    "from data_analysis.visualization.epochs import EpochAnimation\n",
    "from data_analysis.visualization.publication import pub_show\n",
    "import data_analysis.visualization.publication as publication\n",
    "from utils.containers import partition\n",
    "import simulate\n",
    "\n",
    "import models\n",
    "from models import MLP\n",
    "\n",
    "\n",
    "is_cuda = torch.cuda.is_available()\n",
    "if is_cuda:\n",
    "    device = torch.device(\"cuda\")\n",
    "    print(\"GPU available\")\n",
    "else:\n",
    "    device = torch.device(\"cpu\")\n",
    "    print(\"GPU not available\")\n",
    "\n",
    "device = torch.device(\"cpu\")\n",
    "\n",
    "traj_path = \"plots/XOR/\""
   ]
  },
  {
   "cell_type": "code",
   "execution_count": 2,
   "metadata": {},
   "outputs": [],
   "source": [
    "## Load settings\n",
    "settings = \"intermediate\"\n",
    "\n",
    "(\n",
    "    model_type,\n",
    "    nonlinearity,\n",
    "    gain,\n",
    "    lr,\n",
    "    P,\n",
    "    L,\n",
    "    n_epochs,\n",
    "    hidden_layer,\n",
    "    dx2,\n",
    "    dy2,\n",
    "    in_dim,\n",
    "    out_dim,\n",
    ") = (\n",
    "    pd.read_csv(\"model_settings/XOR.txt\", sep=\" \", header=0).loc[settings].to_numpy()\n",
    ")\n",
    "model_type = getattr(models, model_type)\n",
    "if nonlinearity == \"discontinuous\":\n",
    "    nonlinearity = simulate.Discontinuous.apply\n",
    "elif nonlinearity == \"none\":\n",
    "    nonlinearity = None\n",
    "else:\n",
    "    nonlinearity = getattr(torch.nn.functional, nonlinearity)\n",
    "\n",
    "mod = 1\n",
    "# factor = 0.25\n",
    "# n_epochs = int(factor * n_epochs)\n",
    "# lr = lr / factor\n",
    "\n",
    "# dy2 = 4\n",
    "# dx2 = 9"
   ]
  },
  {
   "cell_type": "code",
   "execution_count": 3,
   "metadata": {},
   "outputs": [],
   "source": [
    "## Load data\n",
    "inputs = np.array([[0, 0], [0, 1], [1, 0], [1, 1]])\n",
    "outputs_XOR = np.array([[0], [1], [1], [0]])\n",
    "outputs_OR = np.array([[0], [1], [1], [1]])\n",
    "\n",
    "# outputs = np.array([[0], [1], [0], [1]])\n",
    "outputs = outputs_XOR\n",
    "\n",
    "outputs = torch.from_numpy(outputs.astype(np.float32)).to(device)\n",
    "inputs = torch.from_numpy(inputs.astype(np.float32)).to(device)\n",
    "\n",
    "input_labels = [(int(x[0].item()), int(x[1].item())) for x in inputs]\n",
    "\n",
    "encoding = Direct()\n",
    "\n",
    "dataset = TensorDataset(inputs, outputs)\n",
    "train_datasets = [dataset]\n",
    "val_dataset = [dataset]\n",
    "\n",
    "tracked_datasets = val_dataset + train_datasets"
   ]
  },
  {
   "cell_type": "code",
   "execution_count": 4,
   "metadata": {},
   "outputs": [],
   "source": [
    "# gain = 0.03\n",
    "# P = 128\n",
    "# L = 2"
   ]
  },
  {
   "cell_type": "code",
   "execution_count": 5,
   "metadata": {},
   "outputs": [],
   "source": [
    "## Instantiate model\n",
    "model = MLP(\n",
    "    encoding=encoding,\n",
    "    input_size=inputs.shape[1],\n",
    "    output_size=outputs.shape[1],\n",
    "    hidden_dim=P,\n",
    "    n_hid_layers=L,\n",
    "    device=device,\n",
    "    init_std=gain,\n",
    "    non_linearity=torch.nn.functional.relu,\n",
    ")"
   ]
  },
  {
   "cell_type": "code",
   "execution_count": 6,
   "metadata": {},
   "outputs": [
    {
     "name": "stdout",
     "output_type": "stream",
     "text": [
      "Overall gain: 9.071e-05, predicting rich learning!\n"
     ]
    }
   ],
   "source": [
    "input_1 = train_datasets[0][0][0]\n",
    "input_2 = train_datasets[0][1][0]\n",
    "hid_1 = model(input_1)[1][hidden_layer]\n",
    "hid_2 = model(input_2)[1][hidden_layer]\n",
    "pred_1 = model(input_1)[0]\n",
    "pred_2 = model(input_2)[0]\n",
    "input_1, input_2, hid_1, hid_2, pred_1, pred_2 = [\n",
    "    a.detach().numpy() for a in (input_1, input_2, hid_1, hid_2, pred_1, pred_2)\n",
    "]\n",
    "\n",
    "G = np.linalg.norm(pred_2 - pred_1) ** 2 / np.linalg.norm(input_2 - input_1) ** 2\n",
    "print(f\"Overall gain: {G:.3e}, predicting {'rich' if (G < 1) else 'lazy'} learning!\")"
   ]
  },
  {
   "cell_type": "code",
   "execution_count": 12,
   "metadata": {},
   "outputs": [
    {
     "name": "stderr",
     "output_type": "stream",
     "text": [
      "/tmp/ipykernel_10811/3806243996.py:14: RuntimeWarning: invalid value encountered in divide\n",
      "  (dist_h_0 / dist_x) ** 2 - (dist_y_0 / dist_h_0) ** 2 * eta_h / eta_y\n"
     ]
    },
    {
     "data": {
      "image/png": "[encoded data removed]",
      "text/plain": [
       "<Figure size 250x250 with 2 Axes>"
      ]
     },
     "metadata": {},
     "output_type": "display_data"
    }
   ],
   "source": [
    "eta_h, eta_y = 1, 1\n",
    "\n",
    "h_0 = [model(input)[1][hidden_layer].detach().numpy() for input in inputs]\n",
    "y_0 = [model(input)[0].detach().numpy() for input in inputs]\n",
    "\n",
    "\n",
    "dist_x = scipy.spatial.distance_matrix(inputs, inputs)\n",
    "dist_y = scipy.spatial.distance_matrix(outputs, outputs)\n",
    "dist_h_0 = scipy.spatial.distance_matrix(h_0, h_0)\n",
    "dist_y_0 = scipy.spatial.distance_matrix(y_0, y_0)\n",
    "\n",
    "A_low = np.sqrt(eta_h / eta_y) * dist_y * dist_x\n",
    "A_high = (\n",
    "    (dist_h_0 / dist_x) ** 2 - (dist_y_0 / dist_h_0) ** 2 * eta_h / eta_y\n",
    ") * dist_x**2\n",
    "h_final = np.sqrt(0.5 * (A_high + np.sqrt(A_high**2 + 4 * A_low**2)))\n",
    "np.fill_diagonal(h_final, 0)\n",
    "\n",
    "publication.set_color_gradient(index=2)\n",
    "figsize = 2.5 * np.array([1, 1])\n",
    "fig = plt.figure(figsize=figsize)\n",
    "\n",
    "plt.imshow(h_final)\n",
    "publication.im_show(\n",
    "    x_labels=input_labels,\n",
    "    y_labels=input_labels,\n",
    "    save_path=traj_path + settings + \"_theory\",\n",
    ")"
   ]
  },
  {
   "cell_type": "code",
   "execution_count": 8,
   "metadata": {},
   "outputs": [],
   "source": [
    "## Setup compiler\n",
    "\n",
    "# Define hyperparameters\n",
    "# lr = 0.002 / P\n",
    "# n_epochs = 10000\n",
    "\n",
    "# Define Loss, Optimizer\n",
    "criterion = nn.MSELoss()\n",
    "optimizer = torch.optim.Adam(model.parameters(), lr=lr)\n",
    "# optimizer = torch.optim.SGD(model.parameters(), lr=lr)\n",
    "compiler = Compiler(model, criterion, optimizer)\n",
    "compiler.trackers = {\n",
    "    \"loss\": ScalarTracker(lambda: compiler.validation(tracked_datasets)),\n",
    "    \"hidden\": ActivationTracker(\n",
    "        model,\n",
    "        lambda inputs: model(inputs)[1][hidden_layer],\n",
    "        datasets=val_dataset,\n",
    "    ),\n",
    "    \"output\": ActivationTracker(\n",
    "        model, lambda inputs: model(inputs)[0], datasets=val_dataset\n",
    "    ),\n",
    "}"
   ]
  },
  {
   "cell_type": "code",
   "execution_count": 9,
   "metadata": {},
   "outputs": [
    {
     "name": "stderr",
     "output_type": "stream",
     "text": [
      "Training: 100%|██████████| 1000/1000 [00:37<00:00, 26.90steps/s, train_loss=0.00000, val_loss=0.00000]\n"
     ]
    }
   ],
   "source": [
    "## Training run\n",
    "compiler.training_run(\n",
    "    train_datasets, tracked_datasets, n_epochs=n_epochs, batch_size=100\n",
    ")"
   ]
  },
  {
   "cell_type": "code",
   "execution_count": 10,
   "metadata": {},
   "outputs": [
    {
     "name": "stderr",
     "output_type": "stream",
     "text": [
      "/home/loek/projects/rnn/DNN/../source/utils/dataframes.py:43: FutureWarning: Setting an item of incompatible dtype is deprecated and will raise in a future error of pandas. Value '0.00.0' has dtype incompatible with float32, please explicitly cast to a compatible dtype first.\n",
      "  label.loc[index] = index\n",
      "/home/loek/projects/rnn/DNN/../source/utils/dataframes.py:43: FutureWarning: Setting an item of incompatible dtype is deprecated and will raise in a future error of pandas. Value '0.00.0' has dtype incompatible with float64, please explicitly cast to a compatible dtype first.\n",
      "  label.loc[index] = index\n"
     ]
    },
    {
     "data": {
      "image/png": "[encoded data removed]",
      "text/plain": [
       "<Figure size 800x800 with 3 Axes>"
      ]
     },
     "metadata": {},
     "output_type": "display_data"
    },
    {
     "data": {
      "application/vnd.jupyter.widget-view+json": {
       "model_id": "20ad3ad204e546ce9397755fff94f45a",
       "version_major": 2,
       "version_minor": 0
      },
      "text/plain": [
       "interactive(children=(SelectionSlider(description='Epoch:', options=(0, 10, 20, 30, 40, 50, 60, 70, 80, 90, 10…"
      ]
     },
     "metadata": {},
     "output_type": "display_data"
    }
   ],
   "source": [
    "## Visualize representation dynamics\n",
    "data_hid = compiler.trackers[\"hidden\"].get_trace()\n",
    "data_output = compiler.trackers[\"output\"].get_trace()\n",
    "query = \"Epoch % 10 == 0\"\n",
    "data_hid = data_hid.query(query).copy()\n",
    "data_output = data_output.query(query).copy()\n",
    "\n",
    "loss = compiler.trackers[\"loss\"].get_trace()\n",
    "val_loss = loss.query(\"Dataset==0\")[0].to_numpy()\n",
    "train_loss = loss.query(\"Dataset>0\").groupby(\"Epoch\").mean()\n",
    "\n",
    "epochs = list(set(data_output.index.get_level_values(\"Epoch\")))\n",
    "epochs.sort()\n",
    "\n",
    "animation = SliderAnimation(\n",
    "    {\n",
    "        \"Hidden representations\": ActivationsAnimation(\n",
    "            data_hid, transform=\"PCA\", plot_labels=True\n",
    "        ),\n",
    "        \"Output\": ActivationsAnimation(\n",
    "            data_output,\n",
    "            transform=\"PCA\",\n",
    "            plot_labels=True,\n",
    "        ),\n",
    "        \"Loss\": EpochAnimation(\n",
    "            graphs={\n",
    "                \"Training loss\": train_loss,\n",
    "                # \"Validation loss\": val_loss,\n",
    "            },\n",
    "            unitless_graphs={},\n",
    "            # x_bounds=(0, 800),\n",
    "            # y_bounds=(0, 1),\n",
    "        ),\n",
    "    },\n",
    "    parameters=epochs,\n",
    "    parameter_name=\"Epoch\",\n",
    "    fig_size=4,\n",
    ")"
   ]
  },
  {
   "cell_type": "code",
   "execution_count": 11,
   "metadata": {},
   "outputs": [
    {
     "data": {
      "image/png": "[encoded data removed]",
      "text/plain": [
       "<Figure size 250x250 with 2 Axes>"
      ]
     },
     "metadata": {},
     "output_type": "display_data"
    }
   ],
   "source": [
    "publication.set_color_gradient(index=2)\n",
    "figsize = 2.5 * np.array([1, 1])\n",
    "\n",
    "fig = plt.figure(figsize=figsize)\n",
    "\n",
    "final_epoch = data_hid.index.get_level_values(\"Epoch\")[-1]\n",
    "h = data_hid.query(f\"Epoch=={final_epoch}\")\n",
    "dist_h = scipy.spatial.distance_matrix(h, h)\n",
    "\n",
    "plt.imshow(dist_h)\n",
    "\n",
    "publication.im_show(\n",
    "    x_labels=input_labels, y_labels=input_labels, save_path=traj_path + settings\n",
    ")"
   ]
  }
 ],
 "metadata": {
  "kernelspec": {
   "display_name": "Python 3.10.6 ('rnn')",
   "language": "python",
   "name": "python3"
  },
  "language_info": {
   "codemirror_mode": {
    "name": "ipython",
    "version": 3
   },
   "file_extension": ".py",
   "mimetype": "text/x-python",
   "name": "python",
   "nbconvert_exporter": "python",
   "pygments_lexer": "ipython3",
   "version": "3.10.13"
  },
  "orig_nbformat": 4,
  "vscode": {
   "interpreter": {
    "hash": "e02af9847f8f14625728f2f7147d07d87bda9043f1b0a8cf0822fa7c64756065"
   }
  }
 },
 "nbformat": 4,
 "nbformat_minor": 2
}
