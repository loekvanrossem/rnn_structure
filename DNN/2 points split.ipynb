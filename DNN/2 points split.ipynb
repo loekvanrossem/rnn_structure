{
 "cells": [
  {
   "cell_type": "code",
   "execution_count": 1,
   "metadata": {},
   "outputs": [
    {
     "name": "stdout",
     "output_type": "stream",
     "text": [
      "GPU available\n"
     ]
    }
   ],
   "source": [
    "import os, sys\n",
    "from tqdm import trange, tqdm\n",
    "from IPython.utils import io\n",
    "\n",
    "import math\n",
    "import numpy as np\n",
    "import matplotlib.pyplot as plt\n",
    "import pandas as pd\n",
    "import scipy\n",
    "\n",
    "import torch\n",
    "from torch import nn\n",
    "from torch.utils.data import TensorDataset, ConcatDataset\n",
    "\n",
    "source = \"/home/loek/projects/rnn/source\"\n",
    "sys.path.append(source)\n",
    "\n",
    "from data import fun_data, grid_data\n",
    "from preprocessing import Direct, Encoding, OneHot\n",
    "from compilation import Compiler, Tracker, ScalarTracker, ActivationTracker\n",
    "from activations import get_activations\n",
    "from data_analysis.automata import to_automaton_history\n",
    "from data_analysis.visualization.animation import SliderAnimation\n",
    "from data_analysis.visualization.activations import (\n",
    "    ActivationsAnimation,\n",
    "    FunctionAnimation,\n",
    "    PointAnimation,\n",
    ")\n",
    "from data_analysis.visualization.automata import AutomatonAnimation\n",
    "from data_analysis.visualization.epochs import EpochAnimation\n",
    "from data_analysis.visualization.publication import pub_show\n",
    "\n",
    "from model import MLP, CNN, ResNet\n",
    "\n",
    "import cProfile\n",
    "import pstats\n",
    "\n",
    "\n",
    "is_cuda = torch.cuda.is_available()\n",
    "if is_cuda:\n",
    "    device = torch.device(\"cuda\")\n",
    "    print(\"GPU available\")\n",
    "else:\n",
    "    device = torch.device(\"cpu\")\n",
    "    print(\"GPU not available\")\n",
    "\n",
    "device = torch.device(\"cpu\")"
   ]
  },
  {
   "cell_type": "code",
   "execution_count": 2,
   "metadata": {},
   "outputs": [],
   "source": [
    "P = 50\n",
    "L = 10\n",
    "dy2_max = 1"
   ]
  },
  {
   "cell_type": "code",
   "execution_count": 3,
   "metadata": {},
   "outputs": [],
   "source": [
    "def compute_dy_red(non_linearity, type, lr, N, gain):\n",
    "    reductions = []\n",
    "    D0s = []\n",
    "    dys = []\n",
    "\n",
    "    for dy2 in tqdm(np.linspace(0, dy2_max, N)):\n",
    "        ## Generate data\n",
    "        inputs = np.array([[-1], [1]])\n",
    "        outputs = np.array([[1], [1] + (np.sqrt(dy2 / 2)) * np.array([1])])\n",
    "        names = [\"A\", \"B\"]\n",
    "        data = TensorDataset(\n",
    "            torch.from_numpy(inputs.astype(np.float32)).to(device),\n",
    "            torch.from_numpy(outputs.astype(np.float32)).to(device),\n",
    "        )\n",
    "\n",
    "        encoding = Encoding(dict(zip(names, inputs)))\n",
    "\n",
    "        train_datasets = [data]\n",
    "        val_dataset = [data]\n",
    "\n",
    "        tracked_datasets = val_dataset + train_datasets\n",
    "\n",
    "        ## Instantiate model\n",
    "        model = type(\n",
    "            encoding=encoding,\n",
    "            input_size=inputs.shape[1],\n",
    "            output_size=outputs.shape[1],\n",
    "            hidden_dim=P,\n",
    "            n_hid_layers=L,\n",
    "            device=device,\n",
    "            init_std=gain,\n",
    "            non_linearity=non_linearity,\n",
    "        )\n",
    "        # Define Loss, Optimizer\n",
    "        criterion = nn.MSELoss()\n",
    "        optimizer = torch.optim.Adam(model.parameters(), lr=lr)\n",
    "        # optimizer = torch.optim.SGD(model.parameters(), lr=lr)\n",
    "        compiler = Compiler(model, criterion, optimizer)\n",
    "\n",
    "        # Compute initial difference\n",
    "        h = get_activations(\n",
    "            val_dataset, lambda inputs: model(inputs)[1][int(len(model) / 2)], encoding\n",
    "        )\n",
    "        h_A, h_B = h.loc[0, \"A\"].to_numpy(), h.loc[0, \"B\"].to_numpy()\n",
    "        h_initial = np.sum((h_B - h_A) ** 2)\n",
    "        y = get_activations(val_dataset, lambda inputs: model(inputs)[0], encoding)\n",
    "        y_A, y_B = y.loc[0, \"A\"].to_numpy(), y.loc[0, \"B\"].to_numpy()\n",
    "        y_initial = np.sum((y_B - y_A) ** 2)\n",
    "\n",
    "        ## Training run\n",
    "        with io.capture_output() as captured:\n",
    "            compiler.training_run(\n",
    "                train_datasets, tracked_datasets, n_epochs=500, batch_size=100\n",
    "            )\n",
    "\n",
    "        # Compute final difference\n",
    "        h = get_activations(\n",
    "            val_dataset, lambda inputs: model(inputs)[1][int(len(model) / 2)], encoding\n",
    "        )\n",
    "        h_A, h_B = h.loc[0, \"A\"].to_numpy(), h.loc[0, \"B\"].to_numpy()\n",
    "        h_final = np.sum((h_B - h_A) ** 2)\n",
    "\n",
    "        train_loss = compiler.validation(train_datasets)[0][0]\n",
    "        if train_loss < 0.001:\n",
    "            reduction = h_final / h_initial\n",
    "            reductions.append(reduction)\n",
    "            D0 = y_initial / h_initial\n",
    "            D0s.append(D0)\n",
    "            dys.append(dy2)\n",
    "\n",
    "    return dys, D0s, reductions"
   ]
  },
  {
   "cell_type": "code",
   "execution_count": 4,
   "metadata": {},
   "outputs": [
    {
     "name": "stderr",
     "output_type": "stream",
     "text": [
      "  1%|          | 8/1000 [00:06<13:21,  1.24it/s]"
     ]
    },
    {
     "name": "stderr",
     "output_type": "stream",
     "text": [
      "  1%|          | 9/1000 [00:07<13:29,  1.22it/s]"
     ]
    }
   ],
   "source": [
    "N = 1000\n",
    "# dys, D0s, reductions = compute_dy_red(\n",
    "#     torch.nn.functional.leaky_relu, MLP, 0.6 / P, N=N, gain=1\n",
    "# )\n",
    "# dys, D0s, reductions = compute_dy_red(\n",
    "#     torch.nn.functional.elu, MLP, 0.06 / P, N=N, gain=1\n",
    "# )\n",
    "dys, D0s, reductions = compute_dy_red(\n",
    "    torch.nn.functional.softplus, MLP, 0.03 / P, N=N, gain=1.6\n",
    ")\n",
    "# dys, D0s, reductions = compute_dy_red(\n",
    "#     torch.nn.functional.leaky_relu, CNN, 0.1 / P, N=N, gain=15\n",
    "# )  # Use kaiming_normal\n",
    "print(f\"{len(D0s)} out of {N} converged\")"
   ]
  },
  {
   "cell_type": "code",
   "execution_count": null,
   "metadata": {},
   "outputs": [
    {
     "data": {
      "image/png": "[encoded data removed]",
      "text/plain": [
       "<Figure size 200x200 with 1 Axes>"
      ]
     },
     "metadata": {},
     "output_type": "display_data"
    }
   ],
   "source": [
    "fig = plt.figure(figsize=(2, 2))\n",
    "\n",
    "x = np.array(dys)\n",
    "y = np.array(reductions)\n",
    "\n",
    "# cond = (x < 100) & (y < 100)\n",
    "# y = y[cond]\n",
    "# x = x[cond]\n",
    "\n",
    "regr = scipy.stats.linregress(x, y)\n",
    "a, b = regr.slope, regr.intercept\n",
    "X = np.linspace(np.min(x), np.max(x), 300)\n",
    "\n",
    "plt.scatter(x, y)\n",
    "plt.xlabel(\"$||y_2-y_1||^2$\")\n",
    "plt.ylabel(\"$h / h_0$\")\n",
    "plt.plot(X, a * X + b, linestyle=\"--\")\n",
    "# plt.ylim(0, 100)\n",
    "# plt.show()\n",
    "pub_show(colors=\"contrast\")"
   ]
  }
 ],
 "metadata": {
  "kernelspec": {
   "display_name": "Python 3.10.6 ('rnn')",
   "language": "python",
   "name": "python3"
  },
  "language_info": {
   "codemirror_mode": {
    "name": "ipython",
    "version": 3
   },
   "file_extension": ".py",
   "mimetype": "text/x-python",
   "name": "python",
   "nbconvert_exporter": "python",
   "pygments_lexer": "ipython3",
   "version": "3.10.12"
  },
  "orig_nbformat": 4,
  "vscode": {
   "interpreter": {
    "hash": "e02af9847f8f14625728f2f7147d07d87bda9043f1b0a8cf0822fa7c64756065"
   }
  }
 },
 "nbformat": 4,
 "nbformat_minor": 2
}
