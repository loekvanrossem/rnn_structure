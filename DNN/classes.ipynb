{
 "cells": [
  {
   "cell_type": "code",
   "execution_count": 3,
   "metadata": {},
   "outputs": [
    {
     "name": "stdout",
     "output_type": "stream",
     "text": [
      "GPU available\n"
     ]
    }
   ],
   "source": [
    "import os, sys\n",
    "from tqdm import trange\n",
    "\n",
    "import math\n",
    "import numpy as np\n",
    "import matplotlib.pyplot as plt\n",
    "import pandas as pd\n",
    "import scipy\n",
    "\n",
    "import torch\n",
    "from torch import nn\n",
    "from torch.utils.data import TensorDataset\n",
    "\n",
    "source = \"/home/loek/projects/rnn/source\"\n",
    "sys.path.append(source)\n",
    "\n",
    "from data import fun_data, grid_data\n",
    "from preprocessing import Direct, Encoding, OneHot\n",
    "from compilation import Compiler, Tracker, ScalarTracker, ActivationTracker\n",
    "from activations import get_activations\n",
    "from data_analysis.automata import to_automaton_history\n",
    "from data_analysis.visualization.animation import SliderAnimation\n",
    "from data_analysis.visualization.activations import (\n",
    "    ActivationsAnimation,\n",
    "    FunctionAnimation,\n",
    ")\n",
    "from data_analysis.visualization.automata import AutomatonAnimation\n",
    "from data_analysis.visualization.epochs import EpochAnimation\n",
    "\n",
    "from models import MLP\n",
    "\n",
    "import cProfile\n",
    "import pstats\n",
    "\n",
    "\n",
    "is_cuda = torch.cuda.is_available()\n",
    "if is_cuda:\n",
    "    device = torch.device(\"cuda\")\n",
    "    print(\"GPU available\")\n",
    "else:\n",
    "    device = torch.device(\"cpu\")\n",
    "    print(\"GPU not available\")\n",
    "\n",
    "device = torch.device(\"cpu\")"
   ]
  },
  {
   "cell_type": "code",
   "execution_count": 4,
   "metadata": {},
   "outputs": [],
   "source": [
    "## Load data\n",
    "data_path = \"/home/loek/projects/rnn/DNN/data/\"\n",
    "\n",
    "NA, NB = 100, 5\n",
    "classA = [f\"A{n}\" for n in np.arange(1, NA + 1)]\n",
    "classB = [f\"B{n}\" for n in np.arange(1, NB + 1)]\n",
    "A = pd.DataFrame(\n",
    "    data=([1, 0] * np.ones(shape=(NA, 2))).T, index=[\"A\", \"B\"], columns=classA\n",
    ")\n",
    "B = pd.DataFrame(\n",
    "    data=([0, 1] * np.ones(shape=(NB, 2))).T, index=[\"A\", \"B\"], columns=classB\n",
    ")\n",
    "classes = A.join(B)\n",
    "\n",
    "\n",
    "names = classes.columns.to_numpy()\n",
    "\n",
    "encoding = OneHot(names.tolist())\n",
    "\n",
    "inputs = encoding(names)\n",
    "outputs = np.array([list(classes[index]) for index in classes])\n",
    "\n",
    "# Setup training data\n",
    "inputs = torch.from_numpy(inputs.astype(np.float32)).to(device)\n",
    "outputs = torch.from_numpy(outputs.astype(np.float32)).to(device)\n",
    "\n",
    "dataset = TensorDataset(inputs, outputs)\n",
    "train_datasets = [dataset]\n",
    "val_dataset = [dataset]\n",
    "\n",
    "tracked_datasets = val_dataset + train_datasets"
   ]
  },
  {
   "cell_type": "code",
   "execution_count": 5,
   "metadata": {},
   "outputs": [],
   "source": [
    "gain = 0.8\n",
    "P = 100\n",
    "L = 50"
   ]
  },
  {
   "cell_type": "code",
   "execution_count": 6,
   "metadata": {},
   "outputs": [],
   "source": [
    "## Instantiate model\n",
    "model = MLP(\n",
    "    encoding=encoding,\n",
    "    input_size=inputs.shape[1],\n",
    "    output_size=outputs.shape[1],\n",
    "    hidden_dim=P,\n",
    "    n_hid_layers=L,\n",
    "    device=device,\n",
    "    init_std=gain,\n",
    ")"
   ]
  },
  {
   "cell_type": "code",
   "execution_count": 7,
   "metadata": {},
   "outputs": [],
   "source": [
    "## Setup compiler\n",
    "\n",
    "# Define hyperparameters\n",
    "n_epochs = 1000\n",
    "lr = 0.00005\n",
    "\n",
    "# Define Loss, Optimizer\n",
    "criterion = nn.MSELoss()\n",
    "optimizer = torch.optim.Adam(model.parameters(), lr=lr)\n",
    "compiler = Compiler(model, criterion, optimizer)\n",
    "compiler.trackers = {\n",
    "    \"loss\": ScalarTracker(lambda: compiler.validation(tracked_datasets)),\n",
    "    \"hidden\": ActivationTracker(\n",
    "        model, lambda inputs: model(inputs)[1][int(len(model) / 2)]\n",
    "    ),\n",
    "    \"hidden_early\": ActivationTracker(\n",
    "        model, lambda inputs: model(inputs)[1][int(len(model) * (1 / 10))]\n",
    "    ),\n",
    "    \"hidden_late\": ActivationTracker(\n",
    "        model, lambda inputs: model(inputs)[1][int(len(model) * (9 / 10))]\n",
    "    ),\n",
    "    \"output\": ActivationTracker(model, lambda inputs: model(inputs)[0]),\n",
    "}"
   ]
  },
  {
   "cell_type": "code",
   "execution_count": 8,
   "metadata": {},
   "outputs": [
    {
     "name": "stderr",
     "output_type": "stream",
     "text": [
      "Training:   9%|▉         | 93/1000 [00:12<02:02,  7.38steps/s, train_loss=0.20202, val_loss=0.04577]\n"
     ]
    }
   ],
   "source": [
    "## Training run\n",
    "compiler.training_run(\n",
    "    train_datasets, tracked_datasets, n_epochs=n_epochs, batch_size=100\n",
    ")"
   ]
  },
  {
   "cell_type": "code",
   "execution_count": 9,
   "metadata": {},
   "outputs": [
    {
     "name": "stderr",
     "output_type": "stream",
     "text": [
      "/home/loek/projects/rnn/source/utils/dataframes.py:43: FutureWarning: Setting an item of incompatible dtype is deprecated and will raise in a future error of pandas. Value 'A1' has dtype incompatible with float32, please explicitly cast to a compatible dtype first.\n",
      "  label.loc[index] = index\n"
     ]
    },
    {
     "ename": "AttributeError",
     "evalue": "'list' object has no attribute 'items'",
     "output_type": "error",
     "traceback": [
      "\u001b[0;31m---------------------------------------------------------------------------\u001b[0m",
      "\u001b[0;31mAttributeError\u001b[0m                            Traceback (most recent call last)",
      "\u001b[1;32m/home/loek/projects/rnn/DNN/classes.ipynb Cell 7\u001b[0m line \u001b[0;36m1\n\u001b[1;32m      <a href='vscode-notebook-cell://wsl%2Bubuntu-20.04/home/loek/projects/rnn/DNN/classes.ipynb#W6sdnNjb2RlLXJlbW90ZQ%3D%3D?line=8'>9</a>\u001b[0m activations \u001b[39m=\u001b[39m pd\u001b[39m.\u001b[39mconcat(activations, keys\u001b[39m=\u001b[39m\u001b[39mlist\u001b[39m(\u001b[39mrange\u001b[39m(\u001b[39mlen\u001b[39m(activations))))\n\u001b[1;32m     <a href='vscode-notebook-cell://wsl%2Bubuntu-20.04/home/loek/projects/rnn/DNN/classes.ipynb#W6sdnNjb2RlLXJlbW90ZQ%3D%3D?line=9'>10</a>\u001b[0m activations\u001b[39m.\u001b[39mindex \u001b[39m=\u001b[39m activations\u001b[39m.\u001b[39mindex\u001b[39m.\u001b[39mset_names([\u001b[39m\"\u001b[39m\u001b[39mEpoch\u001b[39m\u001b[39m\"\u001b[39m] \u001b[39m+\u001b[39m index_names)\n\u001b[0;32m---> <a href='vscode-notebook-cell://wsl%2Bubuntu-20.04/home/loek/projects/rnn/DNN/classes.ipynb#W6sdnNjb2RlLXJlbW90ZQ%3D%3D?line=11'>12</a>\u001b[0m animation \u001b[39m=\u001b[39m SliderAnimation(\n\u001b[1;32m     <a href='vscode-notebook-cell://wsl%2Bubuntu-20.04/home/loek/projects/rnn/DNN/classes.ipynb#W6sdnNjb2RlLXJlbW90ZQ%3D%3D?line=12'>13</a>\u001b[0m     [ActivationsAnimation(activations, transform\u001b[39m=\u001b[39;49m\u001b[39m\"\u001b[39;49m\u001b[39mPCA_per_epoch\u001b[39;49m\u001b[39m\"\u001b[39;49m, plot_labels\u001b[39m=\u001b[39;49m\u001b[39mTrue\u001b[39;49;00m)],\n\u001b[1;32m     <a href='vscode-notebook-cell://wsl%2Bubuntu-20.04/home/loek/projects/rnn/DNN/classes.ipynb#W6sdnNjb2RlLXJlbW90ZQ%3D%3D?line=13'>14</a>\u001b[0m     parameters\u001b[39m=\u001b[39;49m\u001b[39mlist\u001b[39;49m(\u001b[39mset\u001b[39;49m(activations\u001b[39m.\u001b[39;49mindex\u001b[39m.\u001b[39;49mget_level_values(\u001b[39m\"\u001b[39;49m\u001b[39mEpoch\u001b[39;49m\u001b[39m\"\u001b[39;49m))),\n\u001b[1;32m     <a href='vscode-notebook-cell://wsl%2Bubuntu-20.04/home/loek/projects/rnn/DNN/classes.ipynb#W6sdnNjb2RlLXJlbW90ZQ%3D%3D?line=14'>15</a>\u001b[0m     parameter_name\u001b[39m=\u001b[39;49m\u001b[39m\"\u001b[39;49m\u001b[39mLayer\u001b[39;49m\u001b[39m\"\u001b[39;49m,\n\u001b[1;32m     <a href='vscode-notebook-cell://wsl%2Bubuntu-20.04/home/loek/projects/rnn/DNN/classes.ipynb#W6sdnNjb2RlLXJlbW90ZQ%3D%3D?line=15'>16</a>\u001b[0m     fig_size\u001b[39m=\u001b[39;49m\u001b[39m4\u001b[39;49m,\n\u001b[1;32m     <a href='vscode-notebook-cell://wsl%2Bubuntu-20.04/home/loek/projects/rnn/DNN/classes.ipynb#W6sdnNjb2RlLXJlbW90ZQ%3D%3D?line=16'>17</a>\u001b[0m )\n",
      "File \u001b[0;32m~/projects/rnn/source/data_analysis/visualization/animation.py:68\u001b[0m, in \u001b[0;36mSliderAnimation.__init__\u001b[0;34m(self, plots, parameters, parameter_name, fig_size)\u001b[0m\n\u001b[1;32m     66\u001b[0m \u001b[39mself\u001b[39m\u001b[39m.\u001b[39mfig_size \u001b[39m=\u001b[39m fig_size\n\u001b[1;32m     67\u001b[0m \u001b[39mself\u001b[39m\u001b[39m.\u001b[39m_buffer \u001b[39m=\u001b[39m {}\n\u001b[0;32m---> 68\u001b[0m \u001b[39mself\u001b[39;49m\u001b[39m.\u001b[39;49m_start()\n",
      "File \u001b[0;32m~/projects/rnn/source/data_analysis/visualization/animation.py:71\u001b[0m, in \u001b[0;36mSliderAnimation._start\u001b[0;34m(self)\u001b[0m\n\u001b[1;32m     70\u001b[0m \u001b[39mdef\u001b[39;00m \u001b[39m_start\u001b[39m(\u001b[39mself\u001b[39m) \u001b[39m-\u001b[39m\u001b[39m>\u001b[39m \u001b[39mNone\u001b[39;00m:\n\u001b[0;32m---> 71\u001b[0m     \u001b[39mself\u001b[39m\u001b[39m.\u001b[39m_fig \u001b[39m=\u001b[39m \u001b[39mself\u001b[39;49m\u001b[39m.\u001b[39;49m_plot()\n\u001b[1;32m     73\u001b[0m     slider \u001b[39m=\u001b[39m SelectionSlider(\n\u001b[1;32m     74\u001b[0m         options\u001b[39m=\u001b[39m\u001b[39mself\u001b[39m\u001b[39m.\u001b[39mparameters,\n\u001b[1;32m     75\u001b[0m         value\u001b[39m=\u001b[39m\u001b[39mself\u001b[39m\u001b[39m.\u001b[39mparameters[\u001b[39m0\u001b[39m],\n\u001b[1;32m     76\u001b[0m         description\u001b[39m=\u001b[39m\u001b[39mf\u001b[39m\u001b[39m\"\u001b[39m\u001b[39m{\u001b[39;00m\u001b[39mself\u001b[39m\u001b[39m.\u001b[39mparameter_name\u001b[39m}\u001b[39;00m\u001b[39m:\u001b[39m\u001b[39m\"\u001b[39m,\n\u001b[1;32m     77\u001b[0m     )\n\u001b[1;32m     79\u001b[0m     \u001b[39m@interact\u001b[39m(parameter\u001b[39m=\u001b[39mslider)\n\u001b[1;32m     80\u001b[0m     \u001b[39mdef\u001b[39;00m \u001b[39mslider_parameter\u001b[39m(parameter):\n",
      "File \u001b[0;32m~/projects/rnn/source/data_analysis/visualization/animation.py:105\u001b[0m, in \u001b[0;36mSliderAnimation._plot\u001b[0;34m(self)\u001b[0m\n\u001b[1;32m    101\u001b[0m fig \u001b[39m=\u001b[39m plt\u001b[39m.\u001b[39mfigure(figsize\u001b[39m=\u001b[39m(n_columns \u001b[39m*\u001b[39m \u001b[39mself\u001b[39m\u001b[39m.\u001b[39mfig_size, n_rows \u001b[39m*\u001b[39m \u001b[39mself\u001b[39m\u001b[39m.\u001b[39mfig_size))\n\u001b[1;32m    102\u001b[0m fig\u001b[39m.\u001b[39msubplots_adjust(\n\u001b[1;32m    103\u001b[0m     left\u001b[39m=\u001b[39m\u001b[39m0.1\u001b[39m, right\u001b[39m=\u001b[39m\u001b[39m0.9\u001b[39m, top\u001b[39m=\u001b[39m\u001b[39m0.94\u001b[39m, bottom\u001b[39m=\u001b[39m\u001b[39m0.06\u001b[39m, wspace\u001b[39m=\u001b[39m\u001b[39m0.1\u001b[39m, hspace\u001b[39m=\u001b[39m\u001b[39m0.2\u001b[39m\n\u001b[1;32m    104\u001b[0m )\n\u001b[0;32m--> 105\u001b[0m \u001b[39mfor\u001b[39;00m n, (title, plot) \u001b[39min\u001b[39;00m \u001b[39menumerate\u001b[39m(\u001b[39mself\u001b[39;49m\u001b[39m.\u001b[39;49mplots\u001b[39m.\u001b[39;49mitems()):\n\u001b[1;32m    106\u001b[0m     ax \u001b[39m=\u001b[39m fig\u001b[39m.\u001b[39madd_subplot(n_rows \u001b[39m*\u001b[39m \u001b[39m100\u001b[39m \u001b[39m+\u001b[39m n_columns \u001b[39m*\u001b[39m \u001b[39m10\u001b[39m \u001b[39m+\u001b[39m (n \u001b[39m+\u001b[39m \u001b[39m1\u001b[39m))\n\u001b[1;32m    107\u001b[0m     plot\u001b[39m.\u001b[39mplot(ax)\n",
      "\u001b[0;31mAttributeError\u001b[0m: 'list' object has no attribute 'items'"
     ]
    },
    {
     "data": {
      "text/plain": [
       "<Figure size 800x400 with 0 Axes>"
      ]
     },
     "metadata": {},
     "output_type": "display_data"
    }
   ],
   "source": [
    "## Get all activations\n",
    "activations = []\n",
    "\n",
    "for layer in range(len(model) - 1):\n",
    "    act = get_activations(val_dataset, lambda inputs: model(inputs)[1][layer], encoding)\n",
    "    activations.append(act)\n",
    "\n",
    "index_names = activations[0].index.names\n",
    "activations = pd.concat(activations, keys=list(range(len(activations))))\n",
    "activations.index = activations.index.set_names([\"Epoch\"] + index_names)\n",
    "\n",
    "animation = SliderAnimation(\n",
    "    [ActivationsAnimation(activations, transform=\"PCA_per_epoch\", plot_labels=True)],\n",
    "    parameters=list(set(activations.index.get_level_values(\"Epoch\"))),\n",
    "    parameter_name=\"Layer\",\n",
    "    fig_size=4,\n",
    ")"
   ]
  },
  {
   "cell_type": "code",
   "execution_count": 10,
   "metadata": {},
   "outputs": [
    {
     "name": "stderr",
     "output_type": "stream",
     "text": [
      "/home/loek/projects/rnn/source/utils/dataframes.py:43: FutureWarning: Setting an item of incompatible dtype is deprecated and will raise in a future error of pandas. Value 'A1' has dtype incompatible with float32, please explicitly cast to a compatible dtype first.\n",
      "  label.loc[index] = index\n",
      "/home/loek/projects/rnn/source/utils/dataframes.py:43: FutureWarning: Setting an item of incompatible dtype is deprecated and will raise in a future error of pandas. Value 'A1' has dtype incompatible with float32, please explicitly cast to a compatible dtype first.\n",
      "  label.loc[index] = index\n",
      "/home/loek/projects/rnn/source/utils/dataframes.py:43: FutureWarning: Setting an item of incompatible dtype is deprecated and will raise in a future error of pandas. Value 'A1' has dtype incompatible with float32, please explicitly cast to a compatible dtype first.\n",
      "  label.loc[index] = index\n"
     ]
    },
    {
     "ename": "AttributeError",
     "evalue": "'list' object has no attribute 'items'",
     "output_type": "error",
     "traceback": [
      "\u001b[0;31m---------------------------------------------------------------------------\u001b[0m",
      "\u001b[0;31mAttributeError\u001b[0m                            Traceback (most recent call last)",
      "\u001b[1;32m/home/loek/projects/rnn/DNN/classes.ipynb Cell 8\u001b[0m line \u001b[0;36m1\n\u001b[1;32m     <a href='vscode-notebook-cell://wsl%2Bubuntu-20.04/home/loek/projects/rnn/DNN/classes.ipynb#X10sdnNjb2RlLXJlbW90ZQ%3D%3D?line=11'>12</a>\u001b[0m train_loss \u001b[39m=\u001b[39m loss\u001b[39m.\u001b[39mquery(\u001b[39m\"\u001b[39m\u001b[39mDataset>0\u001b[39m\u001b[39m\"\u001b[39m)\u001b[39m.\u001b[39mgroupby(\u001b[39m\"\u001b[39m\u001b[39mEpoch\u001b[39m\u001b[39m\"\u001b[39m)\u001b[39m.\u001b[39mmean()\n\u001b[1;32m     <a href='vscode-notebook-cell://wsl%2Bubuntu-20.04/home/loek/projects/rnn/DNN/classes.ipynb#X10sdnNjb2RlLXJlbW90ZQ%3D%3D?line=13'>14</a>\u001b[0m \u001b[39m# weight_change = compiler.trackers[\"weight change\"].get_trace().to_numpy().reshape(-1)\u001b[39;00m\n\u001b[0;32m---> <a href='vscode-notebook-cell://wsl%2Bubuntu-20.04/home/loek/projects/rnn/DNN/classes.ipynb#X10sdnNjb2RlLXJlbW90ZQ%3D%3D?line=15'>16</a>\u001b[0m animation \u001b[39m=\u001b[39m SliderAnimation(\n\u001b[1;32m     <a href='vscode-notebook-cell://wsl%2Bubuntu-20.04/home/loek/projects/rnn/DNN/classes.ipynb#X10sdnNjb2RlLXJlbW90ZQ%3D%3D?line=16'>17</a>\u001b[0m     [\n\u001b[1;32m     <a href='vscode-notebook-cell://wsl%2Bubuntu-20.04/home/loek/projects/rnn/DNN/classes.ipynb#X10sdnNjb2RlLXJlbW90ZQ%3D%3D?line=17'>18</a>\u001b[0m         ActivationsAnimation(\n\u001b[1;32m     <a href='vscode-notebook-cell://wsl%2Bubuntu-20.04/home/loek/projects/rnn/DNN/classes.ipynb#X10sdnNjb2RlLXJlbW90ZQ%3D%3D?line=18'>19</a>\u001b[0m             data_hid_early\u001b[39m.\u001b[39;49mquery(\u001b[39m\"\u001b[39;49m\u001b[39mDataset != 0\u001b[39;49m\u001b[39m\"\u001b[39;49m), transform\u001b[39m=\u001b[39;49m\u001b[39m\"\u001b[39;49m\u001b[39mPCA\u001b[39;49m\u001b[39m\"\u001b[39;49m, plot_labels\u001b[39m=\u001b[39;49m\u001b[39mTrue\u001b[39;49;00m\n\u001b[1;32m     <a href='vscode-notebook-cell://wsl%2Bubuntu-20.04/home/loek/projects/rnn/DNN/classes.ipynb#X10sdnNjb2RlLXJlbW90ZQ%3D%3D?line=19'>20</a>\u001b[0m         ),\n\u001b[1;32m     <a href='vscode-notebook-cell://wsl%2Bubuntu-20.04/home/loek/projects/rnn/DNN/classes.ipynb#X10sdnNjb2RlLXJlbW90ZQ%3D%3D?line=20'>21</a>\u001b[0m         ActivationsAnimation(\n\u001b[1;32m     <a href='vscode-notebook-cell://wsl%2Bubuntu-20.04/home/loek/projects/rnn/DNN/classes.ipynb#X10sdnNjb2RlLXJlbW90ZQ%3D%3D?line=21'>22</a>\u001b[0m             data_hid_late\u001b[39m.\u001b[39;49mquery(\u001b[39m\"\u001b[39;49m\u001b[39mDataset != 0\u001b[39;49m\u001b[39m\"\u001b[39;49m), transform\u001b[39m=\u001b[39;49m\u001b[39m\"\u001b[39;49m\u001b[39mPCA\u001b[39;49m\u001b[39m\"\u001b[39;49m, plot_labels\u001b[39m=\u001b[39;49m\u001b[39mTrue\u001b[39;49;00m\n\u001b[1;32m     <a href='vscode-notebook-cell://wsl%2Bubuntu-20.04/home/loek/projects/rnn/DNN/classes.ipynb#X10sdnNjb2RlLXJlbW90ZQ%3D%3D?line=22'>23</a>\u001b[0m         ),\n\u001b[1;32m     <a href='vscode-notebook-cell://wsl%2Bubuntu-20.04/home/loek/projects/rnn/DNN/classes.ipynb#X10sdnNjb2RlLXJlbW90ZQ%3D%3D?line=23'>24</a>\u001b[0m         ActivationsAnimation(\n\u001b[1;32m     <a href='vscode-notebook-cell://wsl%2Bubuntu-20.04/home/loek/projects/rnn/DNN/classes.ipynb#X10sdnNjb2RlLXJlbW90ZQ%3D%3D?line=24'>25</a>\u001b[0m             data_output\u001b[39m.\u001b[39;49mquery(\u001b[39m\"\u001b[39;49m\u001b[39mDataset != 0\u001b[39;49m\u001b[39m\"\u001b[39;49m),\n\u001b[1;32m     <a href='vscode-notebook-cell://wsl%2Bubuntu-20.04/home/loek/projects/rnn/DNN/classes.ipynb#X10sdnNjb2RlLXJlbW90ZQ%3D%3D?line=25'>26</a>\u001b[0m             transform\u001b[39m=\u001b[39;49m\u001b[39m\"\u001b[39;49m\u001b[39mPCA\u001b[39;49m\u001b[39m\"\u001b[39;49m,\n\u001b[1;32m     <a href='vscode-notebook-cell://wsl%2Bubuntu-20.04/home/loek/projects/rnn/DNN/classes.ipynb#X10sdnNjb2RlLXJlbW90ZQ%3D%3D?line=26'>27</a>\u001b[0m             plot_labels\u001b[39m=\u001b[39;49m\u001b[39mTrue\u001b[39;49;00m,\n\u001b[1;32m     <a href='vscode-notebook-cell://wsl%2Bubuntu-20.04/home/loek/projects/rnn/DNN/classes.ipynb#X10sdnNjb2RlLXJlbW90ZQ%3D%3D?line=27'>28</a>\u001b[0m         ),\n\u001b[1;32m     <a href='vscode-notebook-cell://wsl%2Bubuntu-20.04/home/loek/projects/rnn/DNN/classes.ipynb#X10sdnNjb2RlLXJlbW90ZQ%3D%3D?line=28'>29</a>\u001b[0m         EpochAnimation(\n\u001b[1;32m     <a href='vscode-notebook-cell://wsl%2Bubuntu-20.04/home/loek/projects/rnn/DNN/classes.ipynb#X10sdnNjb2RlLXJlbW90ZQ%3D%3D?line=29'>30</a>\u001b[0m             graphs\u001b[39m=\u001b[39;49m{\n\u001b[1;32m     <a href='vscode-notebook-cell://wsl%2Bubuntu-20.04/home/loek/projects/rnn/DNN/classes.ipynb#X10sdnNjb2RlLXJlbW90ZQ%3D%3D?line=30'>31</a>\u001b[0m                 \u001b[39m\"\u001b[39;49m\u001b[39mTraining loss\u001b[39;49m\u001b[39m\"\u001b[39;49m: train_loss,\n\u001b[1;32m     <a href='vscode-notebook-cell://wsl%2Bubuntu-20.04/home/loek/projects/rnn/DNN/classes.ipynb#X10sdnNjb2RlLXJlbW90ZQ%3D%3D?line=31'>32</a>\u001b[0m                 \u001b[39m\"\u001b[39;49m\u001b[39mValidation loss\u001b[39;49m\u001b[39m\"\u001b[39;49m: val_loss,\n\u001b[1;32m     <a href='vscode-notebook-cell://wsl%2Bubuntu-20.04/home/loek/projects/rnn/DNN/classes.ipynb#X10sdnNjb2RlLXJlbW90ZQ%3D%3D?line=32'>33</a>\u001b[0m             },\n\u001b[1;32m     <a href='vscode-notebook-cell://wsl%2Bubuntu-20.04/home/loek/projects/rnn/DNN/classes.ipynb#X10sdnNjb2RlLXJlbW90ZQ%3D%3D?line=33'>34</a>\u001b[0m             unitless_graphs\u001b[39m=\u001b[39;49m{\n\u001b[1;32m     <a href='vscode-notebook-cell://wsl%2Bubuntu-20.04/home/loek/projects/rnn/DNN/classes.ipynb#X10sdnNjb2RlLXJlbW90ZQ%3D%3D?line=34'>35</a>\u001b[0m                 \u001b[39m# \"weight change\": weight_change,\u001b[39;49;00m\n\u001b[1;32m     <a href='vscode-notebook-cell://wsl%2Bubuntu-20.04/home/loek/projects/rnn/DNN/classes.ipynb#X10sdnNjb2RlLXJlbW90ZQ%3D%3D?line=35'>36</a>\u001b[0m             },\n\u001b[1;32m     <a href='vscode-notebook-cell://wsl%2Bubuntu-20.04/home/loek/projects/rnn/DNN/classes.ipynb#X10sdnNjb2RlLXJlbW90ZQ%3D%3D?line=36'>37</a>\u001b[0m             \u001b[39m# x_bounds=(0, 800),\u001b[39;49;00m\n\u001b[1;32m     <a href='vscode-notebook-cell://wsl%2Bubuntu-20.04/home/loek/projects/rnn/DNN/classes.ipynb#X10sdnNjb2RlLXJlbW90ZQ%3D%3D?line=37'>38</a>\u001b[0m             \u001b[39m# y_bounds=(0, 1),\u001b[39;49;00m\n\u001b[1;32m     <a href='vscode-notebook-cell://wsl%2Bubuntu-20.04/home/loek/projects/rnn/DNN/classes.ipynb#X10sdnNjb2RlLXJlbW90ZQ%3D%3D?line=38'>39</a>\u001b[0m         ),\n\u001b[1;32m     <a href='vscode-notebook-cell://wsl%2Bubuntu-20.04/home/loek/projects/rnn/DNN/classes.ipynb#X10sdnNjb2RlLXJlbW90ZQ%3D%3D?line=39'>40</a>\u001b[0m     ],\n\u001b[1;32m     <a href='vscode-notebook-cell://wsl%2Bubuntu-20.04/home/loek/projects/rnn/DNN/classes.ipynb#X10sdnNjb2RlLXJlbW90ZQ%3D%3D?line=40'>41</a>\u001b[0m     parameters\u001b[39m=\u001b[39;49m\u001b[39mlist\u001b[39;49m(\u001b[39mset\u001b[39;49m(data_output\u001b[39m.\u001b[39;49mindex\u001b[39m.\u001b[39;49mget_level_values(\u001b[39m\"\u001b[39;49m\u001b[39mEpoch\u001b[39;49m\u001b[39m\"\u001b[39;49m))),\n\u001b[1;32m     <a href='vscode-notebook-cell://wsl%2Bubuntu-20.04/home/loek/projects/rnn/DNN/classes.ipynb#X10sdnNjb2RlLXJlbW90ZQ%3D%3D?line=41'>42</a>\u001b[0m     parameter_name\u001b[39m=\u001b[39;49m\u001b[39m\"\u001b[39;49m\u001b[39mEpoch\u001b[39;49m\u001b[39m\"\u001b[39;49m,\n\u001b[1;32m     <a href='vscode-notebook-cell://wsl%2Bubuntu-20.04/home/loek/projects/rnn/DNN/classes.ipynb#X10sdnNjb2RlLXJlbW90ZQ%3D%3D?line=42'>43</a>\u001b[0m     fig_size\u001b[39m=\u001b[39;49m\u001b[39m4\u001b[39;49m,\n\u001b[1;32m     <a href='vscode-notebook-cell://wsl%2Bubuntu-20.04/home/loek/projects/rnn/DNN/classes.ipynb#X10sdnNjb2RlLXJlbW90ZQ%3D%3D?line=43'>44</a>\u001b[0m )\n",
      "File \u001b[0;32m~/projects/rnn/source/data_analysis/visualization/animation.py:68\u001b[0m, in \u001b[0;36mSliderAnimation.__init__\u001b[0;34m(self, plots, parameters, parameter_name, fig_size)\u001b[0m\n\u001b[1;32m     66\u001b[0m \u001b[39mself\u001b[39m\u001b[39m.\u001b[39mfig_size \u001b[39m=\u001b[39m fig_size\n\u001b[1;32m     67\u001b[0m \u001b[39mself\u001b[39m\u001b[39m.\u001b[39m_buffer \u001b[39m=\u001b[39m {}\n\u001b[0;32m---> 68\u001b[0m \u001b[39mself\u001b[39;49m\u001b[39m.\u001b[39;49m_start()\n",
      "File \u001b[0;32m~/projects/rnn/source/data_analysis/visualization/animation.py:71\u001b[0m, in \u001b[0;36mSliderAnimation._start\u001b[0;34m(self)\u001b[0m\n\u001b[1;32m     70\u001b[0m \u001b[39mdef\u001b[39;00m \u001b[39m_start\u001b[39m(\u001b[39mself\u001b[39m) \u001b[39m-\u001b[39m\u001b[39m>\u001b[39m \u001b[39mNone\u001b[39;00m:\n\u001b[0;32m---> 71\u001b[0m     \u001b[39mself\u001b[39m\u001b[39m.\u001b[39m_fig \u001b[39m=\u001b[39m \u001b[39mself\u001b[39;49m\u001b[39m.\u001b[39;49m_plot()\n\u001b[1;32m     73\u001b[0m     slider \u001b[39m=\u001b[39m SelectionSlider(\n\u001b[1;32m     74\u001b[0m         options\u001b[39m=\u001b[39m\u001b[39mself\u001b[39m\u001b[39m.\u001b[39mparameters,\n\u001b[1;32m     75\u001b[0m         value\u001b[39m=\u001b[39m\u001b[39mself\u001b[39m\u001b[39m.\u001b[39mparameters[\u001b[39m0\u001b[39m],\n\u001b[1;32m     76\u001b[0m         description\u001b[39m=\u001b[39m\u001b[39mf\u001b[39m\u001b[39m\"\u001b[39m\u001b[39m{\u001b[39;00m\u001b[39mself\u001b[39m\u001b[39m.\u001b[39mparameter_name\u001b[39m}\u001b[39;00m\u001b[39m:\u001b[39m\u001b[39m\"\u001b[39m,\n\u001b[1;32m     77\u001b[0m     )\n\u001b[1;32m     79\u001b[0m     \u001b[39m@interact\u001b[39m(parameter\u001b[39m=\u001b[39mslider)\n\u001b[1;32m     80\u001b[0m     \u001b[39mdef\u001b[39;00m \u001b[39mslider_parameter\u001b[39m(parameter):\n",
      "File \u001b[0;32m~/projects/rnn/source/data_analysis/visualization/animation.py:105\u001b[0m, in \u001b[0;36mSliderAnimation._plot\u001b[0;34m(self)\u001b[0m\n\u001b[1;32m    101\u001b[0m fig \u001b[39m=\u001b[39m plt\u001b[39m.\u001b[39mfigure(figsize\u001b[39m=\u001b[39m(n_columns \u001b[39m*\u001b[39m \u001b[39mself\u001b[39m\u001b[39m.\u001b[39mfig_size, n_rows \u001b[39m*\u001b[39m \u001b[39mself\u001b[39m\u001b[39m.\u001b[39mfig_size))\n\u001b[1;32m    102\u001b[0m fig\u001b[39m.\u001b[39msubplots_adjust(\n\u001b[1;32m    103\u001b[0m     left\u001b[39m=\u001b[39m\u001b[39m0.1\u001b[39m, right\u001b[39m=\u001b[39m\u001b[39m0.9\u001b[39m, top\u001b[39m=\u001b[39m\u001b[39m0.94\u001b[39m, bottom\u001b[39m=\u001b[39m\u001b[39m0.06\u001b[39m, wspace\u001b[39m=\u001b[39m\u001b[39m0.1\u001b[39m, hspace\u001b[39m=\u001b[39m\u001b[39m0.2\u001b[39m\n\u001b[1;32m    104\u001b[0m )\n\u001b[0;32m--> 105\u001b[0m \u001b[39mfor\u001b[39;00m n, (title, plot) \u001b[39min\u001b[39;00m \u001b[39menumerate\u001b[39m(\u001b[39mself\u001b[39;49m\u001b[39m.\u001b[39;49mplots\u001b[39m.\u001b[39;49mitems()):\n\u001b[1;32m    106\u001b[0m     ax \u001b[39m=\u001b[39m fig\u001b[39m.\u001b[39madd_subplot(n_rows \u001b[39m*\u001b[39m \u001b[39m100\u001b[39m \u001b[39m+\u001b[39m n_columns \u001b[39m*\u001b[39m \u001b[39m10\u001b[39m \u001b[39m+\u001b[39m (n \u001b[39m+\u001b[39m \u001b[39m1\u001b[39m))\n\u001b[1;32m    107\u001b[0m     plot\u001b[39m.\u001b[39mplot(ax)\n",
      "\u001b[0;31mAttributeError\u001b[0m: 'list' object has no attribute 'items'"
     ]
    },
    {
     "data": {
      "text/plain": [
       "<Figure size 800x800 with 0 Axes>"
      ]
     },
     "metadata": {},
     "output_type": "display_data"
    }
   ],
   "source": [
    "## Visualize representation dynamics\n",
    "data_hid_early = compiler.trackers[\"hidden_early\"].get_trace()\n",
    "data_hid_late = compiler.trackers[\"hidden_late\"].get_trace()\n",
    "data_output = compiler.trackers[\"output\"].get_trace()\n",
    "query = \"Epoch >= 0\"\n",
    "data_hid_early = data_hid_early.query(query).copy()\n",
    "data_hid_late = data_hid_late.query(query).copy()\n",
    "data_output = data_output.query(query).copy()\n",
    "\n",
    "loss = compiler.trackers[\"loss\"].get_trace()\n",
    "val_loss = loss.query(\"Dataset==0\")[0].to_numpy()\n",
    "train_loss = loss.query(\"Dataset>0\").groupby(\"Epoch\").mean()\n",
    "\n",
    "# weight_change = compiler.trackers[\"weight change\"].get_trace().to_numpy().reshape(-1)\n",
    "\n",
    "animation = SliderAnimation(\n",
    "    [\n",
    "        ActivationsAnimation(\n",
    "            data_hid_early.query(\"Dataset != 0\"), transform=\"PCA\", plot_labels=True\n",
    "        ),\n",
    "        ActivationsAnimation(\n",
    "            data_hid_late.query(\"Dataset != 0\"), transform=\"PCA\", plot_labels=True\n",
    "        ),\n",
    "        ActivationsAnimation(\n",
    "            data_output.query(\"Dataset != 0\"),\n",
    "            transform=\"PCA\",\n",
    "            plot_labels=True,\n",
    "        ),\n",
    "        EpochAnimation(\n",
    "            graphs={\n",
    "                \"Training loss\": train_loss,\n",
    "                \"Validation loss\": val_loss,\n",
    "            },\n",
    "            unitless_graphs={\n",
    "                # \"weight change\": weight_change,\n",
    "            },\n",
    "            # x_bounds=(0, 800),\n",
    "            # y_bounds=(0, 1),\n",
    "        ),\n",
    "    ],\n",
    "    parameters=list(set(data_output.index.get_level_values(\"Epoch\"))),\n",
    "    parameter_name=\"Epoch\",\n",
    "    fig_size=4,\n",
    ")"
   ]
  },
  {
   "cell_type": "code",
   "execution_count": 11,
   "metadata": {},
   "outputs": [
    {
     "name": "stdout",
     "output_type": "stream",
     "text": [
      "D0^2: 2.0525343429121885e-25\n"
     ]
    }
   ],
   "source": [
    "## Plot reduction\n",
    "x = data_hid_early.query(\"Epoch == 0 and Dataset == 0\").to_numpy()\n",
    "y = data_output.query(\"Epoch == 0 and Dataset == 0\").to_numpy()\n",
    "D2 = 0\n",
    "for i, j in zip(x, y):\n",
    "    D2 += ((np.linalg.norm(j) / np.linalg.norm(i)) ** 2) / x.shape[0]\n",
    "print(f\"D0^2: {D2}\")\n",
    "\n",
    "m = np.linspace(0, 1, L)\n",
    "\n",
    "base = np.exp((np.log(D2)) * m)"
   ]
  },
  {
   "cell_type": "code",
   "execution_count": 12,
   "metadata": {},
   "outputs": [
    {
     "ename": "KeyboardInterrupt",
     "evalue": "",
     "output_type": "error",
     "traceback": [
      "\u001b[0;31m---------------------------------------------------------------------------\u001b[0m",
      "\u001b[0;31mKeyboardInterrupt\u001b[0m                         Traceback (most recent call last)",
      "\u001b[1;32m/home/loek/projects/rnn/DNN/classes.ipynb Cell 10\u001b[0m line \u001b[0;36m2\n\u001b[1;32m     <a href='vscode-notebook-cell://wsl%2Bubuntu-20.04/home/loek/projects/rnn/DNN/classes.ipynb#X12sdnNjb2RlLXJlbW90ZQ%3D%3D?line=18'>19</a>\u001b[0m actA \u001b[39m=\u001b[39m activations\u001b[39m.\u001b[39mloc[:, :, classA]\n\u001b[1;32m     <a href='vscode-notebook-cell://wsl%2Bubuntu-20.04/home/loek/projects/rnn/DNN/classes.ipynb#X12sdnNjb2RlLXJlbW90ZQ%3D%3D?line=19'>20</a>\u001b[0m actB \u001b[39m=\u001b[39m activations\u001b[39m.\u001b[39mloc[:, :, classB]\n\u001b[0;32m---> <a href='vscode-notebook-cell://wsl%2Bubuntu-20.04/home/loek/projects/rnn/DNN/classes.ipynb#X12sdnNjb2RlLXJlbW90ZQ%3D%3D?line=21'>22</a>\u001b[0m dist2A \u001b[39m=\u001b[39m dist2(actA, actA)\n\u001b[1;32m     <a href='vscode-notebook-cell://wsl%2Bubuntu-20.04/home/loek/projects/rnn/DNN/classes.ipynb#X12sdnNjb2RlLXJlbW90ZQ%3D%3D?line=22'>23</a>\u001b[0m dist2B \u001b[39m=\u001b[39m dist2(actB, actB)\n\u001b[1;32m     <a href='vscode-notebook-cell://wsl%2Bubuntu-20.04/home/loek/projects/rnn/DNN/classes.ipynb#X12sdnNjb2RlLXJlbW90ZQ%3D%3D?line=23'>24</a>\u001b[0m dist2AB \u001b[39m=\u001b[39m dist2(actA, actB)\n",
      "\u001b[1;32m/home/loek/projects/rnn/DNN/classes.ipynb Cell 10\u001b[0m line \u001b[0;36m9\n\u001b[1;32m      <a href='vscode-notebook-cell://wsl%2Bubuntu-20.04/home/loek/projects/rnn/DNN/classes.ipynb#X12sdnNjb2RlLXJlbW90ZQ%3D%3D?line=6'>7</a>\u001b[0m     \u001b[39mfor\u001b[39;00m input_1, act_1 \u001b[39min\u001b[39;00m data1_epoch\u001b[39m.\u001b[39mgroupby(\u001b[39m\"\u001b[39m\u001b[39mInput\u001b[39m\u001b[39m\"\u001b[39m):\n\u001b[1;32m      <a href='vscode-notebook-cell://wsl%2Bubuntu-20.04/home/loek/projects/rnn/DNN/classes.ipynb#X12sdnNjb2RlLXJlbW90ZQ%3D%3D?line=7'>8</a>\u001b[0m         \u001b[39mfor\u001b[39;00m input_2, act_2 \u001b[39min\u001b[39;00m data2_epoch\u001b[39m.\u001b[39mgroupby(\u001b[39m\"\u001b[39m\u001b[39mInput\u001b[39m\u001b[39m\"\u001b[39m):\n\u001b[0;32m----> <a href='vscode-notebook-cell://wsl%2Bubuntu-20.04/home/loek/projects/rnn/DNN/classes.ipynb#X12sdnNjb2RlLXJlbW90ZQ%3D%3D?line=8'>9</a>\u001b[0m             distance \u001b[39m+\u001b[39m\u001b[39m=\u001b[39m np\u001b[39m.\u001b[39;49mlinalg\u001b[39m.\u001b[39;49mnorm(act_1\u001b[39m.\u001b[39;49mto_numpy() \u001b[39m-\u001b[39;49m act_2\u001b[39m.\u001b[39;49mto_numpy()) \u001b[39m/\u001b[39m (\n\u001b[1;32m     <a href='vscode-notebook-cell://wsl%2Bubuntu-20.04/home/loek/projects/rnn/DNN/classes.ipynb#X12sdnNjb2RlLXJlbW90ZQ%3D%3D?line=9'>10</a>\u001b[0m                 \u001b[39mlen\u001b[39m(data1_epoch) \u001b[39m*\u001b[39m \u001b[39mlen\u001b[39m(data2_epoch) \u001b[39m-\u001b[39m \u001b[39m1\u001b[39m\n\u001b[1;32m     <a href='vscode-notebook-cell://wsl%2Bubuntu-20.04/home/loek/projects/rnn/DNN/classes.ipynb#X12sdnNjb2RlLXJlbW90ZQ%3D%3D?line=10'>11</a>\u001b[0m             )\n\u001b[1;32m     <a href='vscode-notebook-cell://wsl%2Bubuntu-20.04/home/loek/projects/rnn/DNN/classes.ipynb#X12sdnNjb2RlLXJlbW90ZQ%3D%3D?line=11'>12</a>\u001b[0m     distances\u001b[39m.\u001b[39mappend(distance)\n\u001b[1;32m     <a href='vscode-notebook-cell://wsl%2Bubuntu-20.04/home/loek/projects/rnn/DNN/classes.ipynb#X12sdnNjb2RlLXJlbW90ZQ%3D%3D?line=12'>13</a>\u001b[0m distances2 \u001b[39m=\u001b[39m np\u001b[39m.\u001b[39marray([dist\u001b[39m*\u001b[39m\u001b[39m*\u001b[39m\u001b[39m2\u001b[39m \u001b[39mfor\u001b[39;00m dist \u001b[39min\u001b[39;00m distances])\n",
      "File \u001b[0;32m<__array_function__ internals>:200\u001b[0m, in \u001b[0;36mnorm\u001b[0;34m(*args, **kwargs)\u001b[0m\n",
      "File \u001b[0;32m~/miniconda3/envs/rnn/lib/python3.10/site-packages/numpy/linalg/linalg.py:2342\u001b[0m, in \u001b[0;36mnorm\u001b[0;34m(x, ord, axis, keepdims)\u001b[0m\n\u001b[1;32m   2338\u001b[0m \u001b[39mdef\u001b[39;00m \u001b[39m_norm_dispatcher\u001b[39m(x, \u001b[39mord\u001b[39m\u001b[39m=\u001b[39m\u001b[39mNone\u001b[39;00m, axis\u001b[39m=\u001b[39m\u001b[39mNone\u001b[39;00m, keepdims\u001b[39m=\u001b[39m\u001b[39mNone\u001b[39;00m):\n\u001b[1;32m   2339\u001b[0m     \u001b[39mreturn\u001b[39;00m (x,)\n\u001b[0;32m-> 2342\u001b[0m \u001b[39m@array_function_dispatch\u001b[39m(_norm_dispatcher)\n\u001b[1;32m   2343\u001b[0m \u001b[39mdef\u001b[39;00m \u001b[39mnorm\u001b[39m(x, \u001b[39mord\u001b[39m\u001b[39m=\u001b[39m\u001b[39mNone\u001b[39;00m, axis\u001b[39m=\u001b[39m\u001b[39mNone\u001b[39;00m, keepdims\u001b[39m=\u001b[39m\u001b[39mFalse\u001b[39;00m):\n\u001b[1;32m   2344\u001b[0m \u001b[39m    \u001b[39m\u001b[39m\"\"\"\u001b[39;00m\n\u001b[1;32m   2345\u001b[0m \u001b[39m    Matrix or vector norm.\u001b[39;00m\n\u001b[1;32m   2346\u001b[0m \n\u001b[0;32m   (...)\u001b[0m\n\u001b[1;32m   2491\u001b[0m \n\u001b[1;32m   2492\u001b[0m \u001b[39m    \"\"\"\u001b[39;00m\n\u001b[1;32m   2493\u001b[0m     x \u001b[39m=\u001b[39m asarray(x)\n",
      "\u001b[0;31mKeyboardInterrupt\u001b[0m: "
     ]
    }
   ],
   "source": [
    "def dist2(act1: pd.DataFrame, act2: pd.DataFrame):\n",
    "    distances = []\n",
    "    for (epoch, data1_epoch), (epoch, data2_epoch) in zip(\n",
    "        act1.groupby(\"Epoch\"), act2.groupby(\"Epoch\")\n",
    "    ):\n",
    "        distance = 0\n",
    "        for input_1, act_1 in data1_epoch.groupby(\"Input\"):\n",
    "            for input_2, act_2 in data2_epoch.groupby(\"Input\"):\n",
    "                distance += np.linalg.norm(act_1.to_numpy() - act_2.to_numpy()) / (\n",
    "                    len(data1_epoch) * len(data2_epoch) - 1\n",
    "                )\n",
    "        distances.append(distance)\n",
    "    distances2 = np.array([dist**2 for dist in distances])\n",
    "\n",
    "    return distances2\n",
    "\n",
    "\n",
    "## Compute distances\n",
    "actA = activations.loc[:, :, classA]\n",
    "actB = activations.loc[:, :, classB]\n",
    "\n",
    "dist2A = dist2(actA, actA)\n",
    "dist2B = dist2(actB, actB)\n",
    "dist2AB = dist2(actA, actB)"
   ]
  },
  {
   "cell_type": "code",
   "execution_count": null,
   "metadata": {},
   "outputs": [],
   "source": [
    "plt.plot(dist2A / base)\n",
    "plt.plot(dist2B / base)\n",
    "plt.plot(dist2AB / base)"
   ]
  },
  {
   "cell_type": "code",
   "execution_count": null,
   "metadata": {},
   "outputs": [],
   "source": [
    "plt.plot(dist2A / dist2AB, label=\"A\")\n",
    "plt.plot(dist2B / dist2AB, label=\"B\")\n",
    "# plt.plot(np.exp(-(NA) * D2 ** (1 - m)), label=\"A (theory)\")\n",
    "# plt.plot(np.exp(-(NB) * D2 ** (1 - m)), label=\"B (theory)\")\n",
    "plt.plot(np.exp(-m / (1 - m) * ((D2 ** (1 - m)))), label=\"theory\")\n",
    "plt.plot(np.exp(m / (1 - m) * (1 - (D2 ** (-m)))), label=\"theory\")\n",
    "plt.legend(loc=\"upper right\")\n",
    "plt.show()"
   ]
  },
  {
   "cell_type": "code",
   "execution_count": null,
   "metadata": {},
   "outputs": [],
   "source": [
    "name = \"Partial Out-of-dataset generalization\"\n",
    "# animation.to_gif(\"plots/\" + name, step_size=int(len(train_loss) / 1000))"
   ]
  }
 ],
 "metadata": {
  "kernelspec": {
   "display_name": "Python 3.10.6 ('rnn')",
   "language": "python",
   "name": "python3"
  },
  "language_info": {
   "codemirror_mode": {
    "name": "ipython",
    "version": 3
   },
   "file_extension": ".py",
   "mimetype": "text/x-python",
   "name": "python",
   "nbconvert_exporter": "python",
   "pygments_lexer": "ipython3",
   "version": "3.10.12"
  },
  "orig_nbformat": 4,
  "vscode": {
   "interpreter": {
    "hash": "e02af9847f8f14625728f2f7147d07d87bda9043f1b0a8cf0822fa7c64756065"
   }
  }
 },
 "nbformat": 4,
 "nbformat_minor": 2
}
