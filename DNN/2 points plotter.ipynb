{
 "cells": [
  {
   "cell_type": "code",
   "execution_count": 1,
   "metadata": {},
   "outputs": [
    {
     "name": "stdout",
     "output_type": "stream",
     "text": [
      "GPU available\n"
     ]
    }
   ],
   "source": [
    "import os, sys\n",
    "from tqdm import trange, tqdm\n",
    "from IPython.utils import io\n",
    "import itertools\n",
    "\n",
    "import math\n",
    "import numpy as np\n",
    "import matplotlib.pyplot as plt\n",
    "import pandas as pd\n",
    "import scipy\n",
    "from numba import njit\n",
    "\n",
    "import torch\n",
    "from torch import nn\n",
    "from torch.utils.data import TensorDataset, ConcatDataset\n",
    "\n",
    "source = \"../source\"\n",
    "sys.path.append(source)\n",
    "\n",
    "from data import fun_data, grid_data\n",
    "from preprocessing import Direct, Encoding, OneHot\n",
    "from compilation import Compiler, Tracker, ScalarTracker, ActivationTracker\n",
    "from activations import get_activations\n",
    "from data_analysis.automata import to_automaton_history\n",
    "from data_analysis.visualization.animation import SliderAnimation\n",
    "from data_analysis.visualization.activations import (\n",
    "    ActivationsAnimation,\n",
    "    FunctionAnimation,\n",
    "    PointAnimation,\n",
    ")\n",
    "from data_analysis.visualization.automata import AutomatonAnimation\n",
    "from data_analysis.visualization.epochs import EpochAnimation\n",
    "import data_analysis.visualization.publication as publication\n",
    "import simulate\n",
    "\n",
    "import models as models\n",
    "from models import MLP, CNN, ResNet\n",
    "\n",
    "import cProfile\n",
    "import pstats\n",
    "\n",
    "\n",
    "is_cuda = torch.cuda.is_available()\n",
    "if is_cuda:\n",
    "    device = torch.device(\"cuda\")\n",
    "    print(\"GPU available\")\n",
    "else:\n",
    "    device = torch.device(\"cpu\")\n",
    "    print(\"GPU not available\")\n",
    "\n",
    "device = torch.device(\"cpu\")"
   ]
  },
  {
   "cell_type": "code",
   "execution_count": 2,
   "metadata": {},
   "outputs": [],
   "source": [
    "settings = pd.read_csv(\"model_settings/2 points.txt\", sep=\" \", header=0)"
   ]
  },
  {
   "cell_type": "code",
   "execution_count": 3,
   "metadata": {},
   "outputs": [],
   "source": [
    "def make_plots(setting):\n",
    "    ## Load settings\n",
    "    (\n",
    "        model_type,\n",
    "        nonlinearity,\n",
    "        gain,\n",
    "        lr,\n",
    "        P,\n",
    "        L,\n",
    "        n_epochs,\n",
    "        hidden_layer,\n",
    "        dx2,\n",
    "        dy2,\n",
    "        in_dim,\n",
    "        out_dim,\n",
    "    ) = settings.loc[setting].to_numpy()\n",
    "    model_type = getattr(models, model_type)\n",
    "    if nonlinearity == \"discontinuous\":\n",
    "        nonlinearity = simulate.Discontinuous.apply\n",
    "    elif nonlinearity == \"none\":\n",
    "        nonlinearity = None\n",
    "    else:\n",
    "        nonlinearity = getattr(torch.nn.functional, nonlinearity)\n",
    "\n",
    "    factor = 2\n",
    "    n_epochs = factor * n_epochs\n",
    "    lr = lr / factor\n",
    "\n",
    "    ## Generate data\n",
    "    input_dim, output_dim = in_dim, out_dim\n",
    "\n",
    "    inputs = np.array([[-1] * input_dim, [-1 + np.sqrt(dx2)] * input_dim]) / np.sqrt(\n",
    "        input_dim\n",
    "    )\n",
    "    outputs = np.array(\n",
    "        [[0.6] * output_dim, [0.6 + np.sqrt(dy2)] * output_dim]\n",
    "    ) / np.sqrt(output_dim)\n",
    "    names = [\"A\", \"B\"]\n",
    "    data = TensorDataset(\n",
    "        torch.from_numpy(inputs.astype(np.float32)).to(device),\n",
    "        torch.from_numpy(outputs.astype(np.float32)).to(device),\n",
    "    )\n",
    "\n",
    "    encoding = Encoding(dict(zip(names, inputs)))\n",
    "\n",
    "    train_datasets = [data]\n",
    "    val_dataset = [data]\n",
    "\n",
    "    tracked_datasets = val_dataset + train_datasets\n",
    "\n",
    "    ## Instantiate model\n",
    "    model = model_type(\n",
    "        encoding=encoding,\n",
    "        input_size=inputs.shape[1],\n",
    "        output_size=outputs.shape[1],\n",
    "        hidden_dim=P,\n",
    "        n_hid_layers=L,\n",
    "        device=device,\n",
    "        init_std=gain,\n",
    "        non_linearity=nonlinearity,\n",
    "    )\n",
    "\n",
    "    ## Setup compiler\n",
    "    criterion = lambda x, y: 0.5 * nn.functional.mse_loss(x, y)\n",
    "    optimizer = torch.optim.SGD(model.parameters(), lr=lr)\n",
    "    compiler = Compiler(model, criterion, optimizer)\n",
    "    compiler.trackers = {\n",
    "        \"loss\": ScalarTracker(lambda: compiler.validation(tracked_datasets)),\n",
    "        \"hidden\": ActivationTracker(\n",
    "            model,\n",
    "            lambda inputs: model(inputs)[1][hidden_layer],\n",
    "            datasets=tracked_datasets,\n",
    "        ),\n",
    "        \"output\": ActivationTracker(\n",
    "            model, lambda inputs: model(inputs)[0], datasets=tracked_datasets\n",
    "        ),\n",
    "    }\n",
    "\n",
    "    ## Training run\n",
    "    compiler.training_run(\n",
    "        train_datasets, tracked_datasets, n_epochs=n_epochs, batch_size=100\n",
    "    )\n",
    "\n",
    "    data_hid = compiler.trackers[\"hidden\"].get_trace()\n",
    "    data_output = compiler.trackers[\"output\"].get_trace()\n",
    "    loss = compiler.trackers[\"loss\"].get_trace().copy()\n",
    "    train_loss = loss.groupby(\"Epoch\").mean()\n",
    "    train_loss = train_loss.to_numpy().ravel()\n",
    "\n",
    "    h_A = [\n",
    "        np.array(data.loc[epoch, 0, \"A\"])\n",
    "        for epoch, data in data_hid.query(\"Dataset == 0\").groupby(\"Epoch\")\n",
    "    ]\n",
    "    h_B = [\n",
    "        np.array(data.loc[epoch, 0, \"B\"])\n",
    "        for epoch, data in data_hid.query(\"Dataset == 0\").groupby(\"Epoch\")\n",
    "    ]\n",
    "    y_A = [\n",
    "        np.array(data.loc[epoch, 0, \"A\"])\n",
    "        for epoch, data in data_output.query(\"Dataset == 0\").groupby(\"Epoch\")\n",
    "    ]\n",
    "    y_B = [\n",
    "        np.array(data.loc[epoch, 0, \"B\"])\n",
    "        for epoch, data in data_output.query(\"Dataset == 0\").groupby(\"Epoch\")\n",
    "    ]\n",
    "\n",
    "    epochs = np.arange(0, len(h_A))\n",
    "\n",
    "    y_true_A, y_true_B = outputs[0], outputs[1]\n",
    "    dy2 = np.sum((y_true_B - y_true_A) ** 2)\n",
    "    h2 = np.array([np.sum((h_A[epoch] - h_B[epoch]) ** 2) for epoch in epochs])\n",
    "    y2 = np.array([np.sum((y_A[epoch] - y_B[epoch]) ** 2) for epoch in epochs])\n",
    "    w = np.array(\n",
    "        [\n",
    "            y2[epoch] - np.dot(y_true_A - y_true_B, y_A[epoch] - y_B[epoch])\n",
    "            for epoch in epochs\n",
    "        ]\n",
    "    )\n",
    "    y0_mean = np.sum((0.5 * ((y_A[0] + y_B[0]) - (y_true_B + y_true_A))) ** 2)\n",
    "\n",
    "    h0, y0, w0, dy = h2[0], y2[0], w[0], dy2\n",
    "\n",
    "    ## Fit theory\n",
    "    traj_path = \"plots/2_points/trajectories/\"\n",
    "\n",
    "    eta_h_opt, eta_y_opt,_ = simulate.optimize_eta(h2, y2, w, dx2, dy2)\n",
    "    eta_h, eta_y = eta_h_opt, eta_y_opt\n",
    "\n",
    "    t_max = len(epochs)\n",
    "\n",
    "    sol = scipy.integrate.solve_ivp(\n",
    "        simulate.der,\n",
    "        [0, t_max],\n",
    "        [h0, y0, w0],\n",
    "        args=(eta_h, eta_y, dx2, dy2),\n",
    "        dense_output=True,\n",
    "    )\n",
    "\n",
    "    t = np.linspace(0, t_max, len(epochs))\n",
    "    z = sol.sol(t)\n",
    "    t = epochs\n",
    "\n",
    "    eta_y_mean_opt = simulate.optimize_eta_y_mean(z, train_loss, dy2, y0_mean)\n",
    "\n",
    "    dh = h2[1:] - h2[:-1]\n",
    "    loss_theory = simulate.loss(t, z, eta_y_mean_opt, dy2, y0_mean)\n",
    "\n",
    "    ## Save plots\n",
    "    publication.set_color_mixed()\n",
    "    figsize = (1.875, 1.5)\n",
    "\n",
    "    fig, ax = plt.subplots(figsize=figsize)\n",
    "    plt.plot(t, z[0], linestyle=\"--\")\n",
    "    plt.plot(t, z[1], linestyle=\"--\")\n",
    "    plt.plot(t, z[2], linestyle=\"--\")\n",
    "    plt.gca().set_prop_cycle(None)\n",
    "    ax.plot(t, h2, label=\"$||dh||^2$\")\n",
    "    ax.plot(t, y2, label=\"$||dy||^2$\")\n",
    "    ax.plot(t, w, label=\"$w$\")\n",
    "    plt.xlabel(\"Epochs\")\n",
    "    with io.capture_output() as captured:\n",
    "        publication.plt_show(save_path=traj_path + \"ode/\" + setting + \".png\")\n",
    "\n",
    "    fig, ax = plt.subplots(figsize=figsize)\n",
    "    plt.gca().set_prop_cycle(None)\n",
    "    ax.plot(0, 0)\n",
    "    ax.plot(0, 0)\n",
    "    ax.plot(t, loss_theory, label=r\"loss (theory)\", linestyle=\"--\")\n",
    "    ax.plot(0, 0)\n",
    "    ax.plot(t, train_loss, label=\"loss\", zorder=1)\n",
    "    plt.ylim(0, 0.5)\n",
    "    plt.xlabel(\"Epochs\")\n",
    "    with io.capture_output() as captured:\n",
    "        publication.plt_show(save_path=traj_path + \"loss/\" + setting + \".png\")\n",
    "\n",
    "    return"
   ]
  },
  {
   "cell_type": "code",
   "execution_count": 4,
   "metadata": {},
   "outputs": [
    {
     "name": "stdout",
     "output_type": "stream",
     "text": [
      "\t\t\t\t\t-----DEFAULT-----\n"
     ]
    },
    {
     "name": "stderr",
     "output_type": "stream",
     "text": [
      "Training: 100%|██████████| 6000/6000 [02:23<00:00, 41.92steps/s, train_loss=0.00000, val_loss=0.00000]\n"
     ]
    },
    {
     "name": "stdout",
     "output_type": "stream",
     "text": [
      "Loss: 0.04280497212246946\n"
     ]
    },
    {
     "name": "stderr",
     "output_type": "stream",
     "text": [
      "/nfs/ghome/live/vanrosseml/projects/RNN/rnn/DNN/simulate.py:104: RuntimeWarning: overflow encountered in square\n",
      "  model_loss = np.sum((pred - train_loss) ** 2)\n",
      "/nfs/ghome/live/vanrosseml/mambaforge/envs/RNN/lib/python3.11/site-packages/scipy/optimize/_numdiff.py:576: RuntimeWarning: invalid value encountered in subtract\n",
      "  df = fun(x) - f0\n",
      "/nfs/ghome/live/vanrosseml/projects/RNN/rnn/DNN/simulate.py:104: RuntimeWarning: overflow encountered in square\n",
      "  model_loss = np.sum((pred - train_loss) ** 2)\n",
      "/nfs/ghome/live/vanrosseml/mambaforge/envs/RNN/lib/python3.11/site-packages/numpy/core/fromnumeric.py:88: RuntimeWarning: overflow encountered in reduce\n",
      "  return ufunc.reduce(obj, axis, dtype, out, **passkwargs)\n"
     ]
    },
    {
     "name": "stdout",
     "output_type": "stream",
     "text": [
      "Loss: 0.04325391491574131\n",
      "\t\t\t\t\t-----SHALLOW-----\n"
     ]
    },
    {
     "name": "stderr",
     "output_type": "stream",
     "text": [
      "Training: 100%|██████████| 6000/6000 [00:50<00:00, 117.81steps/s, train_loss=0.00000, val_loss=0.00000]\n"
     ]
    },
    {
     "name": "stdout",
     "output_type": "stream",
     "text": [
      "Loss: 0.030687682103477033\n",
      "Loss: 0.030811325440106972\n"
     ]
    },
    {
     "name": "stderr",
     "output_type": "stream",
     "text": [
      "/nfs/ghome/live/vanrosseml/projects/RNN/rnn/DNN/simulate.py:104: RuntimeWarning: overflow encountered in square\n",
      "  model_loss = np.sum((pred - train_loss) ** 2)\n",
      "/nfs/ghome/live/vanrosseml/mambaforge/envs/RNN/lib/python3.11/site-packages/scipy/optimize/_numdiff.py:576: RuntimeWarning: invalid value encountered in subtract\n",
      "  df = fun(x) - f0\n",
      "/nfs/ghome/live/vanrosseml/projects/RNN/rnn/DNN/simulate.py:104: RuntimeWarning: overflow encountered in square\n",
      "  model_loss = np.sum((pred - train_loss) ** 2)\n",
      "/nfs/ghome/live/vanrosseml/mambaforge/envs/RNN/lib/python3.11/site-packages/numpy/core/fromnumeric.py:88: RuntimeWarning: overflow encountered in reduce\n",
      "  return ufunc.reduce(obj, axis, dtype, out, **passkwargs)\n"
     ]
    },
    {
     "name": "stdout",
     "output_type": "stream",
     "text": [
      "\t\t\t\t\t-----NARROW-----\n"
     ]
    },
    {
     "name": "stderr",
     "output_type": "stream",
     "text": [
      "Training: 100%|██████████| 6000/6000 [00:55<00:00, 109.02steps/s, train_loss=0.00000, val_loss=0.00000]\n"
     ]
    },
    {
     "name": "stdout",
     "output_type": "stream",
     "text": [
      "Loss: 0.1902468389363724\n",
      "Loss: 0.14346442517224997\n"
     ]
    },
    {
     "name": "stderr",
     "output_type": "stream",
     "text": [
      "/nfs/ghome/live/vanrosseml/projects/RNN/rnn/DNN/simulate.py:104: RuntimeWarning: overflow encountered in square\n",
      "  model_loss = np.sum((pred - train_loss) ** 2)\n",
      "/nfs/ghome/live/vanrosseml/mambaforge/envs/RNN/lib/python3.11/site-packages/scipy/optimize/_numdiff.py:576: RuntimeWarning: invalid value encountered in subtract\n",
      "  df = fun(x) - f0\n",
      "/nfs/ghome/live/vanrosseml/projects/RNN/rnn/DNN/simulate.py:104: RuntimeWarning: overflow encountered in square\n",
      "  model_loss = np.sum((pred - train_loss) ** 2)\n",
      "/nfs/ghome/live/vanrosseml/mambaforge/envs/RNN/lib/python3.11/site-packages/numpy/core/fromnumeric.py:88: RuntimeWarning: overflow encountered in reduce\n",
      "  return ufunc.reduce(obj, axis, dtype, out, **passkwargs)\n"
     ]
    },
    {
     "name": "stdout",
     "output_type": "stream",
     "text": [
      "\t\t\t\t\t-----LINEAR-----\n"
     ]
    },
    {
     "name": "stderr",
     "output_type": "stream",
     "text": [
      "Training: 100%|██████████| 6000/6000 [02:11<00:00, 45.59steps/s, train_loss=0.00000, val_loss=0.00000]\n"
     ]
    },
    {
     "name": "stdout",
     "output_type": "stream",
     "text": [
      "Loss: 0.20544720863987612\n",
      "Loss: 0.160946831190728\n",
      "\t\t\t\t\t-----ELU-----\n"
     ]
    },
    {
     "name": "stderr",
     "output_type": "stream",
     "text": [
      "Training: 100%|██████████| 6000/6000 [02:18<00:00, 43.33steps/s, train_loss=0.00000, val_loss=0.00000]\n"
     ]
    },
    {
     "name": "stdout",
     "output_type": "stream",
     "text": [
      "Loss: 0.20262605035997272\n",
      "Loss: 0.07220027775883706\n",
      "\t\t\t\t\t-----TANH-----\n"
     ]
    },
    {
     "name": "stderr",
     "output_type": "stream",
     "text": [
      "Training: 100%|██████████| 6000/6000 [02:19<00:00, 43.09steps/s, train_loss=0.00000, val_loss=0.00000]\n"
     ]
    },
    {
     "name": "stdout",
     "output_type": "stream",
     "text": [
      "Loss: 0.2115097660687202\n",
      "Loss: 0.18919670512349235\n",
      "\t\t\t\t\t-----RELU-----\n"
     ]
    },
    {
     "name": "stderr",
     "output_type": "stream",
     "text": [
      "Training: 100%|██████████| 6000/6000 [02:20<00:00, 42.68steps/s, train_loss=0.00000, val_loss=0.00000]\n"
     ]
    },
    {
     "name": "stdout",
     "output_type": "stream",
     "text": [
      "Loss: 0.007393614027906311\n",
      "Loss: 0.013950624316947052\n"
     ]
    },
    {
     "name": "stderr",
     "output_type": "stream",
     "text": [
      "/nfs/ghome/live/vanrosseml/projects/RNN/rnn/DNN/simulate.py:104: RuntimeWarning: overflow encountered in square\n",
      "  model_loss = np.sum((pred - train_loss) ** 2)\n",
      "/nfs/ghome/live/vanrosseml/mambaforge/envs/RNN/lib/python3.11/site-packages/scipy/optimize/_numdiff.py:576: RuntimeWarning: invalid value encountered in subtract\n",
      "  df = fun(x) - f0\n",
      "/nfs/ghome/live/vanrosseml/projects/RNN/rnn/DNN/simulate.py:104: RuntimeWarning: overflow encountered in square\n",
      "  model_loss = np.sum((pred - train_loss) ** 2)\n",
      "/nfs/ghome/live/vanrosseml/mambaforge/envs/RNN/lib/python3.11/site-packages/numpy/core/fromnumeric.py:88: RuntimeWarning: overflow encountered in reduce\n",
      "  return ufunc.reduce(obj, axis, dtype, out, **passkwargs)\n"
     ]
    },
    {
     "name": "stdout",
     "output_type": "stream",
     "text": [
      "\t\t\t\t\t-----SWISH-----\n"
     ]
    },
    {
     "name": "stderr",
     "output_type": "stream",
     "text": [
      "Training: 100%|██████████| 6000/6000 [02:19<00:00, 43.15steps/s, train_loss=0.00000, val_loss=0.00000]\n"
     ]
    },
    {
     "name": "stdout",
     "output_type": "stream",
     "text": [
      "Loss: 0.10994310868513552\n",
      "Loss: 0.1321828504149345\n"
     ]
    },
    {
     "name": "stderr",
     "output_type": "stream",
     "text": [
      "/nfs/ghome/live/vanrosseml/projects/RNN/rnn/DNN/simulate.py:104: RuntimeWarning: overflow encountered in square\n",
      "  model_loss = np.sum((pred - train_loss) ** 2)\n",
      "/nfs/ghome/live/vanrosseml/mambaforge/envs/RNN/lib/python3.11/site-packages/scipy/optimize/_numdiff.py:576: RuntimeWarning: invalid value encountered in subtract\n",
      "  df = fun(x) - f0\n",
      "/nfs/ghome/live/vanrosseml/projects/RNN/rnn/DNN/simulate.py:104: RuntimeWarning: overflow encountered in square\n",
      "  model_loss = np.sum((pred - train_loss) ** 2)\n",
      "/nfs/ghome/live/vanrosseml/mambaforge/envs/RNN/lib/python3.11/site-packages/numpy/core/fromnumeric.py:88: RuntimeWarning: overflow encountered in reduce\n",
      "  return ufunc.reduce(obj, axis, dtype, out, **passkwargs)\n"
     ]
    },
    {
     "name": "stdout",
     "output_type": "stream",
     "text": [
      "\t\t\t\t\t-----SKIP-----\n"
     ]
    },
    {
     "name": "stderr",
     "output_type": "stream",
     "text": [
      "Training: 100%|██████████| 6000/6000 [02:28<00:00, 40.51steps/s, train_loss=0.00000, val_loss=0.00000]\n"
     ]
    },
    {
     "name": "stdout",
     "output_type": "stream",
     "text": [
      "Loss: 0.2236322492209698\n",
      "Loss: 0.13204380340997002\n"
     ]
    },
    {
     "name": "stderr",
     "output_type": "stream",
     "text": [
      "/nfs/ghome/live/vanrosseml/projects/RNN/rnn/DNN/simulate.py:104: RuntimeWarning: overflow encountered in square\n",
      "  model_loss = np.sum((pred - train_loss) ** 2)\n",
      "/nfs/ghome/live/vanrosseml/mambaforge/envs/RNN/lib/python3.11/site-packages/scipy/optimize/_numdiff.py:576: RuntimeWarning: invalid value encountered in subtract\n",
      "  df = fun(x) - f0\n",
      "/nfs/ghome/live/vanrosseml/projects/RNN/rnn/DNN/simulate.py:104: RuntimeWarning: overflow encountered in square\n",
      "  model_loss = np.sum((pred - train_loss) ** 2)\n",
      "/nfs/ghome/live/vanrosseml/mambaforge/envs/RNN/lib/python3.11/site-packages/numpy/core/fromnumeric.py:88: RuntimeWarning: overflow encountered in reduce\n",
      "  return ufunc.reduce(obj, axis, dtype, out, **passkwargs)\n"
     ]
    },
    {
     "name": "stdout",
     "output_type": "stream",
     "text": [
      "\t\t\t\t\t-----CNN-----\n"
     ]
    },
    {
     "name": "stderr",
     "output_type": "stream",
     "text": [
      "Training: 100%|██████████| 6000/6000 [04:05<00:00, 24.40steps/s, train_loss=0.00000, val_loss=0.00000]\n"
     ]
    },
    {
     "name": "stdout",
     "output_type": "stream",
     "text": [
      "Loss: 0.2308950147429071\n",
      "Loss: 0.21190901518408303\n"
     ]
    },
    {
     "name": "stderr",
     "output_type": "stream",
     "text": [
      "/nfs/ghome/live/vanrosseml/projects/RNN/rnn/DNN/simulate.py:104: RuntimeWarning: overflow encountered in square\n",
      "  model_loss = np.sum((pred - train_loss) ** 2)\n",
      "/nfs/ghome/live/vanrosseml/mambaforge/envs/RNN/lib/python3.11/site-packages/scipy/optimize/_numdiff.py:576: RuntimeWarning: invalid value encountered in subtract\n",
      "  df = fun(x) - f0\n",
      "/nfs/ghome/live/vanrosseml/projects/RNN/rnn/DNN/simulate.py:104: RuntimeWarning: overflow encountered in square\n",
      "  model_loss = np.sum((pred - train_loss) ** 2)\n",
      "/nfs/ghome/live/vanrosseml/mambaforge/envs/RNN/lib/python3.11/site-packages/numpy/core/fromnumeric.py:88: RuntimeWarning: overflow encountered in reduce\n",
      "  return ufunc.reduce(obj, axis, dtype, out, **passkwargs)\n"
     ]
    },
    {
     "name": "stdout",
     "output_type": "stream",
     "text": [
      "\t\t\t\t\t-----DROPOUT-----\n"
     ]
    },
    {
     "name": "stderr",
     "output_type": "stream",
     "text": [
      "Training: 100%|██████████| 6000/6000 [01:39<00:00, 60.35steps/s, train_loss=0.00099, val_loss=0.00012]\n"
     ]
    },
    {
     "name": "stdout",
     "output_type": "stream",
     "text": [
      "Loss: 0.3477046879764514\n",
      "Loss: 0.1786688167779026\n"
     ]
    },
    {
     "name": "stderr",
     "output_type": "stream",
     "text": [
      "/nfs/ghome/live/vanrosseml/projects/RNN/rnn/DNN/simulate.py:104: RuntimeWarning: overflow encountered in square\n",
      "  model_loss = np.sum((pred - train_loss) ** 2)\n",
      "/nfs/ghome/live/vanrosseml/mambaforge/envs/RNN/lib/python3.11/site-packages/scipy/optimize/_numdiff.py:576: RuntimeWarning: invalid value encountered in subtract\n",
      "  df = fun(x) - f0\n",
      "/nfs/ghome/live/vanrosseml/projects/RNN/rnn/DNN/simulate.py:104: RuntimeWarning: overflow encountered in square\n",
      "  model_loss = np.sum((pred - train_loss) ** 2)\n",
      "/nfs/ghome/live/vanrosseml/mambaforge/envs/RNN/lib/python3.11/site-packages/numpy/core/fromnumeric.py:88: RuntimeWarning: overflow encountered in reduce\n",
      "  return ufunc.reduce(obj, axis, dtype, out, **passkwargs)\n"
     ]
    },
    {
     "name": "stdout",
     "output_type": "stream",
     "text": [
      "\t\t\t\t\t-----GAIN_0.9-----\n"
     ]
    },
    {
     "name": "stderr",
     "output_type": "stream",
     "text": [
      "Training: 100%|██████████| 6000/6000 [02:20<00:00, 42.84steps/s, train_loss=0.00000, val_loss=0.00000]\n"
     ]
    },
    {
     "name": "stdout",
     "output_type": "stream",
     "text": [
      "Loss: 0.3548988307527157\n",
      "Loss: 0.12322419093455246\n",
      "\t\t\t\t\t-----GAIN_1.1-----\n"
     ]
    },
    {
     "name": "stderr",
     "output_type": "stream",
     "text": [
      "Training: 100%|██████████| 6000/6000 [02:19<00:00, 42.88steps/s, train_loss=0.00000, val_loss=0.00000]\n"
     ]
    },
    {
     "name": "stdout",
     "output_type": "stream",
     "text": [
      "Loss: 0.0185717389559153\n",
      "Loss: 0.026072866889560484\n",
      "\t\t\t\t\t-----GAIN_1.2-----\n"
     ]
    },
    {
     "name": "stderr",
     "output_type": "stream",
     "text": [
      "Training: 100%|██████████| 6000/6000 [02:16<00:00, 43.84steps/s, train_loss=0.00000, val_loss=0.00000]\n"
     ]
    },
    {
     "name": "stdout",
     "output_type": "stream",
     "text": [
      "Loss: 0.04757312054260861\n",
      "Loss: 0.05789194225393046\n"
     ]
    },
    {
     "name": "stderr",
     "output_type": "stream",
     "text": [
      "/nfs/ghome/live/vanrosseml/projects/RNN/rnn/DNN/simulate.py:104: RuntimeWarning: overflow encountered in square\n",
      "  model_loss = np.sum((pred - train_loss) ** 2)\n",
      "/nfs/ghome/live/vanrosseml/mambaforge/envs/RNN/lib/python3.11/site-packages/scipy/optimize/_numdiff.py:576: RuntimeWarning: invalid value encountered in subtract\n",
      "  df = fun(x) - f0\n",
      "/nfs/ghome/live/vanrosseml/projects/RNN/rnn/DNN/simulate.py:104: RuntimeWarning: overflow encountered in square\n",
      "  model_loss = np.sum((pred - train_loss) ** 2)\n",
      "/nfs/ghome/live/vanrosseml/mambaforge/envs/RNN/lib/python3.11/site-packages/numpy/core/fromnumeric.py:88: RuntimeWarning: overflow encountered in reduce\n",
      "  return ufunc.reduce(obj, axis, dtype, out, **passkwargs)\n"
     ]
    },
    {
     "name": "stdout",
     "output_type": "stream",
     "text": [
      "\t\t\t\t\t-----GAIN_1.3-----\n"
     ]
    },
    {
     "name": "stderr",
     "output_type": "stream",
     "text": [
      "Training: 100%|██████████| 6000/6000 [02:18<00:00, 43.46steps/s, train_loss=0.00000, val_loss=0.00000]\n"
     ]
    },
    {
     "name": "stdout",
     "output_type": "stream",
     "text": [
      "Loss: 0.23970898902829557\n",
      "Loss: 0.01222398066023362\n"
     ]
    },
    {
     "name": "stderr",
     "output_type": "stream",
     "text": [
      "/nfs/ghome/live/vanrosseml/projects/RNN/rnn/DNN/simulate.py:104: RuntimeWarning: overflow encountered in square\n",
      "  model_loss = np.sum((pred - train_loss) ** 2)\n",
      "/nfs/ghome/live/vanrosseml/mambaforge/envs/RNN/lib/python3.11/site-packages/scipy/optimize/_numdiff.py:576: RuntimeWarning: invalid value encountered in subtract\n",
      "  df = fun(x) - f0\n",
      "/nfs/ghome/live/vanrosseml/projects/RNN/rnn/DNN/simulate.py:104: RuntimeWarning: overflow encountered in square\n",
      "  model_loss = np.sum((pred - train_loss) ** 2)\n",
      "/nfs/ghome/live/vanrosseml/mambaforge/envs/RNN/lib/python3.11/site-packages/numpy/core/fromnumeric.py:88: RuntimeWarning: overflow encountered in reduce\n",
      "  return ufunc.reduce(obj, axis, dtype, out, **passkwargs)\n"
     ]
    },
    {
     "name": "stdout",
     "output_type": "stream",
     "text": [
      "\t\t\t\t\t-----GAIN_1.4-----\n"
     ]
    },
    {
     "name": "stderr",
     "output_type": "stream",
     "text": [
      "Training: 100%|██████████| 6000/6000 [02:17<00:00, 43.76steps/s, train_loss=0.00000, val_loss=0.00000]\n"
     ]
    },
    {
     "name": "stdout",
     "output_type": "stream",
     "text": [
      "Loss: 1.0067268467850783\n",
      "Loss: 0.027280790657089857\n",
      "\t\t\t\t\t-----GAIN_1.6-----\n"
     ]
    },
    {
     "name": "stderr",
     "output_type": "stream",
     "text": [
      "Training: 100%|██████████| 6000/6000 [02:17<00:00, 43.71steps/s, train_loss=0.09627, val_loss=0.09627]\n"
     ]
    },
    {
     "name": "stdout",
     "output_type": "stream",
     "text": [
      "Loss: 9.505330387885959\n",
      "Loss: 190.4259612657725\n"
     ]
    }
   ],
   "source": [
    "etas_h, etas_y = {}, {}\n",
    "for setting in settings.index:\n",
    "    print(f\"\\t\\t\\t\\t\\t-----{setting.upper()}-----\")\n",
    "    make_plots(setting)"
   ]
  }
 ],
 "metadata": {
  "kernelspec": {
   "display_name": "RNN",
   "language": "python",
   "name": "rnn"
  },
  "language_info": {
   "codemirror_mode": {
    "name": "ipython",
    "version": 3
   },
   "file_extension": ".py",
   "mimetype": "text/x-python",
   "name": "python",
   "nbconvert_exporter": "python",
   "pygments_lexer": "ipython3",
   "version": "3.11.6"
  },
  "vscode": {
   "interpreter": {
    "hash": "e02af9847f8f14625728f2f7147d07d87bda9043f1b0a8cf0822fa7c64756065"
   }
  }
 },
 "nbformat": 4,
 "nbformat_minor": 4
}
