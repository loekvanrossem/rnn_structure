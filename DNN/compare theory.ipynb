{
 "cells": [
  {
   "cell_type": "code",
   "execution_count": 1,
   "metadata": {},
   "outputs": [
    {
     "name": "stdout",
     "output_type": "stream",
     "text": [
      "GPU available\n"
     ]
    }
   ],
   "source": [
    "import os, sys\n",
    "from tqdm import trange, tqdm\n",
    "from IPython.utils import io\n",
    "from IPython.display import clear_output\n",
    "import itertools\n",
    "\n",
    "import math\n",
    "import numpy as np\n",
    "import matplotlib.pyplot as plt\n",
    "import pandas as pd\n",
    "import scipy\n",
    "from numba import njit\n",
    "\n",
    "import torch\n",
    "from torch import nn\n",
    "from torch.utils.data import TensorDataset, ConcatDataset\n",
    "\n",
    "source = \"../source\"\n",
    "sys.path.append(source)\n",
    "\n",
    "from data import fun_data, grid_data\n",
    "from preprocessing import Direct, Encoding, OneHot\n",
    "from compilation import Compiler, Tracker, ScalarTracker, ActivationTracker\n",
    "from activations import get_activations\n",
    "from data_analysis.visualization.animation import SliderAnimation\n",
    "from data_analysis.visualization.activations import (\n",
    "    ActivationsAnimation,\n",
    "    FunctionAnimation,\n",
    "    PointAnimation,\n",
    ")\n",
    "from data_analysis.visualization.automata import AutomatonAnimation\n",
    "from data_analysis.visualization.epochs import EpochAnimation\n",
    "from data_analysis.visualization.publication import pub_show\n",
    "import simulate\n",
    "import two_points\n",
    "\n",
    "import models as models\n",
    "from models import MLP, CNN, ResNet\n",
    "\n",
    "import cProfile\n",
    "import pstats\n",
    "\n",
    "\n",
    "is_cuda = torch.cuda.is_available()\n",
    "if is_cuda:\n",
    "    device = torch.device(\"cuda\")\n",
    "    print(\"GPU available\")\n",
    "else:\n",
    "    device = torch.device(\"cpu\")\n",
    "    print(\"GPU not available\")\n",
    "\n",
    "device = torch.device(\"cpu\")\n",
    "\n",
    "with io.capture_output() as captured:\n",
    "    pub_show()\n",
    "\n",
    "traj_path = \"plots/2 points/comparisons/\""
   ]
  },
  {
   "cell_type": "code",
   "execution_count": 2,
   "metadata": {},
   "outputs": [],
   "source": [
    "## Load settings\n",
    "setting = \"lazy\"\n",
    "\n",
    "(\n",
    "    model_type,\n",
    "    nonlinearity,\n",
    "    gain,\n",
    "    lr,\n",
    "    P,\n",
    "    L,\n",
    "    n_epochs,\n",
    "    hidden_layer,\n",
    "    dx2,\n",
    "    dy2,\n",
    "    in_dim,\n",
    "    out_dim,\n",
    ") = (\n",
    "    pd.read_csv(\"model_settings/2 points.txt\", sep=\" \", header=0)\n",
    "    .loc[setting]\n",
    "    .to_numpy()\n",
    ")\n",
    "model_type = getattr(models, model_type)\n",
    "if nonlinearity == \"discontinuous\":\n",
    "    nonlinearity = simulate.Discontinuous.apply\n",
    "elif nonlinearity == \"none\":\n",
    "    nonlinearity = None\n",
    "else:\n",
    "    nonlinearity = getattr(torch.nn.functional, nonlinearity)\n",
    "\n",
    "\n",
    "threshold = 1e-4\n",
    "n_epochs_plot = 20000\n",
    "hidden_layer = 5\n",
    "L = 10"
   ]
  },
  {
   "cell_type": "code",
   "execution_count": 29,
   "metadata": {},
   "outputs": [
    {
     "name": "stderr",
     "output_type": "stream",
     "text": [
      "Training: 100%|██████████| 3000/3000 [00:20<00:00, 145.83steps/s, train_loss=0.00000, val_loss=0.00000]\n"
     ]
    },
    {
     "name": "stdout",
     "output_type": "stream",
     "text": [
      "G:0.41978689073464287\n"
     ]
    },
    {
     "name": "stderr",
     "output_type": "stream",
     "text": [
      "Training: 100%|██████████| 3000/3000 [00:18<00:00, 161.24steps/s, train_loss=0.00000, val_loss=0.00000]\n"
     ]
    },
    {
     "name": "stdout",
     "output_type": "stream",
     "text": [
      "G:0.18671680935737903\n"
     ]
    },
    {
     "name": "stderr",
     "output_type": "stream",
     "text": [
      "Training: 100%|██████████| 3000/3000 [00:17<00:00, 167.14steps/s, train_loss=0.00000, val_loss=0.00000]\n"
     ]
    },
    {
     "name": "stdout",
     "output_type": "stream",
     "text": [
      "G:5.3167213246222954e-05\n"
     ]
    },
    {
     "name": "stderr",
     "output_type": "stream",
     "text": [
      "Training: 100%|██████████| 3000/3000 [00:18<00:00, 164.37steps/s, train_loss=0.00002, val_loss=0.00002]\n"
     ]
    },
    {
     "name": "stdout",
     "output_type": "stream",
     "text": [
      "G:0.0012975651227598041\n"
     ]
    },
    {
     "name": "stderr",
     "output_type": "stream",
     "text": [
      "Training: 100%|██████████| 3000/3000 [00:18<00:00, 159.48steps/s, train_loss=0.00001, val_loss=0.00001]\n"
     ]
    },
    {
     "name": "stdout",
     "output_type": "stream",
     "text": [
      "G:0.3257029673265785\n"
     ]
    },
    {
     "name": "stderr",
     "output_type": "stream",
     "text": [
      "Training: 100%|██████████| 3000/3000 [00:18<00:00, 160.71steps/s, train_loss=0.00000, val_loss=0.00000]\n"
     ]
    },
    {
     "name": "stdout",
     "output_type": "stream",
     "text": [
      "G:0.003190396585648839\n"
     ]
    },
    {
     "name": "stderr",
     "output_type": "stream",
     "text": [
      "Training: 100%|██████████| 3000/3000 [00:18<00:00, 162.00steps/s, train_loss=0.00000, val_loss=0.00000]\n"
     ]
    },
    {
     "name": "stdout",
     "output_type": "stream",
     "text": [
      "G:0.0003399456930685021\n"
     ]
    },
    {
     "name": "stderr",
     "output_type": "stream",
     "text": [
      "Training: 100%|██████████| 3000/3000 [00:18<00:00, 158.78steps/s, train_loss=0.00919, val_loss=0.00919]\n",
      "Training: 100%|██████████| 3000/3000 [00:19<00:00, 150.50steps/s, train_loss=0.00000, val_loss=0.00000]\n"
     ]
    },
    {
     "name": "stdout",
     "output_type": "stream",
     "text": [
      "G:0.0005870511635269362\n"
     ]
    },
    {
     "name": "stderr",
     "output_type": "stream",
     "text": [
      "Training: 100%|██████████| 3000/3000 [00:19<00:00, 156.03steps/s, train_loss=0.00002, val_loss=0.00002]\n"
     ]
    },
    {
     "name": "stdout",
     "output_type": "stream",
     "text": [
      "G:0.033569425090804295\n"
     ]
    },
    {
     "name": "stderr",
     "output_type": "stream",
     "text": [
      "Training: 100%|██████████| 3000/3000 [00:18<00:00, 161.09steps/s, train_loss=0.00000, val_loss=0.00000]\n"
     ]
    },
    {
     "name": "stdout",
     "output_type": "stream",
     "text": [
      "G:0.5897453057267797\n"
     ]
    },
    {
     "name": "stderr",
     "output_type": "stream",
     "text": [
      "Training: 100%|██████████| 3000/3000 [00:19<00:00, 156.44steps/s, train_loss=0.00016, val_loss=0.00016]\n",
      "Training: 100%|██████████| 3000/3000 [00:18<00:00, 160.72steps/s, train_loss=0.00000, val_loss=0.00000]\n"
     ]
    },
    {
     "name": "stdout",
     "output_type": "stream",
     "text": [
      "G:0.01214868539935079\n"
     ]
    },
    {
     "name": "stderr",
     "output_type": "stream",
     "text": [
      "Training: 100%|██████████| 3000/3000 [00:19<00:00, 154.22steps/s, train_loss=0.00020, val_loss=0.00020]\n",
      "Training: 100%|██████████| 3000/3000 [00:18<00:00, 159.75steps/s, train_loss=0.00066, val_loss=0.00066]\n",
      "Training: 100%|██████████| 3000/3000 [00:18<00:00, 162.22steps/s, train_loss=0.00000, val_loss=0.00000]\n"
     ]
    },
    {
     "name": "stdout",
     "output_type": "stream",
     "text": [
      "G:0.009123081093320126\n"
     ]
    },
    {
     "name": "stderr",
     "output_type": "stream",
     "text": [
      "Training: 100%|██████████| 3000/3000 [00:18<00:00, 163.13steps/s, train_loss=0.00000, val_loss=0.00000]\n"
     ]
    },
    {
     "name": "stdout",
     "output_type": "stream",
     "text": [
      "G:0.5714844751329721\n"
     ]
    },
    {
     "name": "stderr",
     "output_type": "stream",
     "text": [
      "Training: 100%|██████████| 3000/3000 [00:18<00:00, 159.49steps/s, train_loss=0.00001, val_loss=0.00001]\n"
     ]
    },
    {
     "name": "stdout",
     "output_type": "stream",
     "text": [
      "G:0.12076186227735727\n"
     ]
    },
    {
     "name": "stderr",
     "output_type": "stream",
     "text": [
      "Training: 100%|██████████| 3000/3000 [00:19<00:00, 153.11steps/s, train_loss=0.00000, val_loss=0.00000]\n"
     ]
    },
    {
     "name": "stdout",
     "output_type": "stream",
     "text": [
      "G:0.0403989671387103\n"
     ]
    },
    {
     "name": "stderr",
     "output_type": "stream",
     "text": [
      "Training: 100%|██████████| 3000/3000 [00:18<00:00, 160.45steps/s, train_loss=0.00000, val_loss=0.00000]\n"
     ]
    },
    {
     "name": "stdout",
     "output_type": "stream",
     "text": [
      "G:0.06650251436136848\n"
     ]
    },
    {
     "name": "stderr",
     "output_type": "stream",
     "text": [
      "Training: 100%|██████████| 3000/3000 [00:19<00:00, 157.56steps/s, train_loss=0.00002, val_loss=0.00002]\n"
     ]
    },
    {
     "name": "stdout",
     "output_type": "stream",
     "text": [
      "G:0.30564557720950564\n"
     ]
    },
    {
     "name": "stderr",
     "output_type": "stream",
     "text": [
      "Training: 100%|██████████| 3000/3000 [00:20<00:00, 148.27steps/s, train_loss=0.00000, val_loss=0.00000]\n"
     ]
    },
    {
     "name": "stdout",
     "output_type": "stream",
     "text": [
      "G:0.0029552033593928254\n"
     ]
    },
    {
     "name": "stderr",
     "output_type": "stream",
     "text": [
      "Training: 100%|██████████| 3000/3000 [00:17<00:00, 168.97steps/s, train_loss=0.00023, val_loss=0.00023]\n",
      "Training: 100%|██████████| 3000/3000 [00:18<00:00, 164.32steps/s, train_loss=0.00186, val_loss=0.00186]\n",
      "Training: 100%|██████████| 3000/3000 [00:18<00:00, 162.15steps/s, train_loss=0.00001, val_loss=0.00001]\n"
     ]
    },
    {
     "name": "stdout",
     "output_type": "stream",
     "text": [
      "G:0.012590019884684528\n"
     ]
    },
    {
     "name": "stderr",
     "output_type": "stream",
     "text": [
      "Training: 100%|██████████| 3000/3000 [00:18<00:00, 160.77steps/s, train_loss=0.00000, val_loss=0.00000]\n"
     ]
    },
    {
     "name": "stdout",
     "output_type": "stream",
     "text": [
      "G:2.7895348711437428e-05\n"
     ]
    },
    {
     "name": "stderr",
     "output_type": "stream",
     "text": [
      "Training: 100%|██████████| 3000/3000 [00:18<00:00, 159.70steps/s, train_loss=0.00000, val_loss=0.00000]\n"
     ]
    },
    {
     "name": "stdout",
     "output_type": "stream",
     "text": [
      "G:2.0536887209445718\n"
     ]
    },
    {
     "name": "stderr",
     "output_type": "stream",
     "text": [
      "Training: 100%|██████████| 3000/3000 [00:18<00:00, 159.47steps/s, train_loss=0.00000, val_loss=0.00000]\n"
     ]
    },
    {
     "name": "stdout",
     "output_type": "stream",
     "text": [
      "G:0.0029113650388822177\n"
     ]
    },
    {
     "name": "stderr",
     "output_type": "stream",
     "text": [
      "Training: 100%|██████████| 3000/3000 [00:18<00:00, 162.55steps/s, train_loss=0.00167, val_loss=0.00167]\n",
      "Training: 100%|██████████| 3000/3000 [00:19<00:00, 155.77steps/s, train_loss=0.00000, val_loss=0.00000]\n"
     ]
    },
    {
     "name": "stdout",
     "output_type": "stream",
     "text": [
      "G:0.2900477108761426\n",
      "eta_h, eta_y,G = nan, nan,0.21953372182953929\n"
     ]
    },
    {
     "name": "stderr",
     "output_type": "stream",
     "text": [
      "/home/loek/miniconda3/envs/rnn/lib/python3.10/site-packages/numpy/core/fromnumeric.py:3464: RuntimeWarning: Mean of empty slice.\n",
      "  return _methods._mean(a, axis=axis, dtype=dtype,\n",
      "/home/loek/miniconda3/envs/rnn/lib/python3.10/site-packages/numpy/core/_methods.py:192: RuntimeWarning: invalid value encountered in scalar divide\n",
      "  ret = ret.dtype.type(ret / rcount)\n"
     ]
    }
   ],
   "source": [
    "## Fit effective learning rates\n",
    "eta_h_opts, eta_y_opts = [], []\n",
    "Gs = []\n",
    "for _ in range(30):\n",
    "    data, encoding = two_points.data_set(dx2, dy2, 1, 1, device)\n",
    "\n",
    "    model = model_type(\n",
    "        encoding=encoding,\n",
    "        input_size=1,\n",
    "        output_size=1,\n",
    "        hidden_dim=P,\n",
    "        n_hid_layers=L,\n",
    "        device=device,\n",
    "        init_std=gain,\n",
    "        non_linearity=nonlinearity,\n",
    "    )\n",
    "\n",
    "    criterion = lambda x, y: 0.5 * nn.functional.mse_loss(x, y)\n",
    "    optimizer = torch.optim.SGD(model.parameters(), lr=lr)\n",
    "    compiler = Compiler(model, criterion, optimizer)\n",
    "    compiler.trackers = {\n",
    "        \"loss\": ScalarTracker(lambda: compiler.validation([data])),\n",
    "        \"hidden\": ActivationTracker(\n",
    "            model, lambda inputs: model(inputs)[1][hidden_layer]\n",
    "        ),\n",
    "        \"output\": ActivationTracker(model, lambda inputs: model(inputs)[0]),\n",
    "    }\n",
    "\n",
    "    h0, y0, w0 = two_points.get_h_y_w(data, model, hidden_layer)\n",
    "\n",
    "    compiler.training_run([data], [data], n_epochs=n_epochs, batch_size=100)\n",
    "\n",
    "    if compiler.trackers[\"loss\"].get_entry(-1)[0][0] > threshold:\n",
    "        continue\n",
    "\n",
    "    data_hid = compiler.trackers[\"hidden\"].get_trace().copy()\n",
    "    data_output = compiler.trackers[\"output\"].get_trace().copy()\n",
    "    h_A = [\n",
    "        np.array(data.loc[epoch, 0, \"A\"])\n",
    "        for epoch, data in data_hid.query(\"Dataset == 0\").groupby(\"Epoch\")\n",
    "    ]\n",
    "    h_B = [\n",
    "        np.array(data.loc[epoch, 0, \"B\"])\n",
    "        for epoch, data in data_hid.query(\"Dataset == 0\").groupby(\"Epoch\")\n",
    "    ]\n",
    "    y_A = [\n",
    "        np.array(data.loc[epoch, 0, \"A\"])\n",
    "        for epoch, data in data_output.query(\"Dataset == 0\").groupby(\"Epoch\")\n",
    "    ]\n",
    "    y_B = [\n",
    "        np.array(data.loc[epoch, 0, \"B\"])\n",
    "        for epoch, data in data_output.query(\"Dataset == 0\").groupby(\"Epoch\")\n",
    "    ]\n",
    "    epochs = np.arange(0, len(h_A))\n",
    "    y_true_A, y_true_B = data[0][1].numpy(), data[1][1].numpy()\n",
    "    dy2 = np.sum((y_true_B - y_true_A) ** 2)\n",
    "    h2 = np.array([np.sum((h_A[epoch] - h_B[epoch]) ** 2) for epoch in epochs])\n",
    "    y2 = np.array([np.sum((y_A[epoch] - y_B[epoch]) ** 2) for epoch in epochs])\n",
    "    w = np.array(\n",
    "        [\n",
    "            y2[epoch] - np.dot(y_true_A - y_true_B, y_A[epoch] - y_B[epoch])\n",
    "            for epoch in epochs\n",
    "        ]\n",
    "    )\n",
    "\n",
    "    # eta_h_opt, eta_y_opt = simulate.optimize_eta(h2, y2, w, dx2, dy2)\n",
    "    # eta_h_opts.append(eta_h_opt)\n",
    "    # eta_y_opts.append(eta_y_opt)\n",
    "    # print(eta_h_opt, eta_y_opt)\n",
    "\n",
    "    # Compute G\n",
    "    input_1 = data[0][0]\n",
    "    input_2 = data[0][1]\n",
    "    pred_1 = model(input_1)[0]\n",
    "    pred_2 = model(input_2)[0]\n",
    "    input_1, input_2, pred_1, pred_2 = [\n",
    "        a.detach().numpy() for a in (input_1, input_2, pred_1, pred_2)\n",
    "    ]\n",
    "    G = np.linalg.norm(pred_2 - pred_1) ** 2 / np.linalg.norm(input_2 - input_1) ** 2\n",
    "    Gs.append(G)\n",
    "    print(f\"G: {G}\")\n",
    "\n",
    "eta_h, eta_y = np.mean(eta_h_opts), np.mean(eta_y_opts)\n",
    "\n",
    "G = np.mean(Gs)\n",
    "\n",
    "print(f\"eta_h, eta_y,G = {eta_h}, {eta_y},{G}\")"
   ]
  },
  {
   "cell_type": "code",
   "execution_count": 3,
   "metadata": {},
   "outputs": [],
   "source": [
    "if setting == \"default\":\n",
    "    eta_h, eta_y = 0.0020877677068522342, 0.10208116909174215\n",
    "if setting == \"elu\":\n",
    "    eta_h, eta_y = 0.005803672402515137, 0.005655853213481479\n",
    "if setting == \"gain_1.3\":\n",
    "    eta_h, eta_y, G = 0.0018872979697360493, 0.019601273667067383, 5.409e-05\n",
    "if setting == \"skip\":\n",
    "    eta_h, eta_y = 0.01792881864645138, 0.0037541483387444354\n",
    "if setting == \"tanh\":\n",
    "    eta_h, eta_y = 0.005330850767562925, 0.004559356995640654\n",
    "if setting == \"linear\":\n",
    "    eta_h, eta_y = 0.006383913350493798, 0.005209085364099827\n",
    "if setting == \"narrow\":\n",
    "    eta_h, eta_y = 0.009019062223673728, 0.11573112446814811\n",
    "if setting == \"shallow\":\n",
    "    eta_h, eta_y = 0.009311294325305463, 0.015446764974931849\n",
    "if setting == \"relu\":\n",
    "    eta_h, eta_y = 0.0013260572599296402, 0.06614670042709664\n",
    "if setting == \"cnn\":\n",
    "    eta_h, eta_y = 0.1429049664638375, 0.024994515229592434\n",
    "\n",
    "# eta_h, eta_y = 0.009408065260520659, 0.07242601567405892  # gain_0.9 10 layers"
   ]
  },
  {
   "cell_type": "code",
   "execution_count": 5,
   "metadata": {},
   "outputs": [
    {
     "data": {
      "image/png": "[encoded data removed]",
      "text/plain": [
       "<Figure size 300x300 with 1 Axes>"
      ]
     },
     "metadata": {},
     "output_type": "display_data"
    }
   ],
   "source": [
    "dx2 = 1\n",
    "\n",
    "h0s, y0s, w0s, hs, ys, ws = [], [], [], [], [], []\n",
    "dy2s = []\n",
    "\n",
    "N = 50\n",
    "m = 1\n",
    "\n",
    "for dy in np.linspace(0, 1, N):\n",
    "    dy2 = dy**2\n",
    "    variables = []\n",
    "    for _ in range(m):\n",
    "        ## Generate data\n",
    "        data, encoding = two_points.data_set(dx2, dy2, 1, 1, device)\n",
    "\n",
    "        ## Instantiate model\n",
    "        model = model_type(\n",
    "            encoding=encoding,\n",
    "            input_size=1,\n",
    "            output_size=1,\n",
    "            hidden_dim=P,\n",
    "            n_hid_layers=L,\n",
    "            device=device,\n",
    "            init_std=gain,\n",
    "            non_linearity=nonlinearity,\n",
    "        )\n",
    "\n",
    "        criterion = lambda x, y: 0.5 * nn.functional.mse_loss(x, y)\n",
    "        optimizer = torch.optim.SGD(model.parameters(), lr=lr / 3)\n",
    "        compiler = Compiler(model, criterion, optimizer)\n",
    "        compiler.trackers = {\"loss\": ScalarTracker(lambda: compiler.validation([data]))}\n",
    "\n",
    "        h0, y0, w0 = two_points.get_h_y_w(data, model, hidden_layer)\n",
    "\n",
    "        ## Training run\n",
    "        compiler.training_run(\n",
    "            [data], [], n_epochs=n_epochs_plot, batch_size=100, conv_thresh=threshold\n",
    "        )\n",
    "\n",
    "        if compiler.trackers[\"loss\"].get_entry(-1)[0][0] > threshold:\n",
    "            break\n",
    "\n",
    "        h, y, w = two_points.get_h_y_w(data, model, hidden_layer)\n",
    "\n",
    "        variables.append([h0, y0, w0, h, y, w])\n",
    "\n",
    "    if len(variables) > 0:\n",
    "        variables = np.mean(np.array(variables), axis=0)\n",
    "        for i, array in enumerate((h0s, y0s, w0s, hs, ys, ws)):\n",
    "            array.append(variables[i])\n",
    "        dy2s.append(dy2)\n",
    "\n",
    "        clear_output(wait=True)\n",
    "\n",
    "        fig = plt.figure(figsize=(3, 3))\n",
    "        plt.scatter(np.sqrt(dy2s), hs)\n",
    "        plt.xlabel(\"$||y_2-y_1||$\")\n",
    "        plt.ylabel(\"$||dh||^2$\")\n",
    "        plt.ylim(0, 1.1 * max(hs))\n",
    "        plt.plot(\n",
    "            np.sqrt(dy2s),\n",
    "            np.sqrt(eta_h / eta_y) * np.sqrt(dy2s) * np.sqrt(dx2),\n",
    "            linestyle=\"--\",\n",
    "            label=\"Theory\",\n",
    "        )\n",
    "        plt.legend()\n",
    "        pub_show(colors=\"contrast\")"
   ]
  },
  {
   "cell_type": "code",
   "execution_count": 7,
   "metadata": {},
   "outputs": [
    {
     "data": {
      "image/png": "[encoded data removed]",
      "text/plain": [
       "<Figure size 250x250 with 1 Axes>"
      ]
     },
     "metadata": {},
     "output_type": "display_data"
    },
    {
     "data": {
      "image/png": "[encoded data removed]",
      "text/plain": [
       "<Figure size 250x250 with 1 Axes>"
      ]
     },
     "metadata": {},
     "output_type": "display_data"
    }
   ],
   "source": [
    "def plot_y():\n",
    "    fig = plt.figure(figsize=(2.5, 2.5))\n",
    "    plt.scatter(np.sqrt(dy2s), hs)\n",
    "    plt.xlabel(\"$||y_2-y_1||$\")\n",
    "    plt.ylabel(\"$||dh||^2$\")\n",
    "    plt.ylim(0, 1.1 * max(hs))\n",
    "    plt.plot(\n",
    "        np.sqrt(dy2s),\n",
    "        np.sqrt(eta_h / eta_y) * np.sqrt(dy2s) * np.sqrt(dx2),\n",
    "        linestyle=\"--\",\n",
    "        label=\"Theory\",\n",
    "    )\n",
    "    # plt.plot(np.sqrt(dy2s), G * (1 - eta_h / eta_y) * dx2, linestyle=\"--\", label=\"Theory\")\n",
    "\n",
    "\n",
    "plot_y()\n",
    "pub_show(\n",
    "    colors=\"contrast\",\n",
    "    save_path=traj_path + \"dh_vs_y_\" + setting + \"_no_legend\" + \"10_layers\" + \".png\",\n",
    ")\n",
    "plot_y()\n",
    "plt.legend()\n",
    "pub_show(\n",
    "    colors=\"contrast\", save_path=traj_path + \"dh_vs_y_\" + setting + \"10_layers\" + \".png\"\n",
    ")"
   ]
  },
  {
   "cell_type": "code",
   "execution_count": 8,
   "metadata": {},
   "outputs": [
    {
     "data": {
      "image/png": "[encoded data removed]",
      "text/plain": [
       "<Figure size 250x250 with 1 Axes>"
      ]
     },
     "metadata": {},
     "output_type": "display_data"
    }
   ],
   "source": [
    "dy2 = 0.5\n",
    "\n",
    "h0s, y0s, w0s, hs, ys, ws = [], [], [], [], [], []\n",
    "dx2s = []\n",
    "\n",
    "N = 50\n",
    "m = 1\n",
    "\n",
    "for dx in np.linspace(0.2, 1, N):\n",
    "    dx2 = dx**2\n",
    "    variables = []\n",
    "    for _ in range(m):\n",
    "        ## Generate data\n",
    "        data, encoding = two_points.data_set(dx2, dy2, 1, 1, device)\n",
    "\n",
    "        ## Instantiate model\n",
    "        model = model_type(\n",
    "            encoding=encoding,\n",
    "            input_size=1,\n",
    "            output_size=1,\n",
    "            hidden_dim=P,\n",
    "            n_hid_layers=L,\n",
    "            device=device,\n",
    "            init_std=gain,\n",
    "            non_linearity=nonlinearity,\n",
    "        )\n",
    "\n",
    "        criterion = lambda x, y: 0.5 * nn.functional.mse_loss(x, y)\n",
    "        optimizer = torch.optim.SGD(model.parameters(), lr=lr / 3)\n",
    "        compiler = Compiler(model, criterion, optimizer)\n",
    "        compiler.trackers = {\"loss\": ScalarTracker(lambda: compiler.validation([data]))}\n",
    "\n",
    "        h0, y0, w0 = two_points.get_h_y_w(data, model, hidden_layer)\n",
    "\n",
    "        ## Training run\n",
    "        compiler.training_run(\n",
    "            [data], [], n_epochs=n_epochs_plot, batch_size=100, conv_thresh=threshold\n",
    "        )\n",
    "\n",
    "        if compiler.trackers[\"loss\"].get_entry(-1)[0][0] > threshold:\n",
    "            break\n",
    "\n",
    "        h, y, w = two_points.get_h_y_w(data, model, hidden_layer)\n",
    "\n",
    "        variables.append([h0, y0, w0, h, y, w])\n",
    "\n",
    "    if len(variables) > 0:\n",
    "        variables = np.mean(np.array(variables), axis=0)\n",
    "        for i, array in enumerate((h0s, y0s, w0s, hs, ys, ws)):\n",
    "            array.append(variables[i])\n",
    "        dx2s.append(dx2)\n",
    "\n",
    "        clear_output(wait=True)\n",
    "\n",
    "        fig = plt.figure(figsize=(2.5, 2.5))\n",
    "        plt.scatter(np.sqrt(dx2s), hs)\n",
    "        plt.xlabel(\"$||x_2-x_1||$\")\n",
    "        plt.ylabel(\"$||dh||^2$\")\n",
    "        plt.ylim(0, 1.1 * max(hs))\n",
    "        plt.plot(\n",
    "            np.sqrt(dx2s),\n",
    "            np.sqrt(eta_h / eta_y) * np.sqrt(dx2s) * np.sqrt(dy2),\n",
    "            linestyle=\"--\",\n",
    "            label=\"Theory\",\n",
    "        )\n",
    "        # plt.plot(\n",
    "        #     np.sqrt(dx2s),\n",
    "        #     G * (1 - eta_h / eta_y) * np.array(dx2s),\n",
    "        #     linestyle=\"--\",\n",
    "        #     label=\"Theory\",\n",
    "        # )\n",
    "        plt.legend()\n",
    "        pub_show(colors=\"contrast\")"
   ]
  },
  {
   "cell_type": "code",
   "execution_count": 19,
   "metadata": {},
   "outputs": [
    {
     "data": {
      "image/png": "[encoded data removed]",
      "text/plain": [
       "<Figure size 250x250 with 1 Axes>"
      ]
     },
     "metadata": {},
     "output_type": "display_data"
    },
    {
     "name": "stderr",
     "output_type": "stream",
     "text": [
      "No artists with labels found to put in legend.  Note that artists whose label start with an underscore are ignored when legend() is called with no argument.\n",
      "No artists with labels found to put in legend.  Note that artists whose label start with an underscore are ignored when legend() is called with no argument.\n"
     ]
    },
    {
     "data": {
      "image/png": "[encoded data removed]",
      "text/plain": [
       "<Figure size 250x250 with 1 Axes>"
      ]
     },
     "metadata": {},
     "output_type": "display_data"
    }
   ],
   "source": [
    "def plot_x():\n",
    "    fig = plt.figure(figsize=(2.5, 2.5))\n",
    "    plt.scatter(np.sqrt(dx2s), hs)\n",
    "    plt.xlabel(\"$||x_2-x_1||$\")\n",
    "    plt.ylabel(\"$||dh||^2$\")\n",
    "    plt.ylim(0, 1.1 * max(hs))\n",
    "    # plt.plot(\n",
    "    #     np.sqrt(dx2s),\n",
    "    #     np.sqrt(eta_h / eta_y) * np.sqrt(dx2s) * np.sqrt(dy2),\n",
    "    #     linestyle=\"--\",\n",
    "    #     label=\"Theory\",\n",
    "    # )\n",
    "    # plt.plot(\n",
    "    #     np.sqrt(dx2s),\n",
    "    #     G * (1 - eta_h / eta_y) * np.array(dx2s),\n",
    "    #     linestyle=\"--\",\n",
    "    #     label=\"Theory\",\n",
    "    # )\n",
    "\n",
    "\n",
    "plot_x()\n",
    "pub_show(\n",
    "    colors=\"contrast\",\n",
    "    save_path=traj_path + \"dh_vs_x_\" + setting + \"_no_legend\" + \"10_layers\" + \".png\",\n",
    ")\n",
    "plot_x()\n",
    "plt.legend()\n",
    "pub_show(\n",
    "    colors=\"contrast\", save_path=traj_path + \"dh_vs_x_\" + setting + \"10_layers\" + \".png\"\n",
    ")"
   ]
  }
 ],
 "metadata": {
  "kernelspec": {
   "display_name": "rnn",
   "language": "python",
   "name": "python3"
  },
  "language_info": {
   "codemirror_mode": {
    "name": "ipython",
    "version": 3
   },
   "file_extension": ".py",
   "mimetype": "text/x-python",
   "name": "python",
   "nbconvert_exporter": "python",
   "pygments_lexer": "ipython3",
   "version": "3.10.13"
  }
 },
 "nbformat": 4,
 "nbformat_minor": 2
}
