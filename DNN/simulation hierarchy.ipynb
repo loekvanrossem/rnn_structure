{
 "cells": [
  {
   "cell_type": "code",
   "execution_count": 1,
   "metadata": {},
   "outputs": [],
   "source": [
    "import os, sys\n",
    "from tqdm import trange, tqdm\n",
    "\n",
    "import math\n",
    "import numpy as np\n",
    "import pandas as pd\n",
    "import scipy\n",
    "\n",
    "import matplotlib.pyplot as plt\n",
    "import plotly.graph_objects as go\n",
    "\n",
    "import simulate\n",
    "\n",
    "\n",
    "source = \"../source\"\n",
    "sys.path.append(source)\n",
    "\n",
    "from data_analysis.visualization.publication import pub_show\n",
    "from simulate import rep_sim"
   ]
  },
  {
   "cell_type": "code",
   "execution_count": 2,
   "metadata": {},
   "outputs": [],
   "source": [
    "data_path = \"../DNN/data/\"\n",
    "\n",
    "properties = pd.read_csv(\n",
    "    data_path + \"amazing data/properties simple.txt\", sep=\" \", header=0\n",
    ")\n",
    "Y = properties.to_numpy().T\n",
    "\n",
    "features = [\n",
    "    ([Y[0], Y[1]], [Y[2], Y[3]]),\n",
    "    ([Y[0]], [Y[1]]),\n",
    "    ([Y[2]], [Y[3]]),\n",
    "]\n",
    "\n",
    "dys = [\n",
    "    np.sum(\n",
    "        [\n",
    "            np.linalg.norm(y_2 - y_1) ** 2 / (len(Y_1) * len(Y_2))\n",
    "            for y_1 in Y_1\n",
    "            for y_2 in Y_2\n",
    "        ]\n",
    "    )\n",
    "    for Y_1, Y_2 in features\n",
    "]\n",
    "\n",
    "N = len(Y)"
   ]
  },
  {
   "cell_type": "code",
   "execution_count": 3,
   "metadata": {},
   "outputs": [],
   "source": [
    "dys = [np.linalg.norm(Y[n_2] - Y[n_1]) ** 2 for n_1 in range(N) for n_2 in range(n_1)]"
   ]
  },
  {
   "cell_type": "code",
   "execution_count": 12,
   "metadata": {},
   "outputs": [],
   "source": [
    "data_path = \"../DNN/data/\"\n",
    "\n",
    "properties = pd.read_csv(data_path + \"amazing data/properties.txt\", sep=\" \", header=0)\n",
    "Y = properties.to_numpy().T\n",
    "\n",
    "features = [\n",
    "    ([Y[0], Y[1], Y[2]], [Y[3], Y[4]]),\n",
    "    ([Y[0], Y[1]], [Y[2]]),\n",
    "    ([Y[0]], [Y[1]]),\n",
    "    ([Y[3]], [Y[4]]),\n",
    "]\n",
    "\n",
    "features = [\n",
    "    ([Y[2]], [Y[0], Y[1], Y[3], Y[4]]),\n",
    "    ([Y[0], Y[1]], [Y[3], Y[4]]),\n",
    "    ([Y[0], Y[1]], [Y[2]]),\n",
    "    ([Y[0]], [Y[1]]),\n",
    "    ([Y[3]], [Y[4]]),\n",
    "]\n",
    "\n",
    "dys = [\n",
    "    np.sum(\n",
    "        [\n",
    "            np.linalg.norm(y_2 - y_1) ** 2 / (len(Y_1) * len(Y_2))\n",
    "            for y_1 in Y_1\n",
    "            for y_2 in Y_2\n",
    "        ]\n",
    "    )\n",
    "    for Y_1, Y_2 in features\n",
    "]\n",
    "N = len(Y)"
   ]
  },
  {
   "cell_type": "code",
   "execution_count": 13,
   "metadata": {},
   "outputs": [
    {
     "data": {
      "text/plain": [
       "[5.0, 8.0, 5.5, 1.0, 2.9999999999999996]"
      ]
     },
     "execution_count": 13,
     "metadata": {},
     "output_type": "execute_result"
    }
   ],
   "source": [
    "dys"
   ]
  },
  {
   "cell_type": "code",
   "execution_count": 14,
   "metadata": {},
   "outputs": [],
   "source": [
    "data_path = \"../DNN/data/\"\n",
    "\n",
    "properties = pd.read_csv(\n",
    "    data_path + \"Rogers McClelland/Table B1.txt\", sep=\" \", header=0\n",
    ")\n",
    "Y = properties.to_numpy().T\n",
    "\n",
    "features = [\n",
    "    ([Y[0], Y[1], Y[2], Y[3]], [Y[4], Y[5], Y[6], Y[7]]),\n",
    "    ([Y[0], Y[1]], [Y[2], Y[3]]),\n",
    "    ([Y[4], Y[5]], [Y[6], Y[7]]),\n",
    "    ([Y[0]], [Y[1]]),\n",
    "    ([Y[2]], [Y[3]]),\n",
    "    ([Y[4]], [Y[5]]),\n",
    "    ([Y[6]], [Y[7]]),\n",
    "]\n",
    "\n",
    "dys = [\n",
    "    np.sum(\n",
    "        [\n",
    "            np.linalg.norm(y_2 - y_1) ** 2 / (len(Y_1) * len(Y_2))\n",
    "            for y_1 in Y_1\n",
    "            for y_2 in Y_2\n",
    "        ]\n",
    "    )\n",
    "    for Y_1, Y_2 in features\n",
    "]\n",
    "N = len(Y)"
   ]
  },
  {
   "cell_type": "code",
   "execution_count": 21,
   "metadata": {},
   "outputs": [
    {
     "data": {
      "image/png": "[encoded data removed]",
      "text/plain": [
       "<Figure size 640x480 with 1 Axes>"
      ]
     },
     "metadata": {},
     "output_type": "display_data"
    }
   ],
   "source": [
    "## Comparison\n",
    "\n",
    "eta_h, eta_y = 0.0020877677068522342, 0.10208116909174215  # default\n",
    "f = 10\n",
    "eta_h, eta_y = eta_h / f, eta_y / f\n",
    "\n",
    "eta_y_mean = 3 * eta_y\n",
    "\n",
    "# epochs = np.arange(10000)\n",
    "\n",
    "dx2 = 2\n",
    "w0 = 0\n",
    "D0 = 1e-10\n",
    "\n",
    "h0 = D0 * dx2\n",
    "y0 = D0**2 * dx2\n",
    "\n",
    "y0_mean = y0 + np.max(dys)\n",
    "\n",
    "\n",
    "t_max = 10000\n",
    "t = np.linspace(0, t_max, 10000)\n",
    "\n",
    "\n",
    "def get_z(dy2):\n",
    "    sol = scipy.integrate.solve_ivp(\n",
    "        simulate.der,\n",
    "        [0, t_max],\n",
    "        [h0, y0, w0],\n",
    "        args=[eta_h, eta_y, dx2, dy2],\n",
    "        dense_output=True,\n",
    "    )\n",
    "    z = sol.sol(t)\n",
    "    return z\n",
    "\n",
    "\n",
    "fig, ax = plt.subplots()\n",
    "\n",
    "losses = []\n",
    "for dy2 in dys:\n",
    "    z = get_z(dy2)\n",
    "    loss = simulate.loss(t, z, eta_y_mean, dy2, y0_mean)\n",
    "    losses.append(loss)\n",
    "    # plt.plot(t, loss, label=f\"{dy2:.2f}\")\n",
    "loss_total = np.sum(losses, axis=0) * (1 / N)\n",
    "\n",
    "plt.plot(t, loss_total, label=f\"loss\", color=\"#AF87CE\")\n",
    "\n",
    "ax.legend(loc=\"upper right\")\n",
    "plt.xlabel(\"Epochs\")\n",
    "plt.ylabel(\"loss\")\n",
    "plt.ylim(0, 1)\n",
    "# plt.show()\n",
    "pub_show(colors=\"gradient\")"
   ]
  }
 ],
 "metadata": {
  "kernelspec": {
   "display_name": "rnn",
   "language": "python",
   "name": "python3"
  },
  "language_info": {
   "codemirror_mode": {
    "name": "ipython",
    "version": 3
   },
   "file_extension": ".py",
   "mimetype": "text/x-python",
   "name": "python",
   "nbconvert_exporter": "python",
   "pygments_lexer": "ipython3",
   "version": "3.10.13"
  },
  "orig_nbformat": 4
 },
 "nbformat": 4,
 "nbformat_minor": 2
}
