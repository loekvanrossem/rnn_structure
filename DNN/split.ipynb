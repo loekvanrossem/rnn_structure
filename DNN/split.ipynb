{
 "cells": [
  {
   "cell_type": "code",
   "execution_count": 1,
   "metadata": {},
   "outputs": [],
   "source": [
    "import sys\n",
    "\n",
    "import random\n",
    "import numpy as np\n",
    "import matplotlib.pyplot as plt\n",
    "\n",
    "import torch\n",
    "import torchvision\n",
    "\n",
    "source = \"/home/loek/projects/rnn/source\"\n",
    "sys.path.append(source)\n",
    "\n",
    "from data_analysis.features import distxy_opt, distyy_opt, dist_split, feature_strength"
   ]
  },
  {
   "cell_type": "code",
   "execution_count": 2,
   "metadata": {},
   "outputs": [],
   "source": [
    "mnist = torchvision.datasets.MNIST(\"/home/loek/projects/rnn/DNN/data\", download=True)\n",
    "\n",
    "dataset_default = [(np.array(image, dtype=int), label) for image, label in mnist]\n",
    "dataset_hint = [\n",
    "    (255 - np.array(image, dtype=int), label)\n",
    "    if label == 9\n",
    "    else (np.array(image, dtype=int), label)\n",
    "    for image, label in mnist\n",
    "]\n",
    "dataset_random = [\n",
    "    (255 - np.array(image, dtype=int), label)\n",
    "    if random.random() > 0.5\n",
    "    else (np.array(image, dtype=int), label)\n",
    "    for image, label in mnist\n",
    "]\n",
    "dataset = dataset_hint"
   ]
  },
  {
   "cell_type": "code",
   "execution_count": 3,
   "metadata": {},
   "outputs": [],
   "source": [
    "metric_func = distxy_opt\n",
    "metric = lambda x, y: metric_func(x[0], y[0], x[1], y[1])"
   ]
  },
  {
   "cell_type": "code",
   "execution_count": 5,
   "metadata": {},
   "outputs": [],
   "source": [
    "dataset = random.sample(dataset, 10000)"
   ]
  },
  {
   "cell_type": "code",
   "execution_count": 11,
   "metadata": {},
   "outputs": [
    {
     "name": "stderr",
     "output_type": "stream",
     "text": [
      "100%|██████████| 998/998 [00:21<00:00, 46.36it/s]\n",
      "100%|██████████| 1138/1138 [00:23<00:00, 48.13it/s]\n",
      "100%|██████████| 1061/1061 [00:22<00:00, 48.13it/s]\n",
      "100%|██████████| 1078/1078 [00:24<00:00, 43.58it/s]\n",
      "100%|██████████| 924/924 [00:20<00:00, 45.84it/s]\n",
      "100%|██████████| 870/870 [00:18<00:00, 47.07it/s]\n",
      "100%|██████████| 995/995 [00:21<00:00, 47.22it/s]\n",
      "100%|██████████| 1016/1016 [00:21<00:00, 47.14it/s]\n",
      "100%|██████████| 959/959 [00:22<00:00, 42.17it/s]\n",
      "100%|██████████| 961/961 [00:20<00:00, 46.83it/s]\n"
     ]
    },
    {
     "data": {
      "image/png": "[encoded data removed]",
      "text/plain": [
       "<Figure size 640x480 with 1 Axes>"
      ]
     },
     "metadata": {},
     "output_type": "display_data"
    }
   ],
   "source": [
    "feature_strengths = []\n",
    "for n in range(10):\n",
    "    class_A = [point for point in dataset if point[1] == n]\n",
    "    class_B = [point for point in dataset if point[1] != n]\n",
    "\n",
    "    feature_strengths.append(feature_strength([class_A, class_B], metric))\n",
    "\n",
    "plt.hist(feature_strengths)\n",
    "plt.title(\"Feature strengths\")\n",
    "plt.show()"
   ]
  },
  {
   "cell_type": "code",
   "execution_count": 17,
   "metadata": {},
   "outputs": [
    {
     "data": {
      "image/png": "[encoded data removed]",
      "text/plain": [
       "<Figure size 640x480 with 1 Axes>"
      ]
     },
     "metadata": {},
     "output_type": "display_data"
    }
   ],
   "source": [
    "plt.bar(np.arange(10), feature_strengths)\n",
    "plt.title(\"Feature strengths\")\n",
    "plt.show()"
   ]
  },
  {
   "cell_type": "code",
   "execution_count": null,
   "metadata": {},
   "outputs": [],
   "source": [
    "class_A, class_B = dist_split(dataset, metric, n_iter=200000, n_sample=1000)"
   ]
  },
  {
   "cell_type": "code",
   "execution_count": null,
   "metadata": {},
   "outputs": [],
   "source": [
    "av_A = np.sum([np.array(image) for image, label in class_A], axis=0) / len(class_A)\n",
    "plt.figure(figsize=(2, 2))\n",
    "plt.imshow(av_A)\n",
    "plt.title(\"Average class A\")\n",
    "plt.show()\n",
    "av_B = np.sum([np.array(image) for image, label in class_B], axis=0) / len(class_A)\n",
    "plt.figure(figsize=(2, 2))\n",
    "plt.imshow(av_B)\n",
    "plt.title(\"Average class B\")\n",
    "plt.show()\n",
    "labels_A = [label for image, label in class_A]\n",
    "plt.figure(figsize=(4, 3))\n",
    "plt.hist(labels_A)\n",
    "plt.title(\"Labels A\")\n",
    "plt.show()\n",
    "labels_B = [label for image, label in class_B]\n",
    "plt.figure(figsize=(4, 3))\n",
    "plt.hist(labels_B)\n",
    "plt.title(\"Labels B\")\n",
    "plt.show()"
   ]
  }
 ],
 "metadata": {
  "kernelspec": {
   "display_name": "rnn",
   "language": "python",
   "name": "python3"
  },
  "language_info": {
   "codemirror_mode": {
    "name": "ipython",
    "version": 3
   },
   "file_extension": ".py",
   "mimetype": "text/x-python",
   "name": "python",
   "nbconvert_exporter": "python",
   "pygments_lexer": "ipython3",
   "version": "3.10.12"
  },
  "orig_nbformat": 4
 },
 "nbformat": 4,
 "nbformat_minor": 2
}
