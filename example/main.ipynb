{
 "cells": [
  {
   "cell_type": "code",
   "execution_count": 1,
   "metadata": {},
   "outputs": [
    {
     "name": "stdout",
     "output_type": "stream",
     "text": [
      "GPU is available\n"
     ]
    }
   ],
   "source": [
    "import sys\n",
    "import numpy as np\n",
    "import matplotlib.pyplot as plt\n",
    "import pandas as pd\n",
    "from tqdm import trange\n",
    "\n",
    "import torch\n",
    "from torch import nn\n",
    "\n",
    "source = \"../source\"\n",
    "sys.path.append(source)\n",
    "\n",
    "\n",
    "from data import seq_data\n",
    "from preprocessing import OneHot\n",
    "from compilation import Compiler, ScalarTracker, ActivationTracker\n",
    "from data_analysis.automata import to_automaton_history\n",
    "from visualization.animation import SliderAnimation\n",
    "from visualization.activations import ActivationsAnimation\n",
    "from visualization.automata import AutomatonAnimation\n",
    "from visualization.epochs import EpochAnimation\n",
    "\n",
    "from model import Model\n",
    "import publication\n",
    "\n",
    "is_cuda = torch.cuda.is_available()\n",
    "if is_cuda:\n",
    "    device = torch.device(\"cuda\")\n",
    "    print(\"GPU is available\")\n",
    "else:\n",
    "    device = torch.device(\"cpu\")\n",
    "    print(\"GPU not available, CPU used\")"
   ]
  },
  {
   "cell_type": "code",
   "execution_count": 2,
   "metadata": {},
   "outputs": [],
   "source": [
    "save = True"
   ]
  },
  {
   "cell_type": "code",
   "execution_count": 3,
   "metadata": {},
   "outputs": [],
   "source": [
    "## Load settings\n",
    "settings = \"lazy\"\n",
    "\n",
    "(nonlinearity, gain, lr, P, L, n_epochs) = (\n",
    "    pd.read_csv(\"model settings/rnn.txt\", sep=\" \", header=0).loc[settings].to_numpy()\n",
    ")\n",
    "P, L, n_epochs = int(P), int(L), int(n_epochs)"
   ]
  },
  {
   "cell_type": "code",
   "execution_count": 4,
   "metadata": {},
   "outputs": [],
   "source": [
    "## Generate data\n",
    "\n",
    "# Define problem and data encoding\n",
    "symbols = [0, 1]\n",
    "encoding = OneHot(symbols)\n",
    "problem = lambda seq: np.sum(seq) % 2  # XOR problem\n",
    "\n",
    "# Define sequence lengths for training and validation datasets\n",
    "train_seq_lengths = [1, 2, 3, 4, 5, 6, 7]\n",
    "analysis_seq_lengths = [1, 2, 3, 4, 5, 6, 7, 8]\n",
    "val_seq_length = 20\n",
    "val_datapoints = 50\n",
    "\n",
    "# Generate datasets\n",
    "training_datasets = [\n",
    "    seq_data(device, problem, encoding, seq_len=length) for length in train_seq_lengths\n",
    "]\n",
    "validation_datasets = [\n",
    "    seq_data(\n",
    "        device, problem, encoding, n_datapoints=val_datapoints, seq_len=val_seq_length\n",
    "    )\n",
    "]\n",
    "analysis_data = [\n",
    "    seq_data(device, problem, encoding, seq_len=length)\n",
    "    for length in analysis_seq_lengths\n",
    "]\n",
    "tracked_datasets = validation_datasets + analysis_data + training_datasets"
   ]
  },
  {
   "cell_type": "code",
   "execution_count": 5,
   "metadata": {},
   "outputs": [],
   "source": [
    "## Instantiate model\n",
    "model = Model(\n",
    "    encoding=encoding,\n",
    "    input_size=2,\n",
    "    output_size=2,\n",
    "    hidden_dim=P,\n",
    "    n_layers=L,\n",
    "    device=device,\n",
    "    nonlinearity=nonlinearity,\n",
    "    gain=gain,\n",
    ")"
   ]
  },
  {
   "cell_type": "code",
   "execution_count": 6,
   "metadata": {},
   "outputs": [],
   "source": [
    "## Setup compiler\n",
    "criterion = nn.MSELoss()\n",
    "optimizer = torch.optim.Adam(model.parameters(), lr=lr, amsgrad=True)\n",
    "compiler = Compiler(model, criterion, optimizer)\n",
    "initial_hidden = model.init_hidden(batch_size=1)[-1]\n",
    "compiler.trackers = {\n",
    "    \"loss\": ScalarTracker(lambda: compiler.validation(tracked_datasets)),\n",
    "    \"hidden\": ActivationTracker(\n",
    "        model,\n",
    "        lambda inputs: model(inputs)[1][-1],\n",
    "        analysis_data,\n",
    "        initial=lambda: initial_hidden,\n",
    "    ),\n",
    "    \"output\": ActivationTracker(model, lambda inputs: model(inputs)[0], analysis_data),\n",
    "}"
   ]
  },
  {
   "cell_type": "code",
   "execution_count": 7,
   "metadata": {},
   "outputs": [
    {
     "name": "stderr",
     "output_type": "stream",
     "text": [
      "Training: 100%|██████████| 1000/1000 [03:37<00:00,  4.59steps/s, train_loss=0.00013, val_loss=0.27494]\n"
     ]
    }
   ],
   "source": [
    "## Training run\n",
    "compiler.training_run(\n",
    "    training_datasets,\n",
    "    n_epochs=n_epochs,\n",
    "    batch_size=64,\n",
    ")"
   ]
  },
  {
   "cell_type": "code",
   "execution_count": 8,
   "metadata": {},
   "outputs": [
    {
     "name": "stderr",
     "output_type": "stream",
     "text": [
      "Computing automata:  28%|██▊       | 276/1000 [01:02<02:42,  4.45it/s]\n"
     ]
    },
    {
     "ename": "KeyboardInterrupt",
     "evalue": "",
     "output_type": "error",
     "traceback": [
      "\u001b[0;31m---------------------------------------------------------------------------\u001b[0m",
      "\u001b[0;31mKeyboardInterrupt\u001b[0m                         Traceback (most recent call last)",
      "Cell \u001b[0;32mIn[8], line 16\u001b[0m\n\u001b[1;32m     13\u001b[0m std \u001b[38;5;241m=\u001b[39m \u001b[38;5;28mfloat\u001b[39m(np\u001b[38;5;241m.\u001b[39mlinalg\u001b[38;5;241m.\u001b[39mnorm(data_hid\u001b[38;5;241m.\u001b[39mstd()))\n\u001b[1;32m     14\u001b[0m n_points \u001b[38;5;241m=\u001b[39m \u001b[38;5;28mlen\u001b[39m(data_hid\u001b[38;5;241m.\u001b[39mquery(\u001b[38;5;124m\"\u001b[39m\u001b[38;5;124mEpoch == 0\u001b[39m\u001b[38;5;124m\"\u001b[39m))\n\u001b[0;32m---> 16\u001b[0m automaton_history \u001b[38;5;241m=\u001b[39m \u001b[43mto_automaton_history\u001b[49m\u001b[43m(\u001b[49m\n\u001b[1;32m     17\u001b[0m \u001b[43m    \u001b[49m\u001b[43mdata_hid\u001b[49m\u001b[43m,\u001b[49m\u001b[43m \u001b[49m\u001b[43mdata_output\u001b[49m\u001b[43m,\u001b[49m\u001b[43m \u001b[49m\u001b[43mmerge_distance\u001b[49m\u001b[38;5;241;43m=\u001b[39;49m\u001b[38;5;241;43m0.2\u001b[39;49m\u001b[43m \u001b[49m\u001b[38;5;241;43m*\u001b[39;49m\u001b[43m \u001b[49m\u001b[43mstd\u001b[49m\n\u001b[1;32m     18\u001b[0m \u001b[43m)\u001b[49m\n\u001b[1;32m     19\u001b[0m loss \u001b[38;5;241m=\u001b[39m compiler\u001b[38;5;241m.\u001b[39mtrackers[\u001b[38;5;124m\"\u001b[39m\u001b[38;5;124mloss\u001b[39m\u001b[38;5;124m\"\u001b[39m]\u001b[38;5;241m.\u001b[39mget_trace()\n\u001b[1;32m     20\u001b[0m val_loss \u001b[38;5;241m=\u001b[39m loss\u001b[38;5;241m.\u001b[39mquery(\u001b[38;5;124m\"\u001b[39m\u001b[38;5;124mDataset==0\u001b[39m\u001b[38;5;124m\"\u001b[39m)[\u001b[38;5;241m0\u001b[39m]\u001b[38;5;241m.\u001b[39mto_numpy()\n",
      "File \u001b[0;32m~/projects/rnn_structure/example/../source/data_analysis/automata.py:238\u001b[0m, in \u001b[0;36mto_automaton_history\u001b[0;34m(hidden_states, output_values, merge_distance)\u001b[0m\n\u001b[1;32m    233\u001b[0m \u001b[38;5;28;01mfor\u001b[39;00m epoch, hidden_states_current \u001b[38;5;129;01min\u001b[39;00m tqdm(\n\u001b[1;32m    234\u001b[0m     hidden_states\u001b[38;5;241m.\u001b[39mgroupby(\u001b[38;5;124m\"\u001b[39m\u001b[38;5;124mEpoch\u001b[39m\u001b[38;5;124m\"\u001b[39m), desc\u001b[38;5;241m=\u001b[39m\u001b[38;5;124m\"\u001b[39m\u001b[38;5;124mComputing automata\u001b[39m\u001b[38;5;124m\"\u001b[39m\n\u001b[1;32m    235\u001b[0m ):\n\u001b[1;32m    236\u001b[0m     \u001b[38;5;66;03m# Get states\u001b[39;00m\n\u001b[1;32m    237\u001b[0m     states_this_epoch \u001b[38;5;241m=\u001b[39m []\n\u001b[0;32m--> 238\u001b[0m     grouped_activations \u001b[38;5;241m=\u001b[39m \u001b[43mgroup_activations\u001b[49m\u001b[43m(\u001b[49m\u001b[43mhidden_states_current\u001b[49m\u001b[43m,\u001b[49m\u001b[43m \u001b[49m\u001b[43mmerge_distance\u001b[49m\u001b[43m)\u001b[49m\n\u001b[1;32m    239\u001b[0m     \u001b[38;5;28;01mfor\u001b[39;00m group, _ \u001b[38;5;129;01min\u001b[39;00m grouped_activations:\n\u001b[1;32m    240\u001b[0m         state_name \u001b[38;5;241m=\u001b[39m \u001b[38;5;124m\"\u001b[39m\u001b[38;5;124m, \u001b[39m\u001b[38;5;124m\"\u001b[39m\u001b[38;5;241m.\u001b[39mjoin(group)\n",
      "File \u001b[0;32m~/projects/rnn_structure/example/../source/data_analysis/automata.py:192\u001b[0m, in \u001b[0;36mgroup_activations\u001b[0;34m(hidden_states, merge_distance)\u001b[0m\n\u001b[1;32m    190\u001b[0m activation \u001b[38;5;241m=\u001b[39m np\u001b[38;5;241m.\u001b[39marray(activations)[\u001b[38;5;241m0\u001b[39m]\n\u001b[1;32m    191\u001b[0m \u001b[38;5;28;01mfor\u001b[39;00m group \u001b[38;5;129;01min\u001b[39;00m grouped_activations:\n\u001b[0;32m--> 192\u001b[0m     \u001b[38;5;28;01mif\u001b[39;00m \u001b[43mnp\u001b[49m\u001b[38;5;241;43m.\u001b[39;49m\u001b[43mlinalg\u001b[49m\u001b[38;5;241;43m.\u001b[39;49m\u001b[43mnorm\u001b[49m\u001b[43m(\u001b[49m\u001b[43mactivation\u001b[49m\u001b[43m \u001b[49m\u001b[38;5;241;43m-\u001b[39;49m\u001b[43m \u001b[49m\u001b[43mgroup\u001b[49m\u001b[43m[\u001b[49m\u001b[38;5;241;43m1\u001b[39;49m\u001b[43m]\u001b[49m\u001b[43m[\u001b[49m\u001b[38;5;241;43m0\u001b[39;49m\u001b[43m]\u001b[49m\u001b[43m)\u001b[49m \u001b[38;5;241m<\u001b[39m merge_distance:\n\u001b[1;32m    193\u001b[0m         group[\u001b[38;5;241m0\u001b[39m]\u001b[38;5;241m.\u001b[39mappend(input_string)\n\u001b[1;32m    194\u001b[0m         group[\u001b[38;5;241m1\u001b[39m]\u001b[38;5;241m.\u001b[39mappend(activation)\n",
      "File \u001b[0;32m~/miniconda3/envs/rnn_structure/lib/python3.12/site-packages/numpy/linalg/linalg.py:2546\u001b[0m, in \u001b[0;36mnorm\u001b[0;34m(x, ord, axis, keepdims)\u001b[0m\n\u001b[1;32m   2541\u001b[0m ndim \u001b[38;5;241m=\u001b[39m x\u001b[38;5;241m.\u001b[39mndim\n\u001b[1;32m   2542\u001b[0m \u001b[38;5;28;01mif\u001b[39;00m ((\u001b[38;5;28mord\u001b[39m \u001b[38;5;129;01mis\u001b[39;00m \u001b[38;5;28;01mNone\u001b[39;00m) \u001b[38;5;129;01mor\u001b[39;00m\n\u001b[1;32m   2543\u001b[0m     (\u001b[38;5;28mord\u001b[39m \u001b[38;5;129;01min\u001b[39;00m (\u001b[38;5;124m'\u001b[39m\u001b[38;5;124mf\u001b[39m\u001b[38;5;124m'\u001b[39m, \u001b[38;5;124m'\u001b[39m\u001b[38;5;124mfro\u001b[39m\u001b[38;5;124m'\u001b[39m) \u001b[38;5;129;01mand\u001b[39;00m ndim \u001b[38;5;241m==\u001b[39m \u001b[38;5;241m2\u001b[39m) \u001b[38;5;129;01mor\u001b[39;00m\n\u001b[1;32m   2544\u001b[0m     (\u001b[38;5;28mord\u001b[39m \u001b[38;5;241m==\u001b[39m \u001b[38;5;241m2\u001b[39m \u001b[38;5;129;01mand\u001b[39;00m ndim \u001b[38;5;241m==\u001b[39m \u001b[38;5;241m1\u001b[39m)):\n\u001b[0;32m-> 2546\u001b[0m     x \u001b[38;5;241m=\u001b[39m \u001b[43mx\u001b[49m\u001b[38;5;241;43m.\u001b[39;49m\u001b[43mravel\u001b[49m\u001b[43m(\u001b[49m\u001b[43morder\u001b[49m\u001b[38;5;241;43m=\u001b[39;49m\u001b[38;5;124;43m'\u001b[39;49m\u001b[38;5;124;43mK\u001b[39;49m\u001b[38;5;124;43m'\u001b[39;49m\u001b[43m)\u001b[49m\n\u001b[1;32m   2547\u001b[0m     \u001b[38;5;28;01mif\u001b[39;00m isComplexType(x\u001b[38;5;241m.\u001b[39mdtype\u001b[38;5;241m.\u001b[39mtype):\n\u001b[1;32m   2548\u001b[0m         x_real \u001b[38;5;241m=\u001b[39m x\u001b[38;5;241m.\u001b[39mreal\n",
      "\u001b[0;31mKeyboardInterrupt\u001b[0m: "
     ]
    }
   ],
   "source": [
    "## Visualize automaton dynamics\n",
    "\n",
    "# Filter and process data for visualization\n",
    "data_hid = compiler.trackers[\"hidden\"].get_trace()\n",
    "data_output = compiler.trackers[\"output\"].get_trace()\n",
    "query = \"(Dataset < 10) \"\n",
    "data_hid = data_hid.query(query).copy()\n",
    "data_output = data_output.query(query).copy()\n",
    "\n",
    "epochs = list(set(data_hid.index.get_level_values(\"Epoch\")))\n",
    "epochs.sort()\n",
    "\n",
    "std = float(np.linalg.norm(data_hid.std()))\n",
    "n_points = len(data_hid.query(\"Epoch == 0\"))\n",
    "\n",
    "automaton_history = to_automaton_history(\n",
    "    data_hid, data_output, merge_distance=0.2 * std\n",
    ")\n",
    "loss = compiler.trackers[\"loss\"].get_trace()\n",
    "val_loss = loss.query(\"Dataset==0\")[0].to_numpy()\n",
    "train_loss = loss.query(\"Dataset>0\").groupby(\"Epoch\").mean()\n",
    "n_states = np.array([len(automaton.states) for automaton in automaton_history])\n",
    "\n",
    "# Create animation\n",
    "publication.set_color_mixed()\n",
    "animation = SliderAnimation(\n",
    "    {\n",
    "        \"Hidden representations\": ActivationsAnimation(\n",
    "            data_hid, transform=\"PCA\", colors=[5] * n_points\n",
    "        ),\n",
    "        \"Output\": ActivationsAnimation(\n",
    "            data_output,\n",
    "            transform=\"none\",\n",
    "            fixed_points=encoding.encoding,\n",
    "            colors=[6] * n_points,\n",
    "        ),\n",
    "        \"Automaton\": AutomatonAnimation(automaton_history),\n",
    "        \"Loss\": EpochAnimation(\n",
    "            graphs={\n",
    "                \"Training loss\": train_loss,\n",
    "                \"Validation loss\": val_loss,\n",
    "            },\n",
    "            unitless_graphs={\n",
    "                \"Number of states\": n_states,\n",
    "            },\n",
    "            y_bounds=(0, 1),\n",
    "        ),\n",
    "    },\n",
    "    parameters=epochs,\n",
    "    parameter_name=\"Epoch\",\n",
    "    fig_size=4,\n",
    ")\n",
    "\n",
    "# Optionally export the animation\n",
    "if save:\n",
    "    animation.to_gif(f\"plots/automaton_dynamics_{settings}\")"
   ]
  },
  {
   "cell_type": "code",
   "execution_count": null,
   "metadata": {},
   "outputs": [
    {
     "name": "stderr",
     "output_type": "stream",
     "text": [
      "100%|██████████| 100/100 [00:00<00:00, 171.83it/s]\n"
     ]
    },
    {
     "data": {
      "image/png": "[encoded data removed]",
      "text/plain": [
       "<Figure size 600x400 with 1 Axes>"
      ]
     },
     "metadata": {},
     "output_type": "display_data"
    }
   ],
   "source": [
    "## Check for large sequence length generalization\n",
    "\n",
    "# Evaluate model generalization for sequences of varying lengths\n",
    "N = 100\n",
    "val_data = []\n",
    "for n in trange(1, N + 1):\n",
    "    val_data.append(seq_data(device, problem, encoding, n_datapoints=100, seq_len=n))\n",
    "val_err = compiler.validation(val_data).to_numpy()[:, 0]\n",
    "\n",
    "# Visualize validation error for varying sequence lengths\n",
    "publication.set_color_mixed()\n",
    "fig = plt.figure(figsize=(6, 4))\n",
    "ax = fig.add_axes([0.1, 0.1, 0.8, 0.8])\n",
    "ax.bar(np.arange(1, N + 1), val_err, color=\"skyblue\")\n",
    "ax.set_xlabel(\"Sequence lengths\")\n",
    "ax.set_ylabel(\"Validation error\")\n",
    "ax.set_title(\"Model Generalization Across Sequence Lengths\")\n",
    "ax.set_yticks(np.arange(0, 1, 0.1))\n",
    "if save:\n",
    "    publication.pub_show(save_path=f\"plots/validation_error_{settings}\")\n",
    "else:\n",
    "    publication.pub_show()"
   ]
  }
 ],
 "metadata": {
  "kernelspec": {
   "display_name": "Python 3.10.6 ('rnn')",
   "language": "python",
   "name": "python3"
  },
  "language_info": {
   "codemirror_mode": {
    "name": "ipython",
    "version": 3
   },
   "file_extension": ".py",
   "mimetype": "text/x-python",
   "name": "python",
   "nbconvert_exporter": "python",
   "pygments_lexer": "ipython3",
   "version": "3.12.2"
  },
  "orig_nbformat": 4,
  "vscode": {
   "interpreter": {
    "hash": "e02af9847f8f14625728f2f7147d07d87bda9043f1b0a8cf0822fa7c64756065"
   }
  }
 },
 "nbformat": 4,
 "nbformat_minor": 2
}
